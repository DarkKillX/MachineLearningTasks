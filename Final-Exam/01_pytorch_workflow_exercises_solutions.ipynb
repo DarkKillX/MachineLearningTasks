{
  "nbformat": 4,
  "nbformat_minor": 0,
  "metadata": {
    "colab": {
      "name": "01_pytorch_workflow_exercises.ipynb",
      "provenance": [],
      "include_colab_link": true
    },
    "kernelspec": {
      "name": "python3",
      "display_name": "Python 3"
    },
    "language_info": {
      "name": "python"
    },
    "accelerator": "GPU"
  },
  "cells": [
    {
      "cell_type": "markdown",
      "metadata": {
        "id": "view-in-github",
        "colab_type": "text"
      },
      "source": [
        "<a href=\"https://colab.research.google.com/github/DarkKillX/MachineLearningTasks/blob/main/Final-Exam/01_pytorch_workflow_exercises_solutions.ipynb\" target=\"_parent\"><img src=\"https://colab.research.google.com/assets/colab-badge.svg\" alt=\"Open In Colab\"/></a>"
      ]
    },
    {
      "cell_type": "markdown",
      "source": [
        "# 01. PyTorch Workflow Exercise Template\n",
        "\n",
        "The following is a template for the PyTorch workflow exercises.\n",
        "\n",
        "It's only starter code and it's your job to fill in the blanks.\n",
        "\n",
        "Because of the flexibility of PyTorch, there may be more than one way to answer the question.\n",
        "\n",
        "Don't worry about trying to be *right* just try writing code that suffices the question.\n",
        "\n",
        "You can see one form of [solutions on GitHub](https://github.com/mrdbourke/pytorch-deep-learning/tree/main/extras/solutions) (but try the exercises below yourself first!)."
      ],
      "metadata": {
        "id": "N8LsPXZti9Sw"
      }
    },
    {
      "cell_type": "code",
      "source": [
        "# Import necessary libraries\n",
        "import torch\n",
        "import matplotlib.pyplot as plt\n",
        "from torch import nn"
      ],
      "metadata": {
        "id": "Glu2fM4dkNlx"
      },
      "execution_count": 2,
      "outputs": []
    },
    {
      "cell_type": "code",
      "source": [
        "# Setup device-agnostic code\n",
        "# Check if CUDA (GPU support) is available\n",
        "device = \"cuda\" if torch.cuda.is_available() else \"cpu\"\n",
        "\n",
        "# Print out the device we're using\n",
        "print(f\"Using device: {device}\")"
      ],
      "metadata": {
        "id": "LqKhXY26m31s",
        "colab": {
          "base_uri": "https://localhost:8080/"
        },
        "outputId": "17a36924-a7a2-4c74-d93e-02a1c40379e2"
      },
      "execution_count": 3,
      "outputs": [
        {
          "output_type": "stream",
          "name": "stdout",
          "text": [
            "Using device: cuda\n"
          ]
        }
      ]
    },
    {
      "cell_type": "markdown",
      "source": [
        "## 1. Create a straight line dataset using the linear regression formula (`weight * X + bias`).\n",
        "  * Set `weight=0.3` and `bias=0.9` there should be at least 100 datapoints total.\n",
        "  * Split the data into 80% training, 20% testing.\n",
        "  * Plot the training and testing data so it becomes visual.\n",
        "\n",
        "Your output of the below cell should look something like:\n",
        "```\n",
        "Number of X samples: 100\n",
        "Number of y samples: 100\n",
        "First 10 X & y samples:\n",
        "X: tensor([0.0000, 0.0100, 0.0200, 0.0300, 0.0400, 0.0500, 0.0600, 0.0700, 0.0800,\n",
        "        0.0900])\n",
        "y: tensor([0.9000, 0.9030, 0.9060, 0.9090, 0.9120, 0.9150, 0.9180, 0.9210, 0.9240,\n",
        "        0.9270])\n",
        "```\n",
        "\n",
        "Of course the numbers in `X` and `y` may be different but ideally they're created using the linear regression formula."
      ],
      "metadata": {
        "id": "g7HUhxCxjeBx"
      }
    },
    {
      "cell_type": "code",
      "source": [
        "import torch\n",
        "\n",
        "# Create the data parameters\n",
        "weight = 0.3\n",
        "bias = 0.9\n",
        "\n",
        "# Generate 100 data points\n",
        "X = torch.linspace(0, 1, 100).unsqueeze(1)  # X values (features) - unsqueeze to add an extra dimension\n",
        "y = weight * X + bias  # y values (labels) using the linear equation y = weight * X + bias\n",
        "\n",
        "print(f\"Number of X samples: {len(X)}\")\n",
        "print(f\"Number of y samples: {len(y)}\")\n",
        "print(f\"First 10 X & y samples:\\nX: {X[:10]}\\ny: {y[:10]}\")\n"
      ],
      "metadata": {
        "id": "KbDG5MV7jhvE",
        "colab": {
          "base_uri": "https://localhost:8080/"
        },
        "outputId": "8c6312e8-5f4e-465e-cbad-fd1aaadacb7b"
      },
      "execution_count": 4,
      "outputs": [
        {
          "output_type": "stream",
          "name": "stdout",
          "text": [
            "Number of X samples: 100\n",
            "Number of y samples: 100\n",
            "First 10 X & y samples:\n",
            "X: tensor([[0.0000],\n",
            "        [0.0101],\n",
            "        [0.0202],\n",
            "        [0.0303],\n",
            "        [0.0404],\n",
            "        [0.0505],\n",
            "        [0.0606],\n",
            "        [0.0707],\n",
            "        [0.0808],\n",
            "        [0.0909]])\n",
            "y: tensor([[0.9000],\n",
            "        [0.9030],\n",
            "        [0.9061],\n",
            "        [0.9091],\n",
            "        [0.9121],\n",
            "        [0.9152],\n",
            "        [0.9182],\n",
            "        [0.9212],\n",
            "        [0.9242],\n",
            "        [0.9273]])\n"
          ]
        }
      ]
    },
    {
      "cell_type": "code",
      "source": [
        "# Determine the split size\n",
        "train_size = int(0.8 * len(X))\n",
        "test_size = len(X) - train_size\n",
        "\n",
        "# Split the dataset into training and testing sets\n",
        "X_train, X_test = X[:train_size], X[train_size:]\n",
        "y_train, y_test = y[:train_size], y[train_size:]\n",
        "\n",
        "print(f\"Training data shape: X_train: {X_train.shape}, y_train: {y_train.shape}\")\n",
        "print(f\"Testing data shape: X_test: {X_test.shape}, y_test: {y_test.shape}\")\n",
        "\n"
      ],
      "metadata": {
        "id": "GlwtT1djkmLw",
        "colab": {
          "base_uri": "https://localhost:8080/"
        },
        "outputId": "4866f2a2-7ac7-4f5a-a147-91470cf283ec"
      },
      "execution_count": 5,
      "outputs": [
        {
          "output_type": "stream",
          "name": "stdout",
          "text": [
            "Training data shape: X_train: torch.Size([80, 1]), y_train: torch.Size([80, 1])\n",
            "Testing data shape: X_test: torch.Size([20, 1]), y_test: torch.Size([20, 1])\n"
          ]
        }
      ]
    },
    {
      "cell_type": "code",
      "source": [
        "import matplotlib.pyplot as plt\n",
        "\n",
        "# Plot training data in blue\n",
        "plt.scatter(X_train, y_train, color='blue', label='Training data')\n",
        "\n",
        "# Plot testing data in orange\n",
        "plt.scatter(X_test, y_test, color='orange', label='Testing data')\n",
        "\n",
        "# Add title and labels\n",
        "plt.title(\"Training and Testing Data\")\n",
        "plt.xlabel(\"X\")\n",
        "plt.ylabel(\"y\")\n",
        "plt.legend()\n",
        "\n",
        "# Show the plot\n",
        "plt.show()\n"
      ],
      "metadata": {
        "id": "29iQZFNhlYJ-",
        "colab": {
          "base_uri": "https://localhost:8080/",
          "height": 472
        },
        "outputId": "57eeec26-81f6-4260-e2cf-b99887b484ea"
      },
      "execution_count": 6,
      "outputs": [
        {
          "output_type": "display_data",
          "data": {
            "text/plain": [
              "<Figure size 640x480 with 1 Axes>"
            ],
            "image/png": "[encoded data removed]"
          },
          "metadata": {}
        }
      ]
    },
    {
      "cell_type": "markdown",
      "source": [
        "## 2. Build a PyTorch model by subclassing `nn.Module`.\n",
        "  * Inside should be a randomly initialized `nn.Parameter()` with `requires_grad=True`, one for `weights` and one for `bias`.\n",
        "  * Implement the `forward()` method to compute the linear regression function you used to create the dataset in 1.\n",
        "  * Once you've constructed the model, make an instance of it and check its `state_dict()`.\n",
        "  * **Note:** If you'd like to use `nn.Linear()` instead of `nn.Parameter()` you can."
      ],
      "metadata": {
        "id": "ImZoe3v8jif8"
      }
    },
    {
      "cell_type": "code",
      "source": [
        "# Create PyTorch linear regression model by subclassing nn.Module\n",
        "import torch.nn as nn\n",
        "\n",
        "# Define the Linear Regression Model\n",
        "class LinearRegressionModel(nn.Module):\n",
        "    def __init__(self):\n",
        "        super(LinearRegressionModel, self).__init__()\n",
        "        self.linear = nn.Linear(1, 1)  # One input and one output\n",
        "\n",
        "    def forward(self, x):\n",
        "        return self.linear(x)\n",
        "\n",
        "# Instantiate the model and move it to the device\n",
        "model = LinearRegressionModel().to(device)\n"
      ],
      "metadata": {
        "id": "qzd__Y5rjtB8"
      },
      "execution_count": 7,
      "outputs": []
    },
    {
      "cell_type": "code",
      "source": [
        "# Instantiate the model and put it to the target device\n",
        "model = LinearRegressionModel().to(device)\n"
      ],
      "metadata": {
        "id": "5LdcDnmOmyQ2",
        "colab": {
          "base_uri": "https://localhost:8080/"
        },
        "outputId": "37893853-289e-475a-ebd8-60bb5654645b"
      },
      "execution_count": 8,
      "outputs": [
        {
          "output_type": "stream",
          "name": "stdout",
          "text": [
            "Epoch: 0 | Train loss: 0.104 | Test loss: 0.142\n",
            "Epoch: 20 | Train loss: 0.086 | Test loss: 0.181\n",
            "Epoch: 40 | Train loss: 0.078 | Test loss: 0.178\n",
            "Epoch: 60 | Train loss: 0.071 | Test loss: 0.163\n",
            "Epoch: 80 | Train loss: 0.064 | Test loss: 0.147\n",
            "Epoch: 100 | Train loss: 0.057 | Test loss: 0.131\n",
            "Epoch: 120 | Train loss: 0.050 | Test loss: 0.116\n",
            "Epoch: 140 | Train loss: 0.043 | Test loss: 0.100\n",
            "Epoch: 160 | Train loss: 0.036 | Test loss: 0.084\n",
            "Epoch: 180 | Train loss: 0.029 | Test loss: 0.068\n",
            "Epoch: 200 | Train loss: 0.022 | Test loss: 0.052\n",
            "Epoch: 220 | Train loss: 0.015 | Test loss: 0.035\n",
            "Epoch: 240 | Train loss: 0.008 | Test loss: 0.018\n",
            "Epoch: 260 | Train loss: 0.003 | Test loss: 0.006\n",
            "Epoch: 280 | Train loss: 0.003 | Test loss: 0.006\n"
          ]
        }
      ]
    },
    {
      "cell_type": "markdown",
      "source": [
        "## 3. Create a loss function and optimizer using `nn.L1Loss()` and `torch.optim.SGD(params, lr)` respectively.\n",
        "  * Set the learning rate of the optimizer to be 0.01 and the parameters to optimize should be the model parameters from the model you created in 2.\n",
        "  * Write a training loop to perform the appropriate training steps for 300 epochs.\n",
        "  * The training loop should test the model on the test dataset every 20 epochs."
      ],
      "metadata": {
        "id": "G6nYOrJhjtfu"
      }
    },
    {
      "cell_type": "code",
      "source": [
        "# Create the loss function and optimizer\n",
        "# Loss Function and Optimizer\n",
        "loss_fn = nn.L1Loss()\n",
        "optimizer = torch.optim.SGD(model.parameters(), lr=0.01)\n",
        "\n",
        "# Training loop\n",
        "epochs = 300\n",
        "\n",
        "for epoch in range(epochs):\n",
        "    model.train()  # Put model in train mode\n",
        "\n",
        "    # Forward pass\n",
        "    y_pred = model(X_train.to(device))\n",
        "\n",
        "    # Calculate loss\n",
        "    loss = loss_fn(y_pred, y_train.to(device))\n",
        "\n",
        "    # Zero gradients\n",
        "    optimizer.zero_grad()\n",
        "\n",
        "    # Backpropagation\n",
        "    loss.backward()\n",
        "\n",
        "    # Step the optimizer\n",
        "    optimizer.step()\n",
        "\n",
        "    # Perform testing every 20 epochs\n",
        "    if epoch % 20 == 0:\n",
        "        model.eval()  # Put model in evaluation mode\n",
        "        with torch.no_grad():  # Setup inference context\n",
        "            test_pred = model(X_test.to(device))\n",
        "            test_loss = loss_fn(test_pred, y_test.to(device))\n",
        "            print(f\"Epoch: {epoch} | Train loss: {loss.item():.3f} | Test loss: {test_loss.item():.3f}\")\n"
      ],
      "metadata": {
        "id": "ltvoZ-FWjv1j",
        "colab": {
          "base_uri": "https://localhost:8080/"
        },
        "outputId": "be1a132e-d69d-4be4-f057-dce6d783a7c3"
      },
      "execution_count": 9,
      "outputs": [
        {
          "output_type": "stream",
          "name": "stdout",
          "text": [
            "Epoch: 0 | Train loss: 0.003 | Test loss: 0.006\n",
            "Epoch: 20 | Train loss: 0.003 | Test loss: 0.006\n",
            "Epoch: 40 | Train loss: 0.003 | Test loss: 0.006\n",
            "Epoch: 60 | Train loss: 0.003 | Test loss: 0.006\n",
            "Epoch: 80 | Train loss: 0.003 | Test loss: 0.006\n",
            "Epoch: 100 | Train loss: 0.003 | Test loss: 0.006\n",
            "Epoch: 120 | Train loss: 0.003 | Test loss: 0.006\n",
            "Epoch: 140 | Train loss: 0.003 | Test loss: 0.006\n",
            "Epoch: 160 | Train loss: 0.003 | Test loss: 0.006\n",
            "Epoch: 180 | Train loss: 0.003 | Test loss: 0.006\n",
            "Epoch: 200 | Train loss: 0.003 | Test loss: 0.006\n",
            "Epoch: 220 | Train loss: 0.003 | Test loss: 0.006\n",
            "Epoch: 240 | Train loss: 0.003 | Test loss: 0.006\n",
            "Epoch: 260 | Train loss: 0.003 | Test loss: 0.006\n",
            "Epoch: 280 | Train loss: 0.003 | Test loss: 0.006\n"
          ]
        }
      ]
    },
    {
      "cell_type": "markdown",
      "source": [
        "## 4. Make predictions with the trained model on the test data.\n",
        "  * Visualize these predictions against the original training and testing data (**note:** you may need to make sure the predictions are *not* on the GPU if you want to use non-CUDA-enabled libraries such as matplotlib to plot)."
      ],
      "metadata": {
        "id": "x4j4TM18jwa7"
      }
    },
    {
      "cell_type": "code",
      "source": [
        "# Make predictions with the model\n",
        "model.eval()\n",
        "with torch.no_grad():\n",
        "    predictions = model(X_test.to(device))\n",
        "\n",
        "# Plot the predictions\n",
        "plt.scatter(X_train.cpu(), y_train.cpu(), label='Training Data')\n",
        "plt.scatter(X_test.cpu(), y_test.cpu(), label='Testing Data')\n",
        "plt.plot(X_test.cpu(), predictions.cpu(), color='red', label='Predictions')\n",
        "plt.legend()\n",
        "plt.show()\n"
      ],
      "metadata": {
        "id": "bbMPK5Qjjyx_",
        "colab": {
          "base_uri": "https://localhost:8080/",
          "height": 430
        },
        "outputId": "bdd61815-9c47-41c0-89b0-8fb28837e04b"
      },
      "execution_count": 10,
      "outputs": [
        {
          "output_type": "display_data",
          "data": {
            "text/plain": [
              "<Figure size 640x480 with 1 Axes>"
            ],
            "image/png": "[encoded data removed]"
          },
          "metadata": {}
        }
      ]
    },
    {
      "cell_type": "markdown",
      "source": [
        "## 5. Save your trained model's `state_dict()` to file.\n",
        "  * Create a new instance of your model class you made in 2. and load in the `state_dict()` you just saved to it.\n",
        "  * Perform predictions on your test data with the loaded model and confirm they match the original model predictions from 4."
      ],
      "metadata": {
        "id": "s2OnlMWKjzX8"
      }
    },
    {
      "cell_type": "code",
      "source": [
        "# Create a directory to save the model\n",
        "Path(\"./models\").mkdir(parents=True, exist_ok=True)\n",
        "\n",
        "# Define the model save path\n",
        "model_save_path = \"./models/linear_regression_model.pth\"\n",
        "\n",
        "# Save the model state dict\n",
        "torch.save(model.state_dict(), model_save_path)\n",
        "\n",
        "# Create a new instance of the model and load the saved state dict\n",
        "loaded_model = LinearRegressionModel().to(device)\n",
        "loaded_model.load_state_dict(torch.load(model_save_path))\n",
        "\n",
        "# Make predictions with the loaded model\n",
        "loaded_model.eval()\n",
        "with torch.no_grad():\n",
        "    loaded_predictions = loaded_model(X_test.to(device))\n",
        "\n",
        "# Confirm the predictions match\n",
        "assert torch.all(torch.eq(predictions, loaded_predictions)), \"Loaded model predictions do not match\"\n"
      ],
      "metadata": {
        "id": "e1wPlfzqfGR7"
      },
      "execution_count": 17,
      "outputs": []
    }
  ]
}