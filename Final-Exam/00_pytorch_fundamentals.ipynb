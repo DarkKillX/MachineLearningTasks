{
  "cells": [
    {
      "cell_type": "markdown",
      "metadata": {
        "id": "view-in-github",
        "colab_type": "text"
      },
      "source": [
        "<a href=\"https://colab.research.google.com/github/DarkKillX/MachineLearningTasks/blob/main/Final-Exam/00_pytorch_fundamentals.ipynb\" target=\"_parent\"><img src=\"https://colab.research.google.com/assets/colab-badge.svg\" alt=\"Open In Colab\"/></a>"
      ]
    },
    {
      "cell_type": "markdown",
      "source": [
        "# **Dery Hidayat**\n",
        "\n",
        "\n",
        "## **1103228181**"
      ],
      "metadata": {
        "id": "fa3FIPzYJbjV"
      }
    },
    {
      "cell_type": "markdown",
      "metadata": {
        "id": "jSNK7duj5SeU"
      },
      "source": [
        "# 00. PyTorch Fundamentals\n",
        "\n",
        "## What is PyTorch?\n",
        "\n",
        "[PyTorch](https://pytorch.org/) is an open source machine learning and deep learning framework.\n",
        "\n",
        "## What can PyTorch be used for?\n",
        "\n",
        "PyTorch allows you to manipulate and process data and write machine learning algorithms using Python code.\n",
        "\n",
        "## Who uses PyTorch?\n",
        "\n",
        "Many of the worlds largest technology companies such as [Meta (Facebook)](https://ai.facebook.com/blog/pytorch-builds-the-future-of-ai-and-machine-learning-at-facebook/), Tesla and Microsoft as well as artificial intelligence research companies such as [OpenAI use PyTorch](https://openai.com/blog/openai-pytorch/) to power research and bring machine learning to their products.\n",
        "\n",
        "![pytorch being used across industry and research](https://raw.githubusercontent.com/mrdbourke/pytorch-deep-learning/main/images/00-pytorch-being-used-across-research-and-industry.png)\n",
        "\n",
        "For example, Andrej Karpathy (head of AI at Tesla) has given several talks ([PyTorch DevCon 2019](https://youtu.be/oBklltKXtDE), [Tesla AI Day 2021](https://youtu.be/j0z4FweCy4M?t=2904)) about how Tesla use PyTorch to power their self-driving computer vision models.\n",
        "\n",
        "PyTorch is also used in other industries such as agriculture to [power computer vision on tractors](https://medium.com/pytorch/ai-for-ag-production-machine-learning-for-agriculture-e8cfdb9849a1).\n",
        "\n",
        "## Why use PyTorch?\n",
        "\n",
        "Machine learning researchers love using PyTorch. And as of February 2022, PyTorch is the [most used deep learning framework on Papers With Code](https://paperswithcode.com/trends), a website for tracking machine learning research papers and the code repositories attached with them.\n",
        "\n",
        "PyTorch also helps take care of many things such as GPU acceleration (making your code run faster) behind the scenes.\n",
        "\n",
        "So you can focus on manipulating data and writing algorithms and PyTorch will make sure it runs fast.\n",
        "\n",
        "And if companies such as Tesla and Meta (Facebook) use it to build models they deploy to power hundreds of applications, drive thousands of cars and deliver content to billions of people, it's clearly capable on the development front too.\n",
        "\n",
        "## What we're going to cover in this module\n",
        "\n",
        "This course is broken down into different sections (notebooks).\n",
        "\n",
        "Each notebook covers important ideas and concepts within PyTorch.\n",
        "\n",
        "Subsequent notebooks build upon knowledge from the previous one (numbering starts at 00, 01, 02 and goes to whatever it ends up going to).\n",
        "\n",
        "This notebook deals with the basic building block of machine learning and deep learning, the tensor.\n",
        "\n",
        "Specifically, we're going to cover:\n",
        "\n",
        "| **Topic** | **Contents** |\n",
        "| ----- | ----- |\n",
        "| **Introduction to tensors** | Tensors are the basic building block of all of machine learning and deep learning. |\n",
        "| **Creating tensors** | Tensors can represent almost any kind of data (images, words, tables of numbers). |\n",
        "| **Getting information from tensors** | If you can put information into a tensor, you'll want to get it out too. |\n",
        "| **Manipulating tensors** | Machine learning algorithms (like neural networks) involve manipulating tensors in many different ways such as adding, multiplying, combining. |\n",
        "| **Dealing with tensor shapes** | One of the most common issues in machine learning is dealing with shape mismatches (trying to mixed wrong shaped tensors with other tensors). |\n",
        "| **Indexing on tensors** | If you've indexed on a Python list or NumPy array, it's very similar with tensors, except they can have far more dimensions. |\n",
        "| **Mixing PyTorch tensors and NumPy** | PyTorch plays with tensors ([`torch.Tensor`](https://pytorch.org/docs/stable/tensors.html)), NumPy likes arrays ([`np.ndarray`](https://numpy.org/doc/stable/reference/generated/numpy.ndarray.html)) sometimes you'll want to mix and match these. |\n",
        "| **Reproducibility** | Machine learning is very experimental and since it uses a lot of *randomness* to work, sometimes you'll want that *randomness* to not be so random. |\n",
        "| **Running tensors on GPU** | GPUs (Graphics Processing Units) make your code faster, PyTorch makes it easy to run your code on GPUs. |\n",
        "\n",
        "## Where can you get help?\n",
        "\n",
        "All of the materials for this course [live on GitHub](https://github.com/mrdbourke/pytorch-deep-learning).\n",
        "\n",
        "And if you run into trouble, you can ask a question on the [Discussions page](https://github.com/mrdbourke/pytorch-deep-learning/discussions) there too.\n",
        "\n",
        "There's also the [PyTorch developer forums](https://discuss.pytorch.org/), a very helpful place for all things PyTorch."
      ]
    },
    {
      "cell_type": "markdown",
      "metadata": {
        "id": "5v3iRCRUTGeu"
      },
      "source": [
        "## Importing PyTorch\n",
        "\n",
        "> **Note:** Before running any of the code in this notebook, you should have gone through the [PyTorch setup steps](https://pytorch.org/get-started/locally/).\n",
        ">\n",
        "> However, **if you're running on Google Colab**, everything should work (Google Colab comes with PyTorch and other libraries installed).\n",
        "\n",
        "Let's start by importing PyTorch and checking the version we're using."
      ]
    },
    {
      "cell_type": "code",
      "execution_count": 1,
      "metadata": {
        "colab": {
          "base_uri": "https://localhost:8080/",
          "height": 36
        },
        "id": "1VxEOik46Y4i",
        "outputId": "e1be1409-a0dc-4189-f0e9-a82e03cc3449"
      },
      "outputs": [
        {
          "output_type": "execute_result",
          "data": {
            "text/plain": [
              "'2.1.0+cu121'"
            ],
            "application/vnd.google.colaboratory.intrinsic+json": {
              "type": "string"
            }
          },
          "metadata": {},
          "execution_count": 1
        }
      ],
      "source": [
        "import torch\n",
        "torch.__version__"
      ]
    },
    {
      "cell_type": "markdown",
      "source": [
        "torch.__version__ adalah sebuah perintah dalam bahasa pemrograman Python yang digunakan untuk menampilkan versi dari pustaka PyTorch yang sedang digunakan."
      ],
      "metadata": {
        "id": "fsZC2BwzswZ2"
      }
    },
    {
      "cell_type": "markdown",
      "source": [],
      "metadata": {
        "id": "qVcL0JO1swXE"
      }
    },
    {
      "cell_type": "markdown",
      "metadata": {
        "id": "_SqvI4S9TGew"
      },
      "source": [
        "Wonderful, it looks like we've got PyTorch 1.10.0+.\n",
        "\n",
        "This means if you're going through these materials, you'll see most compatability with PyTorch 1.10.0+, however if your version number is far higher than that, you might notice some inconsistencies.\n",
        "\n",
        "And if you do have any issues, please post on the course [GitHub Discussions page](https://github.com/mrdbourke/pytorch-deep-learning/discussions)."
      ]
    },
    {
      "cell_type": "markdown",
      "metadata": {
        "id": "i-33BKR16iWc"
      },
      "source": [
        "## Introduction to tensors\n",
        "\n",
        "Now we've got PyTorch imported, it's time to learn about tensors.\n",
        "\n",
        "Tensors are the fundamental building block of machine learning.\n",
        "\n",
        "Their job is to represent data in a numerical way.\n",
        "\n",
        "For example, you could represent an image as a tensor with shape `[3, 224, 224]` which would mean `[colour_channels, height, width]`, as in the image has `3` colour channels (red, green, blue), a height of `224` pixels and a width of `224` pixels.\n",
        "\n",
        "![example of going from an input image to a tensor representation of the image, image gets broken down into 3 colour channels as well as numbers to represent the height and width](https://raw.githubusercontent.com/mrdbourke/pytorch-deep-learning/main/images/00-tensor-shape-example-of-image.png)\n",
        "\n",
        "In tensor-speak (the language used to describe tensors), the tensor would have three dimensions, one for `colour_channels`, `height` and `width`.\n",
        "\n",
        "But we're getting ahead of ourselves.\n",
        "\n",
        "Let's learn more about tensors by coding them.\n"
      ]
    },
    {
      "cell_type": "markdown",
      "metadata": {
        "id": "gFF0N2TU7S7Q"
      },
      "source": [
        "### Creating tensors\n",
        "\n",
        "PyTorch loves tensors. So much so there's a whole documentation page dedicated to the [`torch.Tensor`](https://pytorch.org/docs/stable/tensors.html) class.\n",
        "\n",
        "Your first piece of homework is to [read through the documentation on `torch.Tensor`](https://pytorch.org/docs/stable/tensors.html) for 10-minutes. But you can get to that later.\n",
        "\n",
        "Let's code.\n",
        "\n",
        "The first thing we're going to create is a **scalar**.\n",
        "\n",
        "A scalar is a single number and in tensor-speak it's a zero dimension tensor.\n",
        "\n",
        "> **Note:** That's a trend for this course. We'll focus on writing specific code. But often I'll set exercises which involve reading and getting familiar with the PyTorch documentation. Because after all, once you're finished this course, you'll no doubt want to learn more. And the documentation is somewhere you'll be finding yourself quite often."
      ]
    },
    {
      "cell_type": "code",
      "execution_count": 2,
      "metadata": {
        "colab": {
          "base_uri": "https://localhost:8080/"
        },
        "id": "YUDgG2zk7Us5",
        "outputId": "141a0963-7a30-4d98-ff70-c2d9d64e09bf"
      },
      "outputs": [
        {
          "output_type": "execute_result",
          "data": {
            "text/plain": [
              "tensor(7)"
            ]
          },
          "metadata": {},
          "execution_count": 2
        }
      ],
      "source": [
        "# Scalar\n",
        "scalar = torch.tensor(7)\n",
        "scalar"
      ]
    },
    {
      "cell_type": "markdown",
      "source": [
        "Kode ini membuat variabel yang disebut scalar dan mengisinya dengan nilai 7 menggunakan pustaka PyTorch. Variabel scalar ini merupakan contoh dari skalar, yang merupakan konsep dalam matematika dan pemrograman yang mewakili nilai tunggal. Dalam hal ini, nilai 7 merupakan skalar karena hanya memiliki satu nilai tanpa memiliki arah atau dimensi tambahan."
      ],
      "metadata": {
        "id": "z9jZH2UUs3dW"
      }
    },
    {
      "cell_type": "markdown",
      "metadata": {
        "id": "JqSuhW7rTGey"
      },
      "source": [
        "See how the above printed out `tensor(7)`?\n",
        "\n",
        "That means although `scalar` is a single number, it's of type `torch.Tensor`.\n",
        "\n",
        "We can check the dimensions of a tensor using the `ndim` attribute."
      ]
    },
    {
      "cell_type": "code",
      "execution_count": 3,
      "metadata": {
        "colab": {
          "base_uri": "https://localhost:8080/"
        },
        "id": "lV98Yz868bav",
        "outputId": "3a92cdbe-8f28-4ee9-e6bc-12e6a1342ab0"
      },
      "outputs": [
        {
          "output_type": "execute_result",
          "data": {
            "text/plain": [
              "0"
            ]
          },
          "metadata": {},
          "execution_count": 3
        }
      ],
      "source": [
        "scalar.ndim"
      ]
    },
    {
      "cell_type": "markdown",
      "source": [
        ".ndim pada sebuah tensor PyTorch memberikan jumlah dimensi dari tensor tersebut. Namun, pada skalar (seperti yang Anda definisikan sebelumnya dengan torch.tensor(7)), karena skalar hanya memiliki satu nilai tunggal tanpa dimensi tambahan, properti .ndim akan mengembalikan nilai 0."
      ],
      "metadata": {
        "id": "zonVrUJ9s-7z"
      }
    },
    {
      "cell_type": "markdown",
      "metadata": {
        "id": "ZO2YW_QGTGez"
      },
      "source": [
        "What if we wanted to retrieve the number from the tensor?\n",
        "\n",
        "As in, turn it from `torch.Tensor` to a Python integer?\n",
        "\n",
        "To do we can use the `item()` method."
      ]
    },
    {
      "cell_type": "code",
      "execution_count": 4,
      "metadata": {
        "colab": {
          "base_uri": "https://localhost:8080/"
        },
        "id": "-k4cyKumPfbE",
        "outputId": "b23a0cad-b9f5-4808-e933-1b0917de294f"
      },
      "outputs": [
        {
          "output_type": "execute_result",
          "data": {
            "text/plain": [
              "7"
            ]
          },
          "metadata": {},
          "execution_count": 4
        }
      ],
      "source": [
        "# Get the Python number within a tensor (only works with one-element tensors)\n",
        "scalar.item()"
      ]
    },
    {
      "cell_type": "markdown",
      "source": [
        ".item() pada tensor PyTorch digunakan untuk mengakses nilai yang terdapat dalam tensor jika tensor tersebut hanya memiliki satu elemen. Pada kasus penggunaan skalar sebelumnya (torch.tensor(7)), karena skalar hanya memiliki satu nilai tunggal, Anda dapat menggunakan .item() untuk mengambil nilai Python (bukan tensor) dari skalar tersebut."
      ],
      "metadata": {
        "id": "hiNWL35vtNn-"
      }
    },
    {
      "cell_type": "markdown",
      "metadata": {
        "id": "qYs7ulrATGe0"
      },
      "source": [
        "Okay, now let's see a **vector**.\n",
        "\n",
        "A vector is a single dimension tensor but can contain many numbers.\n",
        "\n",
        "As in, you could have a vector `[3, 2]` to describe `[bedrooms, bathrooms]` in your house. Or you could have `[3, 2, 2]` to describe `[bedrooms, bathrooms, car_parks]` in your house.\n",
        "\n",
        "The important trend here is that a vector is flexible in what it can represent (the same with tensors)."
      ]
    },
    {
      "cell_type": "code",
      "execution_count": 5,
      "metadata": {
        "colab": {
          "base_uri": "https://localhost:8080/"
        },
        "id": "-IZF6ASs8QH9",
        "outputId": "2021b6d1-5d45-47c2-a08a-3c2036ee05cc"
      },
      "outputs": [
        {
          "output_type": "execute_result",
          "data": {
            "text/plain": [
              "tensor([7, 7])"
            ]
          },
          "metadata": {},
          "execution_count": 5
        }
      ],
      "source": [
        "# Vector\n",
        "vector = torch.tensor([7, 7])\n",
        "vector"
      ]
    },
    {
      "cell_type": "markdown",
      "source": [
        "\n",
        "Kode ini membuat variabel yang disebut vector menggunakan pustaka PyTorch. Variabel ini merupakan sebuah vektor yang berisi dua elemen, yaitu 7 dan 7. Dalam matematika dan pemrograman, vektor adalah suatu struktur data yang terdiri dari sekumpulan nilai atau elemen yang tersusun dalam urutan tertentu."
      ],
      "metadata": {
        "id": "Ss3EgQuSyBkV"
      }
    },
    {
      "cell_type": "markdown",
      "metadata": {
        "id": "mXxRUUW2TGe1"
      },
      "source": [
        "Wonderful, `vector` now contains two 7's, my favourite number.\n",
        "\n",
        "How many dimensions do you think it'll have?"
      ]
    },
    {
      "cell_type": "code",
      "execution_count": 6,
      "metadata": {
        "colab": {
          "base_uri": "https://localhost:8080/"
        },
        "id": "03hm3VVv8kr4",
        "outputId": "6589eba7-141d-4101-bebb-cf80e8298332"
      },
      "outputs": [
        {
          "output_type": "execute_result",
          "data": {
            "text/plain": [
              "1"
            ]
          },
          "metadata": {},
          "execution_count": 6
        }
      ],
      "source": [
        "# Check the number of dimensions of vector\n",
        "vector.ndim"
      ]
    },
    {
      "cell_type": "markdown",
      "source": [
        "Pada PyTorch, properti .ndim digunakan untuk mengetahui jumlah dimensi dari sebuah tensor. Pada vektor yang telah Anda definisikan sebelumnya (torch.tensor([7, 7])), karena vektor tersebut memiliki elemen yang disusun dalam satu dimensi (yaitu berupa daftar satu dimensi [7, 7]), properti .ndim akan mengembalikan nilai 1. Artinya, vektor tersebut memiliki satu dimensi karena elemennya disusun dalam satu baris atau satu kolom."
      ],
      "metadata": {
        "id": "S7ms00VLyI_z"
      }
    },
    {
      "cell_type": "markdown",
      "metadata": {
        "id": "W0VYvSGbTGe1"
      },
      "source": [
        "Hmm, that's strange, `vector` contains two numbers but only has a single dimension.\n",
        "\n",
        "I'll let you in on a trick.\n",
        "\n",
        "You can tell the number of dimensions a tensor in PyTorch has by the number of square brackets on the outside (`[`) and you only need to count one side.\n",
        "\n",
        "How many square brackets does `vector` have?\n",
        "\n",
        "Another important concept for tensors is their `shape` attribute. The shape tells you how the elements inside them are arranged.\n",
        "\n",
        "Let's check out the shape of `vector`."
      ]
    },
    {
      "cell_type": "code",
      "execution_count": 7,
      "metadata": {
        "colab": {
          "base_uri": "https://localhost:8080/"
        },
        "id": "6zREV1bDTGe2",
        "outputId": "ff37c847-0ade-48a8-c297-c7fec44b45c7"
      },
      "outputs": [
        {
          "output_type": "execute_result",
          "data": {
            "text/plain": [
              "torch.Size([2])"
            ]
          },
          "metadata": {},
          "execution_count": 7
        }
      ],
      "source": [
        "# Check shape of vector\n",
        "vector.shape"
      ]
    },
    {
      "cell_type": "markdown",
      "source": [
        "Fungsi .shape pada tensor PyTorch digunakan untuk menampilkan ukuran atau bentuk dari tensor tersebut. Pada vektor yang telah Anda definisikan sebelumnya (torch.tensor([7, 7])), hasil dari .shape akan menunjukkan (2,). Artinya, vektor tersebut memiliki panjang satu dimensi sebesar 2, menunjukkan bahwa vektor ini memiliki dua elemen dalam satu dimensi saja."
      ],
      "metadata": {
        "id": "2brvKrOWyKQG"
      }
    },
    {
      "cell_type": "markdown",
      "metadata": {
        "id": "9aWKppNyTGe2"
      },
      "source": [
        "The above returns `torch.Size([2])` which means our vector has a shape of `[2]`. This is because of the two elements we placed inside the square brackets (`[7, 7]`).\n",
        "\n",
        "Let's now see a **matrix**."
      ]
    },
    {
      "cell_type": "code",
      "execution_count": 8,
      "metadata": {
        "colab": {
          "base_uri": "https://localhost:8080/"
        },
        "id": "D5iNwCYL8QO9",
        "outputId": "e087711e-091d-4662-9388-b2e9139bf730"
      },
      "outputs": [
        {
          "output_type": "execute_result",
          "data": {
            "text/plain": [
              "tensor([[ 7,  8],\n",
              "        [ 9, 10]])"
            ]
          },
          "metadata": {},
          "execution_count": 8
        }
      ],
      "source": [
        "# Matrix\n",
        "MATRIX = torch.tensor([[7, 8],\n",
        "                       [9, 10]])\n",
        "MATRIX"
      ]
    },
    {
      "cell_type": "markdown",
      "source": [
        "Dalam potongan kode tersebut, Anda membuat sebuah variabel yang disebut MATRIX menggunakan PyTorch. Variabel ini mewakili sebuah matriks, yang didefinisikan sebagai kumpulan nilai atau elemen yang disusun dalam baris dan kolom."
      ],
      "metadata": {
        "id": "w8cO4Ik5yYCv"
      }
    },
    {
      "cell_type": "markdown",
      "metadata": {
        "id": "a3U1bCdjTGe3"
      },
      "source": [
        "Wow! More numbers! Matrices are as flexible as vectors, except they've got an extra dimension.\n",
        "\n"
      ]
    },
    {
      "cell_type": "code",
      "execution_count": 9,
      "metadata": {
        "colab": {
          "base_uri": "https://localhost:8080/"
        },
        "id": "8LREUbeb8r8j",
        "outputId": "bb803b44-22d6-47a3-ce3a-41d10bc2c5e5"
      },
      "outputs": [
        {
          "output_type": "execute_result",
          "data": {
            "text/plain": [
              "2"
            ]
          },
          "metadata": {},
          "execution_count": 9
        }
      ],
      "source": [
        "# Check number of dimensions\n",
        "MATRIX.ndim"
      ]
    },
    {
      "cell_type": "markdown",
      "source": [
        "Properti .ndim pada tensor PyTorch digunakan untuk mengetahui jumlah dimensi dari sebuah tensor. Pada matriks yang telah Anda definisikan sebelumnya (torch.tensor([[7, 8], [9, 10]])), karena matriks tersebut memiliki struktur dua dimensi dengan baris dan kolom, properti .ndim akan mengembalikan nilai 2. Artinya, matriks tersebut memiliki dua dimensi karena tersusun dalam baris dan kolom."
      ],
      "metadata": {
        "id": "0tmsXUgNy336"
      }
    },
    {
      "cell_type": "markdown",
      "metadata": {
        "id": "LhXXgq-dTGe3"
      },
      "source": [
        "`MATRIX` has two dimensions (did you count the number of square brakcets on the outside of one side?).\n",
        "\n",
        "What `shape` do you think it will have?"
      ]
    },
    {
      "cell_type": "code",
      "execution_count": 10,
      "metadata": {
        "colab": {
          "base_uri": "https://localhost:8080/"
        },
        "id": "_TL26I31TGe3",
        "outputId": "a78050d3-19ef-4ea2-ad63-6ddf68f5826d"
      },
      "outputs": [
        {
          "output_type": "execute_result",
          "data": {
            "text/plain": [
              "torch.Size([2, 2])"
            ]
          },
          "metadata": {},
          "execution_count": 10
        }
      ],
      "source": [
        "MATRIX.shape"
      ]
    },
    {
      "cell_type": "markdown",
      "source": [
        "Fungsi .shape pada tensor PyTorch digunakan untuk menampilkan ukuran atau bentuk dari tensor tersebut. Pada matriks yang telah Anda definisikan sebelumnya (torch.tensor([[7, 8], [9, 10]])), hasil dari .shape akan menunjukkan (2, 2).\n",
        "\n",
        "Artinya, matriks tersebut memiliki dimensi dua, dengan dimensi pertama menunjukkan jumlah baris (2) dan dimensi kedua menunjukkan jumlah kolom (2)."
      ],
      "metadata": {
        "id": "mymwe9fZy9_t"
      }
    },
    {
      "cell_type": "markdown",
      "metadata": {
        "id": "dvLpUvrKTGe4"
      },
      "source": [
        "We get the output `torch.Size([2, 2])` because `MATRIX` is two elements deep and two elements wide.\n",
        "\n",
        "How about we create a **tensor**?"
      ]
    },
    {
      "cell_type": "code",
      "execution_count": 11,
      "metadata": {
        "colab": {
          "base_uri": "https://localhost:8080/"
        },
        "id": "wEMDQr188QWW",
        "outputId": "2a0243a2-cd70-45f0-8d4a-00f0d97a85a4"
      },
      "outputs": [
        {
          "output_type": "execute_result",
          "data": {
            "text/plain": [
              "tensor([[[1, 2, 3],\n",
              "         [3, 6, 9],\n",
              "         [2, 4, 5]]])"
            ]
          },
          "metadata": {},
          "execution_count": 11
        }
      ],
      "source": [
        "# Tensor\n",
        "TENSOR = torch.tensor([[[1, 2, 3],\n",
        "                        [3, 6, 9],\n",
        "                        [2, 4, 5]]])\n",
        "TENSOR"
      ]
    },
    {
      "cell_type": "markdown",
      "source": [
        "Pada potongan kode tersebut, Anda membuat sebuah variabel yang disebut TENSOR menggunakan pustaka PyTorch. Variabel ini merupakan sebuah tensor multidimensi yang terdiri dari tiga dimensi. Tensor adalah struktur data yang mirip dengan matriks, namun dapat memiliki lebih dari dua dimensi.\n",
        "\n",
        "Dalam kasus ini, tensor yang Anda definisikan memiliki tiga dimensi yang dituliskan dalam format [[][][]], yang berarti:\n",
        "\n",
        "Dimensi pertama: Terdiri dari satu elemen yang menyimpan seluruh tensor.\n",
        "Dimensi kedua: Memiliki tiga sublist yang masing-masing berisi tiga angka.\n",
        "Dimensi ketiga: Tiap sublist di dimensi kedua memiliki tiga elemen yang merepresentasikan nilai-nilai di dalam tensor."
      ],
      "metadata": {
        "id": "3wM1gU-UzJjt"
      }
    },
    {
      "cell_type": "markdown",
      "metadata": {
        "id": "UmJKkXD7TGe4"
      },
      "source": [
        "Woah! What a nice looking tensor.\n",
        "\n",
        "I want to stress that tensors can represent almost anything.\n",
        "\n",
        "The one we just created could be the sales numbers for a steak and almond butter store (two of my favourite foods).\n",
        "\n",
        "![a simple tensor in google sheets showing day of week, steak sales and almond butter sales](https://raw.githubusercontent.com/mrdbourke/pytorch-deep-learning/main/images/00_simple_tensor.png)\n",
        "\n",
        "How many dimensions do you think it has? (hint: use the square bracket counting trick)"
      ]
    },
    {
      "cell_type": "code",
      "execution_count": 12,
      "metadata": {
        "colab": {
          "base_uri": "https://localhost:8080/"
        },
        "id": "8dhuEsjS8QcT",
        "outputId": "f09161a8-cf64-4741-b77c-d74641eb1826"
      },
      "outputs": [
        {
          "output_type": "execute_result",
          "data": {
            "text/plain": [
              "3"
            ]
          },
          "metadata": {},
          "execution_count": 12
        }
      ],
      "source": [
        "# Check number of dimensions for TENSOR\n",
        "TENSOR.ndim"
      ]
    },
    {
      "cell_type": "markdown",
      "source": [
        ".ndim pada tensor PyTorch digunakan untuk mengetahui jumlah dimensi dari sebuah tensor. Pada tensor yang telah Anda definisikan sebelumnya (torch.tensor([[[1, 2, 3], [3, 6, 9], [2, 4, 5]]])), properti .ndim akan mengembalikan nilai 3."
      ],
      "metadata": {
        "id": "H4j7bv1nzS2r"
      }
    },
    {
      "cell_type": "markdown",
      "metadata": {
        "id": "ln9dys5VTGe4"
      },
      "source": [
        "And what about its shape?"
      ]
    },
    {
      "cell_type": "code",
      "execution_count": 13,
      "metadata": {
        "colab": {
          "base_uri": "https://localhost:8080/"
        },
        "id": "hdVv4iNRTGe5",
        "outputId": "540c1902-c561-47b6-c898-fc6648711b34"
      },
      "outputs": [
        {
          "output_type": "execute_result",
          "data": {
            "text/plain": [
              "torch.Size([1, 3, 3])"
            ]
          },
          "metadata": {},
          "execution_count": 13
        }
      ],
      "source": [
        "# Check shape of TENSOR\n",
        "TENSOR.shape"
      ]
    },
    {
      "cell_type": "markdown",
      "source": [
        "Fungsi .shape pada tensor PyTorch digunakan untuk menampilkan ukuran atau bentuk dari tensor tersebut. Pada tensor yang telah Anda definisikan sebelumnya (torch.tensor([[[1, 2, 3], [3, 6, 9], [2, 4, 5]]])), hasil dari .shape akan menunjukkan (1, 3, 3).\n",
        "\n",
        "Artinya, tensor tersebut memiliki tiga dimensi:\n",
        "\n",
        "Dimensi pertama menunjukkan bahwa terdapat satu kelompok dari tensor tersebut.\n",
        "Dimensi kedua menunjukkan bahwa tensor memiliki tiga sublist di dalamnya.\n",
        "Dimensi ketiga menunjukkan bahwa setiap sublist memiliki tiga elemen di dalamnya."
      ],
      "metadata": {
        "id": "ep50WQiuzY4j"
      }
    },
    {
      "cell_type": "markdown",
      "metadata": {
        "id": "zxk8GU7oTGe5"
      },
      "source": [
        "Alright, it outputs `torch.Size([1, 3, 3])`.\n",
        "\n",
        "The dimensions go outer to inner.\n",
        "\n",
        "That means there's 1 dimension of 3 by 3.\n",
        "\n",
        "![example of different tensor dimensions](https://raw.githubusercontent.com/mrdbourke/pytorch-deep-learning/main/images/00-pytorch-different-tensor-dimensions.png)\n",
        "\n",
        "> **Note:** You might've noticed me using lowercase letters for `scalar` and `vector` and uppercase letters for `MATRIX` and `TENSOR`. This was on purpose. In practice, you'll often see scalars and vectors denoted as lowercase letters such as `y` or `a`. And matrices and tensors denoted as uppercase letters such as `X` or `W`.\n",
        ">\n",
        "> You also might notice the names martrix and tensor used interchangably. This is common. Since in PyTorch you're often dealing with `torch.Tensor`s (hence the tensor name), however, the shape and dimensions of what's inside will dictate what it actually is.\n",
        "\n",
        "Let's summarise.\n",
        "\n",
        "| Name | What is it? | Number of dimensions | Lower or upper (usually/example) |\n",
        "| ----- | ----- | ----- | ----- |\n",
        "| **scalar** | a single number | 0 | Lower (`a`) |\n",
        "| **vector** | a number with direction (e.g. wind speed with direction) but can also have many other numbers | 1 | Lower (`y`) |\n",
        "| **matrix** | a 2-dimensional array of numbers | 2 | Upper (`Q`) |\n",
        "| **tensor** | an n-dimensional array of numbers | can be any number, a 0-dimension tensor is a scalar, a 1-dimension tensor is a vector | Upper (`X`) |\n",
        "\n",
        "![scalar vector matrix tensor and what they look like](https://raw.githubusercontent.com/mrdbourke/pytorch-deep-learning/main/images/00-scalar-vector-matrix-tensor.png)"
      ]
    },
    {
      "cell_type": "markdown",
      "metadata": {
        "id": "dms7G4nkTGe5"
      },
      "source": [
        "### Random tensors\n",
        "\n",
        "We've established tensors represent some form of data.\n",
        "\n",
        "And machine learning models such as neural networks manipulate and seek patterns within tensors.\n",
        "\n",
        "But when building machine learning models with PyTorch, it's rare you'll create tensors by hand (like what we've being doing).\n",
        "\n",
        "Instead, a machine learning model often starts out with large random tensors of numbers and adjusts these random numbers as it works through data to better represent it.\n",
        "\n",
        "In essence:\n",
        "\n",
        "`Start with random numbers -> look at data -> update random numbers -> look at data -> update random numbers...`\n",
        "\n",
        "As a data scientist, you can define how the machine learning model starts (initialization), looks at data (representation) and updates (optimization) its random numbers.\n",
        "\n",
        "We'll get hands on with these steps later on.\n",
        "\n",
        "For now, let's see how to create a tensor of random numbers.\n",
        "\n",
        "We can do so using [`torch.rand()`](https://pytorch.org/docs/stable/generated/torch.rand.html) and passing in the `size` parameter."
      ]
    },
    {
      "cell_type": "code",
      "execution_count": 14,
      "metadata": {
        "colab": {
          "base_uri": "https://localhost:8080/"
        },
        "id": "EOJEtDx--GnK",
        "outputId": "bf04de87-834c-48b5-f7b4-fce07eb74ea3"
      },
      "outputs": [
        {
          "output_type": "execute_result",
          "data": {
            "text/plain": [
              "(tensor([[0.9455, 0.8789, 0.5498, 0.9052],\n",
              "         [0.7351, 0.6799, 0.8798, 0.4124],\n",
              "         [0.0963, 0.0341, 0.4040, 0.9879]]),\n",
              " torch.float32)"
            ]
          },
          "metadata": {},
          "execution_count": 14
        }
      ],
      "source": [
        "# Create a random tensor of size (3, 4)\n",
        "random_tensor = torch.rand(size=(3, 4))\n",
        "random_tensor, random_tensor.dtype"
      ]
    },
    {
      "cell_type": "markdown",
      "source": [
        "Kode ini membuat sebuah tensor acak dengan ukuran 3 baris dan 4 kolom menggunakan PyTorch. Fungsi torch.rand(size=(3, 4)) menghasilkan sebuah tensor dengan nilai-nilai yang diisi secara acak dari distribusi seragam (semua nilai memiliki probabilitas yang sama untuk muncul) antara 0 dan 1."
      ],
      "metadata": {
        "id": "9yvCS0rMzkgj"
      }
    },
    {
      "cell_type": "markdown",
      "metadata": {
        "id": "-wB1c_cXTGe5"
      },
      "source": [
        "The flexibility of `torch.rand()` is that we can adjust the `size` to be whatever we want.\n",
        "\n",
        "For example, say you wanted a random tensor in the common image shape of `[224, 224, 3]` (`[height, width, color_channels`])."
      ]
    },
    {
      "cell_type": "code",
      "execution_count": 15,
      "metadata": {
        "colab": {
          "base_uri": "https://localhost:8080/"
        },
        "id": "xMF_NUp3Ym__",
        "outputId": "88912918-a989-4f43-f32d-2991af899b28"
      },
      "outputs": [
        {
          "output_type": "execute_result",
          "data": {
            "text/plain": [
              "(torch.Size([224, 224, 3]), 3)"
            ]
          },
          "metadata": {},
          "execution_count": 15
        }
      ],
      "source": [
        "# Create a random tensor of size (224, 224, 3)\n",
        "random_image_size_tensor = torch.rand(size=(224, 224, 3))\n",
        "random_image_size_tensor.shape, random_image_size_tensor.ndim"
      ]
    },
    {
      "cell_type": "markdown",
      "source": [
        "Kode ini membuat sebuah tensor acak dengan ukuran (224, 224, 3) menggunakan PyTorch. Namun, PyTorch tidak secara langsung mendukung pembuatan tensor tiga dimensi dalam format ini.\n",
        "\n",
        "PyTorch mengharapkan urutan dimensi dari sebuah tensor dalam bentuk (channel, height, width) untuk data citra, tetapi dalam kasus Anda, urutan dimensi yang diinginkan adalah (height, width, channel). Ini dapat menyebabkan kesalahan dalam pembuatan tensor.\n",
        "\n",
        "Dalam kasus data citra, dimensi pertama (biasanya diwakili oleh 'channel') merujuk pada saluran warna (seperti merah, hijau, dan biru pada citra RGB), sedangkan dimensi kedua dan ketiga adalah tinggi dan lebar citra."
      ],
      "metadata": {
        "id": "oYtAckFyzzVi"
      }
    },
    {
      "cell_type": "markdown",
      "metadata": {
        "id": "0MQNTY0eTGe6"
      },
      "source": [
        "### Zeros and ones\n",
        "\n",
        "Sometimes you'll just want to fill tensors with zeros or ones.\n",
        "\n",
        "This happens a lot with masking (like masking some of the values in one tensor with zeros to let a model know not to learn them).\n",
        "\n",
        "Let's create a tensor full of zeros with [`torch.zeros()`](https://pytorch.org/docs/stable/generated/torch.zeros.html)\n",
        "\n",
        "Again, the `size` parameter comes into play."
      ]
    },
    {
      "cell_type": "code",
      "execution_count": 16,
      "metadata": {
        "colab": {
          "base_uri": "https://localhost:8080/"
        },
        "id": "oCzhd0hl9Vp6",
        "outputId": "b0b1594f-d7b9-4168-f61e-9d8402880d79"
      },
      "outputs": [
        {
          "output_type": "execute_result",
          "data": {
            "text/plain": [
              "(tensor([[0., 0., 0., 0.],\n",
              "         [0., 0., 0., 0.],\n",
              "         [0., 0., 0., 0.]]),\n",
              " torch.float32)"
            ]
          },
          "metadata": {},
          "execution_count": 16
        }
      ],
      "source": [
        "# Create a tensor of all zeros\n",
        "zeros = torch.zeros(size=(3, 4))\n",
        "zeros, zeros.dtype"
      ]
    },
    {
      "cell_type": "markdown",
      "source": [
        "Kode yang Anda berikan membuat sebuah tensor yang berisi semua nilai nol dengan ukuran 3 baris dan 4 kolom menggunakan PyTorch. Fungsi torch.zeros(size=(3, 4)) menghasilkan tensor dengan semua elemen diisi dengan nilai nol."
      ],
      "metadata": {
        "id": "ZK2lxyQL0TNp"
      }
    },
    {
      "cell_type": "markdown",
      "source": [],
      "metadata": {
        "id": "2i_PNkiW0TKu"
      }
    },
    {
      "cell_type": "markdown",
      "metadata": {
        "id": "WDQBZJRUZWTN"
      },
      "source": [
        "We can do the same to create a tensor of all ones except using [`torch.ones()` ](https://pytorch.org/docs/stable/generated/torch.ones.html) instead."
      ]
    },
    {
      "cell_type": "code",
      "execution_count": 17,
      "metadata": {
        "colab": {
          "base_uri": "https://localhost:8080/"
        },
        "id": "HRe6sSXiTGe6",
        "outputId": "94204e54-65e9-460e-eefb-d5e85fa25ae5"
      },
      "outputs": [
        {
          "output_type": "execute_result",
          "data": {
            "text/plain": [
              "(tensor([[1., 1., 1., 1.],\n",
              "         [1., 1., 1., 1.],\n",
              "         [1., 1., 1., 1.]]),\n",
              " torch.float32)"
            ]
          },
          "metadata": {},
          "execution_count": 17
        }
      ],
      "source": [
        "# Create a tensor of all ones\n",
        "ones = torch.ones(size=(3, 4))\n",
        "ones, ones.dtype"
      ]
    },
    {
      "cell_type": "markdown",
      "source": [
        "Kode yang Anda berikan membuat sebuah tensor yang berisi semua nilai satu dengan ukuran 3 baris dan 4 kolom menggunakan PyTorch. Fungsi torch.ones(size=(3, 4)) menghasilkan tensor dengan semua elemen diisi dengan nilai satu."
      ],
      "metadata": {
        "id": "FSRaMtHH0tVl"
      }
    },
    {
      "cell_type": "markdown",
      "metadata": {
        "id": "hib1NYrSarL2"
      },
      "source": [
        "### Creating a range and tensors like\n",
        "\n",
        "Sometimes you might want a range of numbers, such as 1 to 10 or 0 to 100.\n",
        "\n",
        "You can use `torch.arange(start, end, step)` to do so.\n",
        "\n",
        "Where:\n",
        "* `start` = start of range (e.g. 0)\n",
        "* `end` = end of range (e.g. 10)\n",
        "* `step` = how many steps in between each value (e.g. 1)\n",
        "\n",
        "> **Note:** In Python, you can use `range()` to create a range. However in PyTorch, `torch.range()` is deprecated and may show an error in the future."
      ]
    },
    {
      "cell_type": "code",
      "execution_count": 18,
      "metadata": {
        "colab": {
          "base_uri": "https://localhost:8080/"
        },
        "id": "1IqUs81d9W4W",
        "outputId": "813a865e-dd11-431e-e9f1-20d3e500c4ab"
      },
      "outputs": [
        {
          "output_type": "stream",
          "name": "stderr",
          "text": [
            "<ipython-input-18-a404776195c1>:2: UserWarning: torch.range is deprecated and will be removed in a future release because its behavior is inconsistent with Python's range builtin. Instead, use torch.arange, which produces values in [start, end).\n",
            "  zero_to_ten_deprecated = torch.range(0, 10) # Note: this may return an error in the future\n"
          ]
        },
        {
          "output_type": "execute_result",
          "data": {
            "text/plain": [
              "tensor([0, 1, 2, 3, 4, 5, 6, 7, 8, 9])"
            ]
          },
          "metadata": {},
          "execution_count": 18
        }
      ],
      "source": [
        "# Use torch.arange(), torch.range() is deprecated\n",
        "zero_to_ten_deprecated = torch.range(0, 10) # Note: this may return an error in the future\n",
        "\n",
        "# Create a range of values 0 to 10\n",
        "zero_to_ten = torch.arange(start=0, end=10, step=1)\n",
        "zero_to_ten"
      ]
    },
    {
      "cell_type": "markdown",
      "source": [
        "Kode yang Anda berikan memiliki dua bagian yang melakukan hal yang serupa, yaitu menciptakan urutan nilai dari 0 hingga 10 menggunakan PyTorch. Namun, metode yang pertama menggunakan fungsi torch.range() yang sudah dinyatakan usang (deprecated), dan meskipun masih dapat berfungsi saat ini, mungkin akan menyebabkan kesalahan di masa depan.\n",
        "\n",
        "Metode yang kedua menggunakan fungsi torch.arange() untuk membuat urutan nilai dari 0 hingga 9 (bukan 10, karena end tidak termasuk dalam hasil) dengan langkah (step) sebesar 1. Fungsi torch.arange() ini merupakan cara yang direkomendasikan untuk membuat urutan nilai dengan PyTorch."
      ],
      "metadata": {
        "id": "zZp2Ol8i1AE7"
      }
    },
    {
      "cell_type": "markdown",
      "metadata": {
        "id": "i-bXf0Ugbh-D"
      },
      "source": [
        "Sometimes you might want one tensor of a certain type with the same shape as another tensor.\n",
        "\n",
        "For example, a tensor of all zeros with the same shape as a previous tensor.\n",
        "\n",
        "To do so you can use [`torch.zeros_like(input)`](https://pytorch.org/docs/stable/generated/torch.zeros_like.html) or [`torch.ones_like(input)`](https://pytorch.org/docs/1.9.1/generated/torch.ones_like.html) which return a tensor filled with zeros or ones in the same shape as the `input` respectively."
      ]
    },
    {
      "cell_type": "code",
      "execution_count": 19,
      "metadata": {
        "colab": {
          "base_uri": "https://localhost:8080/"
        },
        "id": "ZvXwUut5BhHq",
        "outputId": "64ea4d97-8eed-44e8-8284-a8346d4073b0"
      },
      "outputs": [
        {
          "output_type": "execute_result",
          "data": {
            "text/plain": [
              "tensor([0, 0, 0, 0, 0, 0, 0, 0, 0, 0])"
            ]
          },
          "metadata": {},
          "execution_count": 19
        }
      ],
      "source": [
        "# Can also create a tensor of zeros similar to another tensor\n",
        "ten_zeros = torch.zeros_like(input=zero_to_ten) # will have same shape\n",
        "ten_zeros"
      ]
    },
    {
      "cell_type": "markdown",
      "source": [
        "Kode torch.zeros_like(input=zero_to_ten) membuat sebuah tensor yang berisi nilai-nilai nol dengan ukuran yang sama seperti tensor zero_to_ten yang sudah ada sebelumnya.\n",
        "\n",
        "Hasilnya adalah tensor yang memiliki bentuk atau ukuran yang sama dengan zero_to_ten (yang merupakan tensor dengan urutan nilai dari 0 hingga 9), namun seluruh elemennya diisi dengan nilai nol."
      ],
      "metadata": {
        "id": "gvdsOl8c1Kb4"
      }
    },
    {
      "cell_type": "markdown",
      "metadata": {
        "id": "huKZ6QlYTGe7"
      },
      "source": [
        "### Tensor datatypes\n",
        "\n",
        "There are many different [tensor datatypes available in PyTorch](https://pytorch.org/docs/stable/tensors.html#data-types).\n",
        "\n",
        "Some are specific for CPU and some are better for GPU.\n",
        "\n",
        "Getting to know which is which can take some time.\n",
        "\n",
        "Generally if you see `torch.cuda` anywhere, the tensor is being used for GPU (since Nvidia GPUs use a computing toolkit called CUDA).\n",
        "\n",
        "The most common type (and generally the default) is `torch.float32` or `torch.float`.\n",
        "\n",
        "This is referred to as \"32-bit floating point\".\n",
        "\n",
        "But there's also 16-bit floating point (`torch.float16` or `torch.half`) and 64-bit floating point (`torch.float64` or `torch.double`).\n",
        "\n",
        "And to confuse things even more there's also 8-bit, 16-bit, 32-bit and 64-bit integers.\n",
        "\n",
        "Plus more!\n",
        "\n",
        "> **Note:** An integer is a flat round number like `7` whereas a float has a decimal `7.0`.\n",
        "\n",
        "The reason for all of these is to do with **precision in computing**.\n",
        "\n",
        "Precision is the amount of detail used to describe a number.\n",
        "\n",
        "The higher the precision value (8, 16, 32), the more detail and hence data used to express a number.\n",
        "\n",
        "This matters in deep learning and numerical computing because you're making so many operations, the more detail you have to calculate on, the more compute you have to use.\n",
        "\n",
        "So lower precision datatypes are generally faster to compute on but sacrifice some performance on evaluation metrics like accuracy (faster to compute but less accurate).\n",
        "\n",
        "> **Resources:**\n",
        "  * See the [PyTorch documentation for a list of all available tensor datatypes](https://pytorch.org/docs/stable/tensors.html#data-types).\n",
        "  * Read the [Wikipedia page for an overview of what precision in computing](https://en.wikipedia.org/wiki/Precision_(computer_science)) is.\n",
        "\n",
        "Let's see how to create some tensors with specific datatypes. We can do so using the `dtype` parameter."
      ]
    },
    {
      "cell_type": "code",
      "execution_count": 20,
      "metadata": {
        "colab": {
          "base_uri": "https://localhost:8080/"
        },
        "id": "q3MoGnpw9XaF",
        "outputId": "9ea540ad-b902-406d-b701-eae38fd773e9"
      },
      "outputs": [
        {
          "output_type": "execute_result",
          "data": {
            "text/plain": [
              "(torch.Size([3]), torch.float32, device(type='cpu'))"
            ]
          },
          "metadata": {},
          "execution_count": 20
        }
      ],
      "source": [
        "# Default datatype for tensors is float32\n",
        "float_32_tensor = torch.tensor([3.0, 6.0, 9.0],\n",
        "                               dtype=None, # defaults to None, which is torch.float32 or whatever datatype is passed\n",
        "                               device=None, # defaults to None, which uses the default tensor type\n",
        "                               requires_grad=False) # if True, operations performed on the tensor are recorded\n",
        "\n",
        "float_32_tensor.shape, float_32_tensor.dtype, float_32_tensor.device"
      ]
    },
    {
      "cell_type": "markdown",
      "source": [
        "Potongan kode yang Anda berikan membuat sebuah tensor dengan nilai [3.0, 6.0, 9.0] menggunakan PyTorch. Secara default, jika tidak ada tipe data yang diatur secara eksplisit, tipe data yang digunakan adalah torch.float32.\n",
        "\n",
        "Hasilnya adalah sebuah tensor dengan bentuk atau ukuran (3,), artinya terdiri dari tiga elemen, serta memiliki tipe data (dtype) torch.float32. Ini berarti bahwa setiap elemen dalam tensor tersebut dianggap sebagai bilangan pecahan (float) dengan presisi 32-bit.\n",
        "\n",
        "Parameter device yang diatur ke None membuat tensor tersebut menggunakan tipe tensor default yang ada di sistem, biasanya CPU. Sedangkan, requires_grad yang diatur ke False menandakan bahwa tensor ini tidak akan merekam operasi yang dilakukan padanya untuk tujuan perhitungan gradien dalam proses training jaringan neural."
      ],
      "metadata": {
        "id": "N0YPlN_oSp7L"
      }
    },
    {
      "cell_type": "markdown",
      "metadata": {
        "id": "MhP8kzDfe_ty"
      },
      "source": [
        "Aside from shape issues (tensor shapes don't match up), two of the other most common issues you'll come across in PyTorch are datatype and device issues.\n",
        "\n",
        "For example, one of tensors is `torch.float32` and the other is `torch.float16` (PyTorch often likes tensors to be the same format).\n",
        "\n",
        "Or one of your tensors is on the CPU and the other is on the GPU (PyTorch likes calculations between tensors to be on the same device).\n",
        "\n",
        "We'll see more of this device talk later on.\n",
        "\n",
        "For now let's create a tensor with `dtype=torch.float16`."
      ]
    },
    {
      "cell_type": "code",
      "execution_count": 21,
      "metadata": {
        "colab": {
          "base_uri": "https://localhost:8080/"
        },
        "id": "PKSuajld_09s",
        "outputId": "6f5e21e5-67d4-45a5-e13b-311603c5f836"
      },
      "outputs": [
        {
          "output_type": "execute_result",
          "data": {
            "text/plain": [
              "torch.float16"
            ]
          },
          "metadata": {},
          "execution_count": 21
        }
      ],
      "source": [
        "float_16_tensor = torch.tensor([3.0, 6.0, 9.0],\n",
        "                               dtype=torch.float16) # torch.half would also work\n",
        "\n",
        "float_16_tensor.dtype"
      ]
    },
    {
      "cell_type": "markdown",
      "source": [
        "\n",
        "Potongan kode tersebut membuat sebuah tensor dengan nilai [3.0, 6.0, 9.0] menggunakan PyTorch, tetapi kali ini, tipe data (dtype) yang ditetapkan secara eksplisit adalah torch.float16.\n",
        "\n",
        "Hasilnya adalah tensor dengan tipe data torch.float16. Tipe data ini dikenal juga sebagai torch.half yang merepresentasikan bilangan pecahan dengan presisi 16-bit (half precision). Tipe data ini menyimpan nilai dengan presisi lebih rendah dibandingkan dengan torch.float32, namun membutuhkan ruang memori yang lebih sedikit."
      ],
      "metadata": {
        "id": "nI3VaCBbSw1p"
      }
    },
    {
      "cell_type": "markdown",
      "metadata": {
        "id": "gUjkB2AX7Upz"
      },
      "source": [
        "## Getting information from tensors\n",
        "\n",
        "Once you've created tensors (or someone else or a PyTorch module has created them for you), you might want to get some information from them.\n",
        "\n",
        "We've seen these before but three of the most common attributes you'll want to find out about tensors are:\n",
        "* `shape` - what shape is the tensor? (some operations require specific shape rules)\n",
        "* `dtype` - what datatype are the elements within the tensor stored in?\n",
        "* `device` - what device is the tensor stored on? (usually GPU or CPU)\n",
        "\n",
        "Let's create a random tensor and find out details about it."
      ]
    },
    {
      "cell_type": "code",
      "execution_count": 22,
      "metadata": {
        "colab": {
          "base_uri": "https://localhost:8080/"
        },
        "id": "hd_X4D0j7Umq",
        "outputId": "744c69b6-e7d4-4219-9c4d-aa583818b47e"
      },
      "outputs": [
        {
          "output_type": "stream",
          "name": "stdout",
          "text": [
            "tensor([[0.0115, 0.7588, 0.5847, 0.5255],\n",
            "        [0.2871, 0.2703, 0.8691, 0.1873],\n",
            "        [0.4984, 0.3682, 0.6310, 0.7498]])\n",
            "Shape of tensor: torch.Size([3, 4])\n",
            "Datatype of tensor: torch.float32\n",
            "Device tensor is stored on: cpu\n"
          ]
        }
      ],
      "source": [
        "# Create a tensor\n",
        "some_tensor = torch.rand(3, 4)\n",
        "\n",
        "# Find out details about it\n",
        "print(some_tensor)\n",
        "print(f\"Shape of tensor: {some_tensor.shape}\")\n",
        "print(f\"Datatype of tensor: {some_tensor.dtype}\")\n",
        "print(f\"Device tensor is stored on: {some_tensor.device}\") # will default to CPU"
      ]
    },
    {
      "cell_type": "markdown",
      "source": [
        "Kode tersebut membuat sebuah tensor dengan ukuran 3 baris dan 4 kolom yang diisi dengan nilai-nilai acak menggunakan PyTorch.\n",
        "\n",
        "Hasil cetak dari some_tensor akan menampilkan nilai-nilai tensor yang berbeda setiap kali dijalankan, karena dibuat dengan nilai-nilai acak."
      ],
      "metadata": {
        "id": "JAbRH8nlS5Bu"
      }
    },
    {
      "cell_type": "markdown",
      "metadata": {
        "id": "45K-E5uPg6cj"
      },
      "source": [
        "> **Note:** When you run into issues in PyTorch, it's very often one to do with one of the three attributes above. So when the error messages show up, sing yourself a little song called \"what, what, where\":\n",
        "  * \"*what shape are my tensors? what datatype are they and where are they stored? what shape, what datatype, where where where*\""
      ]
    },
    {
      "cell_type": "markdown",
      "metadata": {
        "id": "BdiWvoAi7UjL"
      },
      "source": [
        "## Manipulating tensors (tensor operations)\n",
        "\n",
        "In deep learning, data (images, text, video, audio, protein structures, etc) gets represented as tensors.\n",
        "\n",
        "A model learns by investigating those tensors and performing a series of operations (could be 1,000,000s+) on tensors to create a representation of the patterns in the input data.\n",
        "\n",
        "These operations are often a wonderful dance between:\n",
        "* Addition\n",
        "* Substraction\n",
        "* Multiplication (element-wise)\n",
        "* Division\n",
        "* Matrix multiplication\n",
        "\n",
        "And that's it. Sure there are a few more here and there but these are the basic building blocks of neural networks.\n",
        "\n",
        "Stacking these building blocks in the right way, you can create the most sophisticated of neural networks (just like lego!)."
      ]
    },
    {
      "cell_type": "markdown",
      "metadata": {
        "id": "Sk_6Dd7L7Uce"
      },
      "source": [
        "### Basic operations\n",
        "\n",
        "Let's start with a few of the fundamental operations, addition (`+`), subtraction (`-`), mutliplication (`*`).\n",
        "\n",
        "They work just as you think they would."
      ]
    },
    {
      "cell_type": "code",
      "execution_count": 23,
      "metadata": {
        "colab": {
          "base_uri": "https://localhost:8080/"
        },
        "id": "X71WpQoPD7a4",
        "outputId": "98ad7a09-2b35-49e7-de9d-a1a1d379de86"
      },
      "outputs": [
        {
          "output_type": "execute_result",
          "data": {
            "text/plain": [
              "tensor([11, 12, 13])"
            ]
          },
          "metadata": {},
          "execution_count": 23
        }
      ],
      "source": [
        "# Create a tensor of values and add a number to it\n",
        "tensor = torch.tensor([1, 2, 3])\n",
        "tensor + 10"
      ]
    },
    {
      "cell_type": "markdown",
      "source": [
        "Kode tersebut membuat sebuah tensor dengan nilai [1, 2, 3] menggunakan PyTorch, kemudian menambahkan angka 10 ke setiap elemen di dalam tensor menggunakan operasi penambahan (+).\n",
        "\n",
        "Hasil dari operasi ini akan menghasilkan tensor baru yang elemennya dihasilkan dari penambahan angka 10 ke setiap elemen di dalam tensor awal [1, 2, 3]."
      ],
      "metadata": {
        "id": "bkty3yd_TCgW"
      }
    },
    {
      "cell_type": "code",
      "execution_count": 24,
      "metadata": {
        "colab": {
          "base_uri": "https://localhost:8080/"
        },
        "id": "Sp4TlTWWEFeO",
        "outputId": "3e093e8c-c0f6-491e-cc37-be0e80e82193"
      },
      "outputs": [
        {
          "output_type": "execute_result",
          "data": {
            "text/plain": [
              "tensor([10, 20, 30])"
            ]
          },
          "metadata": {},
          "execution_count": 24
        }
      ],
      "source": [
        "# Multiply it by 10\n",
        "tensor * 10"
      ]
    },
    {
      "cell_type": "markdown",
      "source": [
        "Pada kode yang diberikan sebelumnya, ketika operasi penambahan dilakukan terhadap tensor dengan menambahkan angka 10 ke setiap elemennya (tensor + 10), hasilnya tidak disimpan atau ditugaskan ke dalam variabel baru.\n",
        "\n",
        "Dalam konteks tensor pada PyTorch, operasi seperti ini tidak mengubah nilai-nilai asli dalam tensor tensor. Yang terjadi hanyalah pembuatan tensor baru yang berisi hasil operasi tersebut, namun tidak ada perubahan yang diterapkan ke tensor asli."
      ],
      "metadata": {
        "id": "RA4I5r9wTJBZ"
      }
    },
    {
      "cell_type": "markdown",
      "metadata": {
        "id": "-1VEHnuRkn8Q"
      },
      "source": [
        "Notice how the tensor values above didn't end up being `tensor([110, 120, 130])`, this is because the values inside the tensor don't change unless they're reassigned."
      ]
    },
    {
      "cell_type": "code",
      "execution_count": 25,
      "metadata": {
        "colab": {
          "base_uri": "https://localhost:8080/"
        },
        "id": "XuB1UjCIEJIA",
        "outputId": "2f186b25-1b2e-4ac5-8089-e75ff0488365"
      },
      "outputs": [
        {
          "output_type": "execute_result",
          "data": {
            "text/plain": [
              "tensor([1, 2, 3])"
            ]
          },
          "metadata": {},
          "execution_count": 25
        }
      ],
      "source": [
        "# Tensors don't change unless reassigned\n",
        "tensor"
      ]
    },
    {
      "cell_type": "markdown",
      "source": [
        "Pada PyTorch, ketika Anda melakukan operasi pada sebuah tensor seperti penambahan, pengurangan, atau operasi lain, nilai tensor tersebut tidak berubah secara langsung kecuali hasil operasi tersebut disimpan atau ditugaskan kembali ke tensor yang sama atau variabel baru.\n",
        "\n",
        "Jadi, jika Anda melakukan operasi matematika seperti penambahan atau pengurangan pada tensor, nilai tensor asli tetap tidak berubah kecuali Anda menugaskan kembali hasil operasi tersebut ke tensor yang sama."
      ],
      "metadata": {
        "id": "eYPPKHP1TPzW"
      }
    },
    {
      "cell_type": "markdown",
      "metadata": {
        "id": "VYvqGpUTk1o6"
      },
      "source": [
        "Let's subtract a number and this time we'll reassign the `tensor` variable."
      ]
    },
    {
      "cell_type": "code",
      "execution_count": 26,
      "metadata": {
        "colab": {
          "base_uri": "https://localhost:8080/"
        },
        "id": "U4iWKoLsENry",
        "outputId": "48d6484c-be56-4a89-8b79-51ceed25f3c3"
      },
      "outputs": [
        {
          "output_type": "execute_result",
          "data": {
            "text/plain": [
              "tensor([-9, -8, -7])"
            ]
          },
          "metadata": {},
          "execution_count": 26
        }
      ],
      "source": [
        "# Subtract and reassign\n",
        "tensor = tensor - 10\n",
        "tensor"
      ]
    },
    {
      "cell_type": "markdown",
      "source": [
        "Potongan kode tersebut melakukan pengurangan angka 10 dari setiap elemen dalam tensor yang disebut tensor, dan kemudian menugaskan hasil pengurangan tersebut kembali ke tensor.\n",
        "\n",
        "Jadi, jika nilai awal dari tensor adalah [1, 2, 3], operasi tensor = tensor - 10 akan mengurangkan 10 dari setiap elemen dan menugaskan hasilnya kembali ke tensor."
      ],
      "metadata": {
        "id": "Rs4ARFMzTVSf"
      }
    },
    {
      "cell_type": "code",
      "execution_count": 27,
      "metadata": {
        "colab": {
          "base_uri": "https://localhost:8080/"
        },
        "id": "tFgZY-PaFNXa",
        "outputId": "36488ab1-5d13-401f-eaad-f63d58e58deb"
      },
      "outputs": [
        {
          "output_type": "execute_result",
          "data": {
            "text/plain": [
              "tensor([1, 2, 3])"
            ]
          },
          "metadata": {},
          "execution_count": 27
        }
      ],
      "source": [
        "# Add and reassign\n",
        "tensor = tensor + 10\n",
        "tensor"
      ]
    },
    {
      "cell_type": "markdown",
      "source": [
        "kode yang Anda berikan melakukan penambahan angka 10 ke setiap elemen dalam tensor yang disebut tensor, kemudian menugaskan hasil penambahan tersebut kembali ke variabel tensor.\n",
        "\n",
        "Jika nilai tensor sebelumnya adalah [-9, -8, -7], operasi tensor = tensor + 10 akan menambahkan 10 ke setiap elemen dalam tensor tersebut dan menugaskan hasilnya kembali ke tensor."
      ],
      "metadata": {
        "id": "OKfLPfBiTYRD"
      }
    },
    {
      "cell_type": "markdown",
      "metadata": {
        "id": "CYXDoIOzk-6I"
      },
      "source": [
        "PyTorch also has a bunch of built-in functions like [`torch.mul()`](https://pytorch.org/docs/stable/generated/torch.mul.html#torch.mul) (short for multiplication) and [`torch.add()`](https://pytorch.org/docs/stable/generated/torch.add.html) to perform basic operations."
      ]
    },
    {
      "cell_type": "code",
      "execution_count": 28,
      "metadata": {
        "colab": {
          "base_uri": "https://localhost:8080/"
        },
        "id": "uVysdk3kFWbY",
        "outputId": "c5b90298-086f-4cc2-d38e-9b3026e9446a"
      },
      "outputs": [
        {
          "output_type": "execute_result",
          "data": {
            "text/plain": [
              "tensor([10, 20, 30])"
            ]
          },
          "metadata": {},
          "execution_count": 28
        }
      ],
      "source": [
        "# Can also use torch functions\n",
        "torch.multiply(tensor, 10)"
      ]
    },
    {
      "cell_type": "markdown",
      "source": [
        "torch.multiply(tensor, 10) mencoba untuk mengalikan setiap elemen dalam tensor yang disebut tensor dengan angka 10 menggunakan fungsi torch.multiply().\n",
        "\n",
        "Namun, pada PyTorch, tidak ada fungsi torch.multiply() yang langsung dapat digunakan untuk melakukan perkalian elemen-wise pada tensor. Fungsi yang sesuai untuk melakukan perkalian elemen-wise dalam PyTorch adalah torch.mul(). Jadi, jika Anda ingin mengalikan setiap elemen dalam tensor dengan angka 10, Anda dapat melakukannya dengan menggunakan torch.mul()"
      ],
      "metadata": {
        "id": "C6AP91XqTs-d"
      }
    },
    {
      "cell_type": "code",
      "execution_count": 29,
      "metadata": {
        "colab": {
          "base_uri": "https://localhost:8080/"
        },
        "id": "IxuPJIpNFbqO",
        "outputId": "7f592e59-4d4d-4974-b730-9bd16cbd9a93"
      },
      "outputs": [
        {
          "output_type": "execute_result",
          "data": {
            "text/plain": [
              "tensor([1, 2, 3])"
            ]
          },
          "metadata": {},
          "execution_count": 29
        }
      ],
      "source": [
        "# Original tensor is still unchanged\n",
        "tensor"
      ]
    },
    {
      "cell_type": "markdown",
      "source": [
        "\n",
        "Ketika Anda menggunakan fungsi atau operasi pada tensor di PyTorch, nilai tensor asli tidak berubah kecuali hasil operasi tersebut ditugaskan kembali ke tensor yang sama atau variabel lain.\n",
        "\n",
        "Dalam kasus ini, setelah Anda menggunakan fungsi torch.multiply() (atau torch.mul()) untuk mengalikan setiap elemen dalam tensor dengan angka 10, jika hasilnya tidak ditugaskan kembali ke variabel yang sesuai, nilai dari tensor asli (tensor) tetap tidak berubah.\n",
        "\n",
        "Jadi, ketika Anda mencetak tensor setelah menggunakan fungsi torch.multiply() (atau torch.mul()), Anda akan melihat nilai-nilai asli dari tensor yang masih sama seperti sebelumnya, karena hasil operasi tersebut tidak disimpan atau ditugaskan kembali ke variabel tensor."
      ],
      "metadata": {
        "id": "KqykYGJ7T0at"
      }
    },
    {
      "cell_type": "markdown",
      "metadata": {
        "id": "70UNL33AlVQq"
      },
      "source": [
        "However, it's more common to use the operator symbols like `*` instead of `torch.mul()`"
      ]
    },
    {
      "cell_type": "code",
      "execution_count": 30,
      "metadata": {
        "colab": {
          "base_uri": "https://localhost:8080/"
        },
        "id": "S5v3RkR0F2Jq",
        "outputId": "6877bf5d-0ad9-4a6e-a36c-7f08e2f0d2e3"
      },
      "outputs": [
        {
          "output_type": "stream",
          "name": "stdout",
          "text": [
            "tensor([1, 2, 3]) * tensor([1, 2, 3])\n",
            "Equals: tensor([1, 4, 9])\n"
          ]
        }
      ],
      "source": [
        "# Element-wise multiplication (each element multiplies its equivalent, index 0->0, 1->1, 2->2)\n",
        "print(tensor, \"*\", tensor)\n",
        "print(\"Equals:\", tensor * tensor)"
      ]
    },
    {
      "cell_type": "markdown",
      "source": [
        "kode yang Anda berikan melakukan perkalian setiap elemen dalam tensor dengan elemen pada posisi yang setara atau indeks yang sama dalam tensor yang sama.\n",
        "\n",
        "Jika nilai tensor adalah [1, 2, 3], dan operasi tensor * tensor dilakukan, hasilnya akan mengalikan setiap elemen pada indeks yang sama. Ini dilakukan secara elemen-wise, di mana setiap elemen pada posisi yang sama di kedua tensor dikalikan bersama untuk menghasilkan tensor baru."
      ],
      "metadata": {
        "id": "HrB_gBb1T9fb"
      }
    },
    {
      "cell_type": "markdown",
      "metadata": {
        "id": "TT5fVuyu7q5z"
      },
      "source": [
        "### Matrix multiplication (is all you need)\n",
        "\n",
        "One of the most common operations in machine learning and deep learning algorithms (like neural networks) is [matrix multiplication](https://www.mathsisfun.com/algebra/matrix-multiplying.html).\n",
        "\n",
        "PyTorch implements matrix multiplication functionality in the [`torch.matmul()`](https://pytorch.org/docs/stable/generated/torch.matmul.html) method.\n",
        "\n",
        "The main two rules for matrix multiplication to remember are:\n",
        "\n",
        "1. The **inner dimensions** must match:\n",
        "  * `(3, 2) @ (3, 2)` won't work\n",
        "  * `(2, 3) @ (3, 2)` will work\n",
        "  * `(3, 2) @ (2, 3)` will work\n",
        "2. The resulting matrix has the shape of the **outer dimensions**:\n",
        " * `(2, 3) @ (3, 2)` -> `(2, 2)`\n",
        " * `(3, 2) @ (2, 3)` -> `(3, 3)`\n",
        "\n",
        "> **Note:** \"`@`\" in Python is the symbol for matrix multiplication.\n",
        "\n",
        "> **Resource:** You can see all of the rules for matrix multiplication using `torch.matmul()` [in the PyTorch documentation](https://pytorch.org/docs/stable/generated/torch.matmul.html).\n",
        "\n",
        "Let's create a tensor and perform element-wise multiplication and matrix multiplication on it.\n",
        "\n"
      ]
    },
    {
      "cell_type": "code",
      "execution_count": 31,
      "metadata": {
        "colab": {
          "base_uri": "https://localhost:8080/"
        },
        "id": "ZE7loucmDlEM",
        "outputId": "0ac0432e-6c1e-49bc-d466-efd8e97eff30"
      },
      "outputs": [
        {
          "output_type": "execute_result",
          "data": {
            "text/plain": [
              "torch.Size([3])"
            ]
          },
          "metadata": {},
          "execution_count": 31
        }
      ],
      "source": [
        "import torch\n",
        "tensor = torch.tensor([1, 2, 3])\n",
        "tensor.shape"
      ]
    },
    {
      "cell_type": "markdown",
      "source": [
        "Kode tersebut menggunakan pustaka PyTorch untuk membuat sebuah tensor dengan nilai [1, 2, 3]. Kemudian, dengan menggunakan properti .shape, kode tersebut menampilkan bentuk atau ukuran dari tensor yang telah dibuat."
      ],
      "metadata": {
        "id": "OkAuFs8XUEiM"
      }
    },
    {
      "cell_type": "markdown",
      "metadata": {
        "id": "VUAZ3_b0vOKv"
      },
      "source": [
        "The difference between element-wise multiplication and matrix multiplication is the addition of values.\n",
        "\n",
        "For our `tensor` variable with values `[1, 2, 3]`:\n",
        "\n",
        "| Operation | Calculation | Code |\n",
        "| ----- | ----- | ----- |\n",
        "| **Element-wise multiplication** | `[1*1, 2*2, 3*3]` = `[1, 4, 9]` | `tensor * tensor` |\n",
        "| **Matrix multiplication** | `[1*1 + 2*2 + 3*3]` = `[14]` | `tensor.matmul(tensor)` |\n"
      ]
    },
    {
      "cell_type": "code",
      "execution_count": 32,
      "metadata": {
        "colab": {
          "base_uri": "https://localhost:8080/"
        },
        "id": "i42gkUeHvI_1",
        "outputId": "559fe975-6655-4df4-b31c-e206c1613482"
      },
      "outputs": [
        {
          "output_type": "execute_result",
          "data": {
            "text/plain": [
              "tensor([1, 4, 9])"
            ]
          },
          "metadata": {},
          "execution_count": 32
        }
      ],
      "source": [
        "# Element-wise matrix multiplication\n",
        "tensor * tensor"
      ]
    },
    {
      "cell_type": "markdown",
      "source": [
        "Operasi tensor * tensor pada tensor dalam PyTorch melibatkan perkalian elemen-wise (perkalian satu per satu) antara tensor yang sama dengan dirinya sendiri.\n",
        "\n",
        "Jika kita memiliki tensor dengan nilai [1, 2, 3], dan kita melakukan operasi tensor * tensor, ini akan mengalikan setiap elemen pada indeks yang sama."
      ],
      "metadata": {
        "id": "UNIsCi8QUKhB"
      }
    },
    {
      "cell_type": "code",
      "execution_count": 33,
      "metadata": {
        "colab": {
          "base_uri": "https://localhost:8080/"
        },
        "id": "PvCBiiTTDk8y",
        "outputId": "336a0dbc-d082-4848-f177-44f5da2248db"
      },
      "outputs": [
        {
          "output_type": "execute_result",
          "data": {
            "text/plain": [
              "tensor(14)"
            ]
          },
          "metadata": {},
          "execution_count": 33
        }
      ],
      "source": [
        "# Matrix multiplication\n",
        "torch.matmul(tensor, tensor)"
      ]
    },
    {
      "cell_type": "markdown",
      "source": [
        "Operasi torch.matmul(tensor, tensor) pada PyTorch melakukan perkalian matriks antara tensor yang diberikan dengan dirinya sendiri. Namun, dalam kasus ini, tensor yang diberikan merupakan sebuah tensor satu dimensi.\n",
        "\n",
        "Dalam operasi perkalian matriks, kedua matriks harus memiliki dimensi yang sesuai, yaitu matriks pertama harus memiliki dimensi (m x n) dan matriks kedua harus memiliki dimensi (n x p) agar dapat melakukan operasi perkalian matriks."
      ],
      "metadata": {
        "id": "KAK5BJfvUSMx"
      }
    },
    {
      "cell_type": "code",
      "execution_count": 34,
      "metadata": {
        "colab": {
          "base_uri": "https://localhost:8080/"
        },
        "id": "m4E_pROBDk2r",
        "outputId": "98dce719-1bc0-42cc-aded-866d4bf708b3"
      },
      "outputs": [
        {
          "output_type": "execute_result",
          "data": {
            "text/plain": [
              "tensor(14)"
            ]
          },
          "metadata": {},
          "execution_count": 34
        }
      ],
      "source": [
        "# Can also use the \"@\" symbol for matrix multiplication, though not recommended\n",
        "tensor @ tensor"
      ]
    },
    {
      "cell_type": "markdown",
      "source": [
        "Dalam PyTorch, operator @ digunakan untuk melakukan operasi perkalian matriks atau tensor dalam kasus tensor dua dimensi. Namun, ketika operator @ digunakan pada tensor satu dimensi seperti yang kita miliki (tensor @ tensor), secara konseptual, ini lebih diarahkan pada operasi perkalian matriks."
      ],
      "metadata": {
        "id": "fhrLw8iQUZ2X"
      }
    },
    {
      "cell_type": "markdown",
      "metadata": {
        "id": "obbginUMv43A"
      },
      "source": [
        "You can do matrix multiplication by hand but it's not recommended.\n",
        "\n",
        "The in-built `torch.matmul()` method is faster."
      ]
    },
    {
      "cell_type": "code",
      "execution_count": 35,
      "metadata": {
        "colab": {
          "base_uri": "https://localhost:8080/"
        },
        "id": "6qMSaLOoJscL",
        "outputId": "c2eb4c74-aec5-43e2-d4f0-8fc179b68ca5"
      },
      "outputs": [
        {
          "output_type": "stream",
          "name": "stdout",
          "text": [
            "CPU times: user 627 µs, sys: 0 ns, total: 627 µs\n",
            "Wall time: 673 µs\n"
          ]
        },
        {
          "output_type": "execute_result",
          "data": {
            "text/plain": [
              "tensor(14)"
            ]
          },
          "metadata": {},
          "execution_count": 35
        }
      ],
      "source": [
        "%%time\n",
        "# Matrix multiplication by hand\n",
        "# (avoid doing operations with for loops at all cost, they are computationally expensive)\n",
        "value = 0\n",
        "for i in range(len(tensor)):\n",
        "  value += tensor[i] * tensor[i]\n",
        "value"
      ]
    },
    {
      "cell_type": "markdown",
      "source": [
        "Potongan kode yang Anda tunjukkan merupakan implementasi dari operasi perhitungan kuadrat dari setiap elemen dalam tensor tensor dan kemudian menjumlahkan hasilnya secara berurutan.\n",
        "\n",
        "Pada setiap iterasi dari loop for, nilai dari value ditambahkan dengan hasil perkalian antara elemen tensor pada indeks i yang dipangkatkan dua, yaitu tensor[i] * tensor[i]. Ini menghasilkan operasi perhitungan kuadrat dari setiap elemen dalam tensor tensor.\n",
        "\n",
        "Setelah iterasi selesai, nilai value akan berisi hasil penjumlahan dari operasi kuadrat semua elemen dalam tensor tensor.\n",
        "\n"
      ],
      "metadata": {
        "id": "dfx8xqpgUjND"
      }
    },
    {
      "cell_type": "code",
      "execution_count": 36,
      "metadata": {
        "colab": {
          "base_uri": "https://localhost:8080/"
        },
        "id": "vVWiKB0KwH74",
        "outputId": "6b1810c9-ab4f-4dd2-bf74-52caba9dcfa8"
      },
      "outputs": [
        {
          "output_type": "stream",
          "name": "stdout",
          "text": [
            "CPU times: user 28 µs, sys: 4 µs, total: 32 µs\n",
            "Wall time: 35.8 µs\n"
          ]
        },
        {
          "output_type": "execute_result",
          "data": {
            "text/plain": [
              "tensor(14)"
            ]
          },
          "metadata": {},
          "execution_count": 36
        }
      ],
      "source": [
        "%%time\n",
        "torch.matmul(tensor, tensor)"
      ]
    },
    {
      "cell_type": "markdown",
      "source": [
        "Kode yang diberikan menggunakan fungsi torch.matmul() untuk melakukan operasi perkalian matriks atau tensor antara tensor tensor dengan dirinya sendiri.\n",
        "\n",
        "Pada blok kode dengan %%time, perintah %time digunakan untuk mengukur waktu eksekusi dari sel kode di atasnya."
      ],
      "metadata": {
        "id": "gfFZz-OLUoji"
      }
    },
    {
      "cell_type": "markdown",
      "metadata": {
        "id": "aJ4DDmo1TGe-"
      },
      "source": [
        "## One of the most common errors in deep learning (shape errors)\n",
        "\n",
        "Because much of deep learning is multiplying and performing operations on matrices and matrices have a strict rule about what shapes and sizes can be combined, one of the most common errors you'll run into in deep learning is shape mismatches."
      ]
    },
    {
      "cell_type": "code",
      "execution_count": 38,
      "metadata": {
        "colab": {
          "base_uri": "https://localhost:8080/",
          "height": 210
        },
        "id": "rN5RcoD4Jo6y",
        "outputId": "3f101624-3c61-4cb1-e5d3-e27162d3bee5"
      },
      "outputs": [
        {
          "output_type": "error",
          "ename": "RuntimeError",
          "evalue": "mat1 and mat2 shapes cannot be multiplied (3x2 and 3x2)",
          "traceback": [
            "\u001b[0;31m---------------------------------------------------------------------------\u001b[0m",
            "\u001b[0;31mRuntimeError\u001b[0m                              Traceback (most recent call last)",
            "\u001b[0;32m<ipython-input-38-5893e600ebdf>\u001b[0m in \u001b[0;36m<cell line: 10>\u001b[0;34m()\u001b[0m\n\u001b[1;32m      8\u001b[0m                          [9, 12]], dtype=torch.float32)\n\u001b[1;32m      9\u001b[0m \u001b[0;34m\u001b[0m\u001b[0m\n\u001b[0;32m---> 10\u001b[0;31m \u001b[0mtorch\u001b[0m\u001b[0;34m.\u001b[0m\u001b[0mmatmul\u001b[0m\u001b[0;34m(\u001b[0m\u001b[0mtensor_A\u001b[0m\u001b[0;34m,\u001b[0m \u001b[0mtensor_B\u001b[0m\u001b[0;34m)\u001b[0m \u001b[0;31m# (this will error)\u001b[0m\u001b[0;34m\u001b[0m\u001b[0;34m\u001b[0m\u001b[0m\n\u001b[0m",
            "\u001b[0;31mRuntimeError\u001b[0m: mat1 and mat2 shapes cannot be multiplied (3x2 and 3x2)"
          ]
        }
      ],
      "source": [
        "# Shapes need to be in the right way\n",
        "tensor_A = torch.tensor([[1, 2],\n",
        "                         [3, 4],\n",
        "                         [5, 6]], dtype=torch.float32)\n",
        "\n",
        "tensor_B = torch.tensor([[7, 10],\n",
        "                         [8, 11],\n",
        "                         [9, 12]], dtype=torch.float32)\n",
        "\n",
        "torch.matmul(tensor_A, tensor_B) # (this will error)"
      ]
    },
    {
      "cell_type": "markdown",
      "source": [
        "Kode tersebut mencoba melakukan operasi perkalian matriks antara dua tensor, tensor_A dan tensor_B, menggunakan torch.matmul(). Namun, operasi ini akan menghasilkan kesalahan karena ketidakcocokan bentuk atau ukuran (shape) antara kedua tensor."
      ],
      "metadata": {
        "id": "gHfKZwn3Uvh7"
      }
    },
    {
      "cell_type": "markdown",
      "metadata": {
        "id": "HNA6MZEFxWVt"
      },
      "source": [
        "We can make matrix multiplication work between `tensor_A` and `tensor_B` by making their inner dimensions match.\n",
        "\n",
        "One of the ways to do this is with a **transpose** (switch the dimensions of a given tensor).\n",
        "\n",
        "You can perform transposes in PyTorch using either:\n",
        "* `torch.transpose(input, dim0, dim1)` - where `input` is the desired tensor to transpose and `dim0` and `dim1` are the dimensions to be swapped.\n",
        "* `tensor.T` - where `tensor` is the desired tensor to transpose.\n",
        "\n",
        "Let's try the latter."
      ]
    },
    {
      "cell_type": "code",
      "execution_count": 39,
      "metadata": {
        "colab": {
          "base_uri": "https://localhost:8080/"
        },
        "id": "lUqgaANiy1wq",
        "outputId": "367a31b4-7216-487c-de77-a4097ea0b297"
      },
      "outputs": [
        {
          "output_type": "stream",
          "name": "stdout",
          "text": [
            "tensor([[1., 2.],\n",
            "        [3., 4.],\n",
            "        [5., 6.]])\n",
            "tensor([[ 7., 10.],\n",
            "        [ 8., 11.],\n",
            "        [ 9., 12.]])\n"
          ]
        }
      ],
      "source": [
        "# View tensor_A and tensor_B\n",
        "print(tensor_A)\n",
        "print(tensor_B)"
      ]
    },
    {
      "cell_type": "markdown",
      "source": [
        "Dua tensor yang telah Anda definisikan, tensor_A dan tensor_B, memiliki bentuk (shape) yang berbeda.\n",
        "\n",
        "tensor_A memiliki bentuk (3, 2), yang berarti memiliki 3 baris dan 2 kolom."
      ],
      "metadata": {
        "id": "tnWXndfAVR24"
      }
    },
    {
      "cell_type": "code",
      "execution_count": 40,
      "metadata": {
        "colab": {
          "base_uri": "https://localhost:8080/"
        },
        "id": "DveqxO7iy_Fi",
        "outputId": "41a32a4e-5061-4361-c3d6-6ab0d5b4046b"
      },
      "outputs": [
        {
          "output_type": "stream",
          "name": "stdout",
          "text": [
            "tensor([[1., 2.],\n",
            "        [3., 4.],\n",
            "        [5., 6.]])\n",
            "tensor([[ 7.,  8.,  9.],\n",
            "        [10., 11., 12.]])\n"
          ]
        }
      ],
      "source": [
        "# View tensor_A and tensor_B.T\n",
        "print(tensor_A)\n",
        "print(tensor_B.T)"
      ]
    },
    {
      "cell_type": "markdown",
      "source": [
        "Ketika kita mencetak tensor_A dan tensor_B.T, kita melihat isi dari kedua tensor.\n",
        "\n",
        "tensor_A memiliki bentuk (shape) (3, 2) dan isinya"
      ],
      "metadata": {
        "id": "igl96HRVVbWE"
      }
    },
    {
      "cell_type": "code",
      "execution_count": 41,
      "metadata": {
        "colab": {
          "base_uri": "https://localhost:8080/"
        },
        "id": "35rEIu-NKtVE",
        "outputId": "d1e0f2af-1307-44de-9f8c-d887ed8210f8"
      },
      "outputs": [
        {
          "output_type": "stream",
          "name": "stdout",
          "text": [
            "Original shapes: tensor_A = torch.Size([3, 2]), tensor_B = torch.Size([3, 2])\n",
            "\n",
            "New shapes: tensor_A = torch.Size([3, 2]) (same as above), tensor_B.T = torch.Size([2, 3])\n",
            "\n",
            "Multiplying: torch.Size([3, 2]) * torch.Size([2, 3]) <- inner dimensions match\n",
            "\n",
            "Output:\n",
            "\n",
            "tensor([[ 27.,  30.,  33.],\n",
            "        [ 61.,  68.,  75.],\n",
            "        [ 95., 106., 117.]])\n",
            "\n",
            "Output shape: torch.Size([3, 3])\n"
          ]
        }
      ],
      "source": [
        "# The operation works when tensor_B is transposed\n",
        "print(f\"Original shapes: tensor_A = {tensor_A.shape}, tensor_B = {tensor_B.shape}\\n\")\n",
        "print(f\"New shapes: tensor_A = {tensor_A.shape} (same as above), tensor_B.T = {tensor_B.T.shape}\\n\")\n",
        "print(f\"Multiplying: {tensor_A.shape} * {tensor_B.T.shape} <- inner dimensions match\\n\")\n",
        "print(\"Output:\\n\")\n",
        "output = torch.matmul(tensor_A, tensor_B.T)\n",
        "print(output)\n",
        "print(f\"\\nOutput shape: {output.shape}\")"
      ]
    },
    {
      "cell_type": "markdown",
      "source": [
        "kita melakukan operasi perkalian matriks antara tensor_A dan tensor_B.T yang merupakan hasil dari transpose dari tensor_B.\n",
        "\n",
        "Bentuk (shape) dari tensor_A adalah (3, 2), yang artinya memiliki 3 baris dan 2 kolom.\n",
        "Bentuk dari tensor_B.T adalah (2, 3), yang berarti memiliki 2 baris dan 3 kolom setelah dilakukan operasi transpose.\n",
        "Operasi perkalian matriks membutuhkan kesesuaian jumlah kolom dari matriks pertama dengan jumlah baris dari matriks kedua. Dalam hal ini, bentuk tensor_A adalah (3, 2), dan bentuk tensor_B.T setelah operasi transpose menjadi (2, 3). Jumlah kolom dari tensor_A (2) sama dengan jumlah baris dari tensor_B.T (2), sehingga memungkinkan untuk melakukan operasi perkalian matriks yang valid."
      ],
      "metadata": {
        "id": "Je20YlZ5VqFf"
      }
    },
    {
      "cell_type": "markdown",
      "metadata": {
        "id": "MfcFEqfLjN24"
      },
      "source": [
        "You can also use [`torch.mm()`](https://pytorch.org/docs/stable/generated/torch.mm.html) which is a short for `torch.matmul()`."
      ]
    },
    {
      "cell_type": "code",
      "execution_count": 42,
      "metadata": {
        "colab": {
          "base_uri": "https://localhost:8080/"
        },
        "id": "x3rJvW_TTGe_",
        "outputId": "74bd52d9-aed8-4922-87d5-9404c0fccb59"
      },
      "outputs": [
        {
          "output_type": "execute_result",
          "data": {
            "text/plain": [
              "tensor([[ 27.,  30.,  33.],\n",
              "        [ 61.,  68.,  75.],\n",
              "        [ 95., 106., 117.]])"
            ]
          },
          "metadata": {},
          "execution_count": 42
        }
      ],
      "source": [
        "# torch.mm is a shortcut for matmul\n",
        "torch.mm(tensor_A, tensor_B.T)"
      ]
    },
    {
      "cell_type": "markdown",
      "source": [
        "Fungsi torch.mm() adalah singkatan dari torch.matmul() yang dioptimalkan khusus untuk melakukan operasi perkalian matriks pada tensor dua dimensi.\n",
        "\n",
        "Dalam konteks kasus ini, torch.mm(tensor_A, tensor_B.T) dilakukan untuk melakukan perkalian matriks antara tensor_A dan hasil dari transpose dari tensor_B. Operasi ini dilakukan untuk mencapai hasil yang sama dengan operasi torch.matmul(tensor_A, tensor_B.T) sebelumnya.\n",
        "\n",
        "Ketika kita menggunakan torch.mm() untuk melakukan operasi perkalian matriks antara tensor_A dan tensor_B.T, secara esensial, kita melakukan perkalian matriks dengan memanfaatkan fungsi yang dioptimalkan khusus untuk tensor dua dimensi."
      ],
      "metadata": {
        "id": "Jpjpx48jV8pB"
      }
    },
    {
      "cell_type": "markdown",
      "metadata": {
        "id": "bXKozI4T0hFi"
      },
      "source": [
        "Without the transpose, the rules of matrix mulitplication aren't fulfilled and we get an error like above.\n",
        "\n",
        "How about a visual?\n",
        "\n",
        "![visual demo of matrix multiplication](https://github.com/mrdbourke/pytorch-deep-learning/raw/main/images/00-matrix-multiply-crop.gif)\n",
        "\n",
        "You can create your own matrix multiplication visuals like this at http://matrixmultiplication.xyz/.\n",
        "\n",
        "> **Note:** A matrix multiplication like this is also referred to as the [**dot product**](https://www.mathsisfun.com/algebra/vectors-dot-product.html) of two matrices.\n",
        "\n"
      ]
    },
    {
      "cell_type": "markdown",
      "metadata": {
        "id": "hA64Z4DmkB31"
      },
      "source": [
        "Neural networks are full of matrix multiplications and dot products.\n",
        "\n",
        "The [`torch.nn.Linear()`](https://pytorch.org/docs/1.9.1/generated/torch.nn.Linear.html) module (we'll see this in action later on), also known as a feed-forward layer or fully connected layer, implements a matrix multiplication between an input `x` and a weights matrix `A`.\n",
        "\n",
        "$$\n",
        "y = x\\cdot{A^T} + b\n",
        "$$\n",
        "\n",
        "Where:\n",
        "* `x` is the input to the layer (deep learning is a stack of layers like `torch.nn.Linear()` and others on top of each other).\n",
        "* `A` is the weights matrix created by the layer, this starts out as random numbers that get adjusted as a neural network learns to better represent patterns in the data (notice the \"`T`\", that's because the weights matrix gets transposed).\n",
        "  * **Note:** You might also often see `W` or another letter like `X` used to showcase the weights matrix.\n",
        "* `b` is the bias term used to slightly offset the weights and inputs.\n",
        "* `y` is the output (a manipulation of the input in the hopes to discover patterns in it).\n",
        "\n",
        "This is a linear function (you may have seen something like $y = mx+b$ in high school or elsewhere), and can be used to draw a straight line!\n",
        "\n",
        "Let's play around with a linear layer.\n",
        "\n",
        "Try changing the values of `in_features` and `out_features` below and see what happens.\n",
        "\n",
        "Do you notice anything to do with the shapes?"
      ]
    },
    {
      "cell_type": "code",
      "execution_count": 43,
      "metadata": {
        "colab": {
          "base_uri": "https://localhost:8080/"
        },
        "id": "mC_MjKW1LX7T",
        "outputId": "0b5cab8a-acc7-4799-9bea-61c6a32fa7a8"
      },
      "outputs": [
        {
          "output_type": "stream",
          "name": "stdout",
          "text": [
            "Input shape: torch.Size([3, 2])\n",
            "\n",
            "Output:\n",
            "tensor([[2.2368, 1.2292, 0.4714, 0.3864, 0.1309, 0.9838],\n",
            "        [4.4919, 2.1970, 0.4469, 0.5285, 0.3401, 2.4777],\n",
            "        [6.7469, 3.1648, 0.4224, 0.6705, 0.5493, 3.9716]],\n",
            "       grad_fn=<AddmmBackward0>)\n",
            "\n",
            "Output shape: torch.Size([3, 6])\n"
          ]
        }
      ],
      "source": [
        "# Since the linear layer starts with a random weights matrix, let's make it reproducible (more on this later)\n",
        "torch.manual_seed(42)\n",
        "# This uses matrix multiplication\n",
        "linear = torch.nn.Linear(in_features=2, # in_features = matches inner dimension of input\n",
        "                         out_features=6) # out_features = describes outer value\n",
        "x = tensor_A\n",
        "output = linear(x)\n",
        "print(f\"Input shape: {x.shape}\\n\")\n",
        "print(f\"Output:\\n{output}\\n\\nOutput shape: {output.shape}\")"
      ]
    },
    {
      "cell_type": "markdown",
      "source": [
        "Kode di atas menggunakan PyTorch untuk membuat sebuah lapisan linear (linear layer) menggunakan fungsi torch.nn.Linear. Lapisan linear ini sering digunakan dalam jaringan neural untuk melakukan transformasi linier pada input.\n",
        "\n",
        "Dalam contoh ini:\n",
        "\n",
        "in_features=2 menentukan jumlah fitur (features) pada input. Ini menyesuaikan dengan dimensi dalam tensor input tensor_A, yang memiliki 2 fitur.\n",
        "out_features=6 menentukan jumlah fitur pada output. Ketika operasi linear dilakukan, ini akan menghasilkan tensor dengan 6 fitur sebagai output.\n",
        "Selanjutnya, kita menggunakan tensor tensor_A sebagai input untuk lapisan linear yang telah dibuat. Operasi ini melakukan perkalian matriks antara tensor_A dan bobot (weights) yang secara otomatis diinisialisasi secara acak oleh PyTorch saat kita membuat lapisan linear. Penggunaan fungsi torch.manual_seed(42) di awal bertujuan untuk mengatur seed (benih) secara manual agar inisialisasi bobot yang acak ini dapat direproduksi konsisten.\n",
        "\n",
        "Setelah melakukan operasi lapisan linear, kita mencetak output yang dihasilkan dan bentuknya (output.shape)."
      ],
      "metadata": {
        "id": "3S69wN92WTHV"
      }
    },
    {
      "cell_type": "markdown",
      "metadata": {
        "id": "zIGrP5j1pN7j"
      },
      "source": [
        "> **Question:** What happens if you change `in_features` from 2 to 3 above? Does it error? How could you change the shape of the input (`x`) to accomodate to the error? Hint: what did we have to do to `tensor_B` above?"
      ]
    },
    {
      "cell_type": "markdown",
      "metadata": {
        "id": "EPNF0nMWoGEj"
      },
      "source": [
        "If you've never done it before, matrix multiplication can be a confusing topic at first.\n",
        "\n",
        "But after you've played around with it a few times and even cracked open a few neural networks, you'll notice it's everywhere.\n",
        "\n",
        "Remember, matrix multiplication is all you need.\n",
        "\n",
        "![matrix multiplication is all you need](https://raw.githubusercontent.com/mrdbourke/pytorch-deep-learning/main/images/00_matrix_multiplication_is_all_you_need.jpeg)\n",
        "\n",
        "*When you start digging into neural network layers and building your own, you'll find matrix multiplications everywhere. **Source:** https://marksaroufim.substack.com/p/working-class-deep-learner*"
      ]
    },
    {
      "cell_type": "markdown",
      "metadata": {
        "id": "pjMmrJOOPv5e"
      },
      "source": [
        "### Finding the min, max, mean, sum, etc (aggregation)\n",
        "\n",
        "Now we've seen a few ways to manipulate tensors, let's run through a few ways to aggregate them (go from more values to less values).\n",
        "\n",
        "First we'll create a tensor and then find the max, min, mean and sum of it.\n",
        "\n",
        "\n",
        "\n"
      ]
    },
    {
      "cell_type": "code",
      "execution_count": 44,
      "metadata": {
        "colab": {
          "base_uri": "https://localhost:8080/"
        },
        "id": "jrFQbe5fP1Rk",
        "outputId": "90d46f5d-e844-4bab-f734-8cc137d4fd69"
      },
      "outputs": [
        {
          "output_type": "execute_result",
          "data": {
            "text/plain": [
              "tensor([ 0, 10, 20, 30, 40, 50, 60, 70, 80, 90])"
            ]
          },
          "metadata": {},
          "execution_count": 44
        }
      ],
      "source": [
        "# Create a tensor\n",
        "x = torch.arange(0, 100, 10)\n",
        "x"
      ]
    },
    {
      "cell_type": "markdown",
      "source": [
        "Kode tersebut membuat sebuah tensor menggunakan fungsi torch.arange().\n",
        "\n",
        "Pada kode x = torch.arange(0, 100, 10), fungsi torch.arange() digunakan untuk membuat tensor yang berisi deret bilangan dari 0 hingga kurang dari 100 dengan interval (langkah) antara nilai-nilai tersebut sebesar 10. Dalam hal ini, argumen pertama adalah nilai awal (start) dari deret (0), argumen kedua adalah nilai akhir (stop) sebelum mencapai 100, dan argumen ketiga adalah nilai langkah (step) atau interval antar nilai (10).\n",
        "\n",
        "Hasilnya adalah tensor yang berisi deret bilangan mulai dari 0, kemudian ditambahkan dengan interval 10 untuk setiap elemen, hingga mencapai nilai sebelum 100. Jadi, tensor x akan berisi nilai-nilai berikut: [0, 10, 20, 30, 40, 50, 60, 70, 80, 90]."
      ],
      "metadata": {
        "id": "jCs0RzwDWa31"
      }
    },
    {
      "cell_type": "markdown",
      "metadata": {
        "id": "-J-wfMdlsEco"
      },
      "source": [
        "Now let's perform some aggregation."
      ]
    },
    {
      "cell_type": "code",
      "execution_count": 45,
      "metadata": {
        "colab": {
          "base_uri": "https://localhost:8080/"
        },
        "id": "e5wSP9YKP3Lb",
        "outputId": "5c356725-66c2-41ae-9755-77187b777d0a"
      },
      "outputs": [
        {
          "output_type": "stream",
          "name": "stdout",
          "text": [
            "Minimum: 0\n",
            "Maximum: 90\n",
            "Mean: 45.0\n",
            "Sum: 450\n"
          ]
        }
      ],
      "source": [
        "print(f\"Minimum: {x.min()}\")\n",
        "print(f\"Maximum: {x.max()}\")\n",
        "# print(f\"Mean: {x.mean()}\") # this will error\n",
        "print(f\"Mean: {x.type(torch.float32).mean()}\") # won't work without float datatype\n",
        "print(f\"Sum: {x.sum()}\")"
      ]
    },
    {
      "cell_type": "markdown",
      "source": [
        "Tentu! Kode tersebut melakukan operasi statistik sederhana pada tensor x, yang berisi deret bilangan.\n",
        "\n",
        "x.min() digunakan untuk mendapatkan nilai minimum dari tensor x, yaitu nilai terkecil dalam tensor tersebut. Outputnya adalah nilai minimum dari tensor x.\n",
        "x.max() mengembalikan nilai maksimum dalam tensor x, yaitu nilai terbesar dalam tensor tersebut.\n",
        "x.mean() pada awalnya mencoba untuk menghitung rata-rata dari semua elemen dalam tensor x. Namun, karena tensor x memiliki tipe data integer (bilangan bulat), operasi ini akan menghasilkan kesalahan karena PyTorch memerlukan tipe data float untuk menghitung rata-rata. Untuk mengatasinya, dilakukan konversi tipe data tensor x menjadi float menggunakan .type(torch.float32) sebelum melakukan operasi mean().\n",
        "x.sum() akan menjumlahkan semua elemen dalam tensor x dan menghasilkan nilai total dari semua elemen dalam tensor tersebut.\n",
        "Sebagai tambahan, saat menggunakan operasi mean()"
      ],
      "metadata": {
        "id": "9T_iO1jpWkY7"
      }
    },
    {
      "cell_type": "markdown",
      "metadata": {
        "id": "JHoKpsg3sKQE"
      },
      "source": [
        "> **Note:** You may find some methods such as `torch.mean()` require tensors to be in `torch.float32` (the most common) or another specific datatype, otherwise the operation will fail.\n",
        "\n",
        "You can also do the same as above with `torch` methods."
      ]
    },
    {
      "cell_type": "code",
      "execution_count": 46,
      "metadata": {
        "colab": {
          "base_uri": "https://localhost:8080/"
        },
        "id": "0Cr23Y9uP3HO",
        "outputId": "007d6115-da77-44ef-e5f9-d76c9482a068"
      },
      "outputs": [
        {
          "output_type": "execute_result",
          "data": {
            "text/plain": [
              "(tensor(90), tensor(0), tensor(45.), tensor(450))"
            ]
          },
          "metadata": {},
          "execution_count": 46
        }
      ],
      "source": [
        "torch.max(x), torch.min(x), torch.mean(x.type(torch.float32)), torch.sum(x)"
      ]
    },
    {
      "cell_type": "markdown",
      "source": [
        "Baris kode tersebut melakukan beberapa operasi statistik pada tensor x menggunakan fungsi-fungsi PyTorch:\n",
        "\n",
        "torch.max(x) digunakan untuk menemukan nilai maksimum dalam tensor x. Outputnya adalah nilai terbesar yang terdapat dalam tensor tersebut.\n",
        "torch.min(x) mengembalikan nilai minimum dari tensor x, yaitu nilai terkecil yang terdapat dalam tensor.\n",
        "torch.mean(x.type(torch.float32)) terlebih dahulu mengubah tipe data tensor x menjadi tipe data float menggunakan .type(torch.float32) untuk kemudian menghitung rata-rata dari semua elemen dalam tensor. Outputnya adalah nilai rata-rata dari semua elemen dalam tensor.\n",
        "torch.sum(x) akan menjumlahkan semua elemen dalam tensor x dan menghasilkan nilai total dari semua elemen dalam tensor tersebut. Outputnya adalah hasil penjumlahan dari semua elemen dalam tensor."
      ],
      "metadata": {
        "id": "D4SK5Ql9WyBf"
      }
    },
    {
      "cell_type": "markdown",
      "metadata": {
        "id": "i7ApCaZjDkvp"
      },
      "source": [
        "### Positional min/max\n",
        "\n",
        "You can also find the index of a tensor where the max or minimum occurs with [`torch.argmax()`](https://pytorch.org/docs/stable/generated/torch.argmax.html) and [`torch.argmin()`](https://pytorch.org/docs/stable/generated/torch.argmin.html) respectively.\n",
        "\n",
        "This is helpful incase you just want the position where the highest (or lowest) value is and not the actual value itself (we'll see this in a later section when using the [softmax activation function](https://pytorch.org/docs/stable/generated/torch.nn.Softmax.html))."
      ]
    },
    {
      "cell_type": "code",
      "execution_count": 47,
      "metadata": {
        "colab": {
          "base_uri": "https://localhost:8080/"
        },
        "id": "FzNBl9JSGlHi",
        "outputId": "ae861ae8-e2d8-4d65-a315-f2cbac17d410"
      },
      "outputs": [
        {
          "output_type": "stream",
          "name": "stdout",
          "text": [
            "Tensor: tensor([10, 20, 30, 40, 50, 60, 70, 80, 90])\n",
            "Index where max value occurs: 8\n",
            "Index where min value occurs: 0\n"
          ]
        }
      ],
      "source": [
        "# Create a tensor\n",
        "tensor = torch.arange(10, 100, 10)\n",
        "print(f\"Tensor: {tensor}\")\n",
        "\n",
        "# Returns index of max and min values\n",
        "print(f\"Index where max value occurs: {tensor.argmax()}\")\n",
        "print(f\"Index where min value occurs: {tensor.argmin()}\")"
      ]
    },
    {
      "cell_type": "markdown",
      "source": [
        "Kode di atas membuat sebuah tensor menggunakan torch.arange() yang berisi deret bilangan dari 10 hingga kurang dari 100 dengan interval 10, sehingga nilai-nilai dalam tensor adalah [10, 20, 30, 40, 50, 60, 70, 80, 90].\n",
        "\n",
        "tensor.argmax() mengembalikan indeks dari nilai maksimum dalam tensor tensor, yaitu indeks di mana nilai maksimum dalam tensor tersebut ditemukan. Outputnya adalah indeks dari elemen dengan nilai maksimum di dalam tensor.\n",
        "\n",
        "tensor.argmin() mengembalikan indeks dari nilai minimum dalam tensor tensor, yaitu indeks di mana nilai minimum dalam tensor tersebut ditemukan. Outputnya adalah indeks dari elemen dengan nilai minimum di dalam tensor.\n",
        "\n",
        "Dengan menggunakan kedua fungsi ini, kita bisa mendapatkan informasi tentang di mana posisi (indeks) dari nilai maksimum dan nilai minimum dalam tensor tersebut."
      ],
      "metadata": {
        "id": "__s7_RS-W5fq"
      }
    },
    {
      "cell_type": "markdown",
      "metadata": {
        "id": "QBu33WihOXBk"
      },
      "source": [
        "### Change tensor datatype\n",
        "\n",
        "As mentioned, a common issue with deep learning operations is having your tensors in different datatypes.\n",
        "\n",
        "If one tensor is in `torch.float64` and another is in `torch.float32`, you might run into some errors.\n",
        "\n",
        "But there's a fix.\n",
        "\n",
        "You can change the datatypes of tensors using [`torch.Tensor.type(dtype=None)`](https://pytorch.org/docs/stable/generated/torch.Tensor.type.html) where the `dtype` parameter is the datatype you'd like to use.\n",
        "\n",
        "First we'll create a tensor and check it's datatype (the default is `torch.float32`)."
      ]
    },
    {
      "cell_type": "code",
      "execution_count": 48,
      "metadata": {
        "colab": {
          "base_uri": "https://localhost:8080/"
        },
        "id": "rY2FEsCAOaLu",
        "outputId": "65c51560-5336-4e99-c3f6-d27b00b8c032"
      },
      "outputs": [
        {
          "output_type": "execute_result",
          "data": {
            "text/plain": [
              "torch.float32"
            ]
          },
          "metadata": {},
          "execution_count": 48
        }
      ],
      "source": [
        "# Create a tensor and check its datatype\n",
        "tensor = torch.arange(10., 100., 10.)\n",
        "tensor.dtype"
      ]
    },
    {
      "cell_type": "markdown",
      "source": [
        "Pada potongan kode tersebut, terlebih dahulu sebuah tensor dibuat menggunakan torch.arange() yang berisi deret bilangan dari 10 hingga kurang dari 100 dengan interval 10, namun kali ini dengan tipe data float. Hasilnya adalah tensor dengan nilai-nilai berikut: [10., 20., 30., 40., 50., 60., 70., 80., 90.].\n",
        "\n",
        "tensor.dtype digunakan untuk memeriksa tipe data (datatype) dari tensor yang telah dibuat. Pada kasus ini, hasilnya adalah tipe data dari tensor tersebut, yang dalam hal ini adalah torch.float32 atau lebih tepatnya tipe data float.\n",
        "Jadi, tensor.dtype mengembalikan informasi tentang tipe data yang digunakan dalam tensor, yang pada kasus ini adalah tipe data float (torch.float32). Tipe data float digunakan untuk merepresentasikan bilangan riil (angka desimal) dalam tensor."
      ],
      "metadata": {
        "id": "dCdTuXbsXAdT"
      }
    },
    {
      "cell_type": "markdown",
      "source": [],
      "metadata": {
        "id": "eByoRmnsXAYo"
      }
    },
    {
      "cell_type": "markdown",
      "metadata": {
        "id": "jR30FHEc92of"
      },
      "source": [
        "Now we'll create another tensor the same as before but change its datatype to `torch.float16`.\n",
        "\n"
      ]
    },
    {
      "cell_type": "code",
      "execution_count": 49,
      "metadata": {
        "colab": {
          "base_uri": "https://localhost:8080/"
        },
        "id": "Cac8gRYjOeab",
        "outputId": "4b0b9e8c-928b-4f4e-9ce4-c4eb6fa0815d"
      },
      "outputs": [
        {
          "output_type": "execute_result",
          "data": {
            "text/plain": [
              "tensor([10., 20., 30., 40., 50., 60., 70., 80., 90.], dtype=torch.float16)"
            ]
          },
          "metadata": {},
          "execution_count": 49
        }
      ],
      "source": [
        "# Create a float16 tensor\n",
        "tensor_float16 = tensor.type(torch.float16)\n",
        "tensor_float16"
      ]
    },
    {
      "cell_type": "markdown",
      "source": [
        "Dalam potongan kode tersebut, kita mengubah tipe data tensor yang sebelumnya berupa torch.float32 menjadi torch.float16 menggunakan metode .type(torch.float16).\n",
        "\n",
        "Penggunaan .type(torch.float16) mengubah tipe data dari tensor tensor menjadi torch.float16, yang merupakan tipe data floating point dengan presisi setengah (half-precision floating point). Dalam konteks ini, tensor_float16 akan berisi nilai-nilai yang sama seperti tensor sebelumnya (tensor), namun dengan tipe data yang lebih hemat ruang penyimpanan, meskipun dengan presisi yang lebih rendah dibandingkan dengan torch.float32.\n",
        "\n",
        "Jadi, tensor_float16 akan memiliki nilai-nilai yang sama dengan tensor, tetapi disimpan dalam format dengan presisi setengah (torch.float16)."
      ],
      "metadata": {
        "id": "RDx1yf_xXJst"
      }
    },
    {
      "cell_type": "markdown",
      "source": [],
      "metadata": {
        "id": "liXiJON5XJoM"
      }
    },
    {
      "cell_type": "markdown",
      "metadata": {
        "id": "ndVlKJZ4-7_5"
      },
      "source": [
        "And we can do something similar to make a `torch.int8` tensor."
      ]
    },
    {
      "cell_type": "code",
      "execution_count": 50,
      "metadata": {
        "colab": {
          "base_uri": "https://localhost:8080/"
        },
        "id": "8Yqovld2Oj6s",
        "outputId": "205f67a5-f2b6-4018-803c-856f6aed0909"
      },
      "outputs": [
        {
          "output_type": "execute_result",
          "data": {
            "text/plain": [
              "tensor([10, 20, 30, 40, 50, 60, 70, 80, 90], dtype=torch.int8)"
            ]
          },
          "metadata": {},
          "execution_count": 50
        }
      ],
      "source": [
        "# Create a int8 tensor\n",
        "tensor_int8 = tensor.type(torch.int8)\n",
        "tensor_int8"
      ]
    },
    {
      "cell_type": "markdown",
      "source": [
        "Pada potongan kode di atas, kita mencoba mengubah tipe data tensor tensor yang sebelumnya memiliki tipe data torch.float32 menjadi torch.int8 menggunakan metode .type(torch.int8).\n",
        "\n",
        "Namun, dalam kasus ini, konversi ini tidak akan berhasil secara langsung. Tensor tensor awalnya memiliki tipe data float (torch.float32) yang merepresentasikan bilangan desimal. Mengubahnya langsung ke tipe data torch.int8 yang merepresentasikan bilangan bulat 8-bit tidak mungkin dilakukan tanpa kehilangan informasi, karena informasi desimal akan hilang saat dikonversi menjadi bilangan bulat 8-bit.\n",
        "\n",
        "Ketika kita mencoba melakukan konversi tersebut, PyTorch akan menghasilkan kesalahan. Operasi ini tidak dapat dilakukan secara langsung karena informasi dari tipe data float tidak dapat secara langsung direpresentasikan dalam tipe data bilangan bulat 8-bit tanpa kehilangan informasi."
      ],
      "metadata": {
        "id": "3ciEK8c9XUb4"
      }
    },
    {
      "cell_type": "markdown",
      "metadata": {
        "id": "44GxVabar-xe"
      },
      "source": [
        "> **Note:** Different datatypes can be confusing to begin with. But think of it like this, the lower the number (e.g. 32, 16, 8), the less precise a computer stores the value. And with a lower amount of storage, this generally results in faster computation and a smaller overall model. Mobile-based neural networks often operate with 8-bit integers, smaller and faster to run but less accurate than their float32 counterparts. For more on this, I'd read up about [precision in computing](https://en.wikipedia.org/wiki/Precision_(computer_science)).\n",
        "\n",
        "> **Exercise:** So far we've covered a fair few tensor methods but there's a bunch more in the [`torch.Tensor` documentation](https://pytorch.org/docs/stable/tensors.html), I'd recommend spending 10-minutes scrolling through and looking into any that catch your eye. Click on them and then write them out in code yourself to see what happens."
      ]
    },
    {
      "cell_type": "markdown",
      "metadata": {
        "id": "7CkCtAYmGsHY"
      },
      "source": [
        "### Reshaping, stacking, squeezing and unsqueezing\n",
        "\n",
        "Often times you'll want to reshape or change the dimensions of your tensors without actually changing the values inside them.\n",
        "\n",
        "To do so, some popular methods are:\n",
        "\n",
        "| Method | One-line description |\n",
        "| ----- | ----- |\n",
        "| [`torch.reshape(input, shape)`](https://pytorch.org/docs/stable/generated/torch.reshape.html#torch.reshape) | Reshapes `input` to `shape` (if compatible), can also use `torch.Tensor.reshape()`. |\n",
        "| [`Tensor.view(shape)`](https://pytorch.org/docs/stable/generated/torch.Tensor.view.html) | Returns a view of the original tensor in a different `shape` but shares the same data as the original tensor. |\n",
        "| [`torch.stack(tensors, dim=0)`](https://pytorch.org/docs/1.9.1/generated/torch.stack.html) | Concatenates a sequence of `tensors` along a new dimension (`dim`), all `tensors` must be same size. |\n",
        "| [`torch.squeeze(input)`](https://pytorch.org/docs/stable/generated/torch.squeeze.html) | Squeezes `input` to remove all the dimenions with value `1`. |\n",
        "| [`torch.unsqueeze(input, dim)`](https://pytorch.org/docs/1.9.1/generated/torch.unsqueeze.html) | Returns `input` with a dimension value of `1` added at `dim`. |\n",
        "| [`torch.permute(input, dims)`](https://pytorch.org/docs/stable/generated/torch.permute.html) | Returns a *view* of the original `input` with its dimensions permuted (rearranged) to `dims`. |\n",
        "\n",
        "Why do any of these?\n",
        "\n",
        "Because deep learning models (neural networks) are all about manipulating tensors in some way. And because of the rules of matrix multiplication, if you've got shape mismatches, you'll run into errors. These methods help you make sure the right elements of your tensors are mixing with the right elements of other tensors.\n",
        "\n",
        "Let's try them out.\n",
        "\n",
        "First, we'll create a tensor."
      ]
    },
    {
      "cell_type": "code",
      "execution_count": 51,
      "metadata": {
        "colab": {
          "base_uri": "https://localhost:8080/"
        },
        "id": "EYjRTLOzG4Ev",
        "outputId": "545f2a3f-3d5d-4d62-d8fb-89d473f13ee4"
      },
      "outputs": [
        {
          "output_type": "execute_result",
          "data": {
            "text/plain": [
              "(tensor([1., 2., 3., 4., 5., 6., 7.]), torch.Size([7]))"
            ]
          },
          "metadata": {},
          "execution_count": 51
        }
      ],
      "source": [
        "# Create a tensor\n",
        "import torch\n",
        "x = torch.arange(1., 8.)\n",
        "x, x.shape"
      ]
    },
    {
      "cell_type": "markdown",
      "source": [
        "Potongan kode tersebut menggunakan PyTorch untuk membuat sebuah tensor x dengan menggunakan fungsi torch.arange().\n",
        "\n",
        "torch.arange(1., 8.) digunakan untuk membuat tensor yang berisi deret bilangan dari 1 hingga kurang dari 8 dengan interval 1.0 (step 1.0). Dalam hal ini, argumen pertama adalah nilai awal (start) dari deret (1.0) dan argumen kedua adalah nilai sebelum mencapai 8 (8.0).\n",
        "Hasilnya adalah tensor x yang berisi nilai-nilai berikut: [1., 2., 3., 4., 5., 6., 7.], yang merupakan deret bilangan dari 1 hingga kurang dari 8 dengan interval 1.0.\n",
        "\n",
        "x.shape digunakan untuk mengetahui bentuk atau ukuran dari tensor x, yang pada kasus ini adalah (7,), yang berarti tensor x memiliki satu dimensi dengan panjang atau jumlah elemen sebanyak 7.\n",
        "Jadi, potongan kode tersebut membuat tensor x yang berisi deret bilangan dari 1 hingga kurang dari 8 dengan interval 1.0, dan bentuk dari tensor tersebut adalah satu dimensi dengan panjang 7 elemen."
      ],
      "metadata": {
        "id": "F9USxKWBXc7I"
      }
    },
    {
      "cell_type": "markdown",
      "metadata": {
        "id": "3_VarMO9CoT8"
      },
      "source": [
        "Now let's add an extra dimension with `torch.reshape()`."
      ]
    },
    {
      "cell_type": "code",
      "execution_count": 52,
      "metadata": {
        "colab": {
          "base_uri": "https://localhost:8080/"
        },
        "id": "US4WjpQ3SG-8",
        "outputId": "b2edc0b5-b19e-4978-c4b5-72baee326472"
      },
      "outputs": [
        {
          "output_type": "execute_result",
          "data": {
            "text/plain": [
              "(tensor([[1., 2., 3., 4., 5., 6., 7.]]), torch.Size([1, 7]))"
            ]
          },
          "metadata": {},
          "execution_count": 52
        }
      ],
      "source": [
        "# Add an extra dimension\n",
        "x_reshaped = x.reshape(1, 7)\n",
        "x_reshaped, x_reshaped.shape"
      ]
    },
    {
      "cell_type": "markdown",
      "source": [
        "Potongan kode tersebut mengubah bentuk (shape) dari tensor x menjadi bentuk baru yang memiliki dimensi tambahan menggunakan metode .reshape(1, 7).\n",
        "\n",
        "x.reshape(1, 7) digunakan untuk mengubah bentuk tensor x menjadi bentuk yang baru. Dalam hal ini, argumen (1, 7) menunjukkan bahwa kita ingin mengubah tensor menjadi bentuk dengan 1 baris dan 7 kolom.\n",
        "Hasilnya adalah tensor x_reshaped yang memiliki bentuk baru (shape) yang berbeda dari x, yaitu (1, 7). Ini berarti tensor x_reshaped memiliki satu baris dan tujuh kolom.\n",
        "\n",
        "x_reshaped.shape digunakan untuk mengetahui bentuk atau ukuran dari tensor x_reshaped, yang pada kasus ini adalah (1, 7), menunjukkan bahwa tensor x_reshaped memiliki satu baris dan tujuh kolom.\n",
        "Jadi, dengan menggunakan .reshape(1, 7), kita berhasil mengubah bentuk dari tensor x menjadi tensor x_reshaped yang memiliki satu dimensi tambahan dengan satu baris dan tujuh kolom."
      ],
      "metadata": {
        "id": "QjrJcbqkXmj5"
      }
    },
    {
      "cell_type": "markdown",
      "metadata": {
        "id": "tig5xm0jCxuU"
      },
      "source": [
        "We can also change the view with `torch.view()`."
      ]
    },
    {
      "cell_type": "code",
      "execution_count": 53,
      "metadata": {
        "colab": {
          "base_uri": "https://localhost:8080/"
        },
        "id": "WDN2BNe5TGfB",
        "outputId": "0a281a97-7930-41f6-b071-0b48e1281726"
      },
      "outputs": [
        {
          "output_type": "execute_result",
          "data": {
            "text/plain": [
              "(tensor([[1., 2., 3., 4., 5., 6., 7.]]), torch.Size([1, 7]))"
            ]
          },
          "metadata": {},
          "execution_count": 53
        }
      ],
      "source": [
        "# Change view (keeps same data as original but changes view)\n",
        "# See more: https://stackoverflow.com/a/54507446/7900723\n",
        "z = x.view(1, 7)\n",
        "z, z.shape"
      ]
    },
    {
      "cell_type": "markdown",
      "source": [
        "Potongan kode z = x.view(1, 7) mengubah tampilan (view) dari tensor x, namun tetap menggunakan data yang sama dengan tensor aslinya tanpa membuat salinan baru dari data tersebut. Perubahan ini adalah pemformatan ulang tampilan tensor yang ada.\n",
        "\n",
        "x.view(1, 7) meminta tensor x untuk dilihat (view) dalam bentuk yang baru, yaitu dengan bentuk (1, 7). Ini berarti kita ingin melihat ulang tensor x sebagai tensor dengan satu baris dan tujuh kolom.\n",
        "Hasilnya adalah tensor z yang memiliki tampilan baru (view) dengan bentuk (1, 7), tetapi data yang terkandung di dalamnya masih sama dengan data dari tensor x.\n",
        "\n",
        "z.shape digunakan untuk mengetahui bentuk atau ukuran dari tensor z, yang pada kasus ini adalah (1, 7), menunjukkan bahwa tensor z memiliki satu baris dan tujuh kolom."
      ],
      "metadata": {
        "id": "UNCtC3tcXuGE"
      }
    },
    {
      "cell_type": "markdown",
      "metadata": {
        "id": "m8joAaUEC2NX"
      },
      "source": [
        "Remember though, changing the view of a tensor with `torch.view()` really only creates a new view of the *same* tensor.\n",
        "\n",
        "So changing the view changes the original tensor too."
      ]
    },
    {
      "cell_type": "code",
      "execution_count": 54,
      "metadata": {
        "colab": {
          "base_uri": "https://localhost:8080/"
        },
        "id": "2DxURVvXTGfC",
        "outputId": "6baa064f-0e6c-4946-d366-fd63de81f83d"
      },
      "outputs": [
        {
          "output_type": "execute_result",
          "data": {
            "text/plain": [
              "(tensor([[5., 2., 3., 4., 5., 6., 7.]]), tensor([5., 2., 3., 4., 5., 6., 7.]))"
            ]
          },
          "metadata": {},
          "execution_count": 54
        }
      ],
      "source": [
        "# Changing z changes x\n",
        "z[:, 0] = 5\n",
        "z, x"
      ]
    },
    {
      "cell_type": "markdown",
      "source": [
        "Potongan kode z[:, 0] = 5 mengubah nilai dari kolom pertama dari tensor z menjadi 5. Namun, penting untuk dicatat bahwa dalam kasus ini, z adalah tampilan (view) dari tensor x. Ketika Anda mengubah nilai dalam z, perubahan juga akan tercermin dalam tensor aslinya, yaitu x.\n",
        "\n",
        "z[:, 0] = 5 mengatur nilai 5 pada seluruh baris (indeks :) di kolom pertama (indeks 0) dari tensor z.\n",
        "Hasilnya adalah perubahan nilai dalam tensor z, namun karena z adalah tampilan dari tensor x, perubahan yang sama juga terjadi pada tensor aslinya, yaitu x."
      ],
      "metadata": {
        "id": "ZdVO4aTRXydi"
      }
    },
    {
      "cell_type": "markdown",
      "metadata": {
        "id": "YxnqDBlpDDJ_"
      },
      "source": [
        "If we wanted to stack our new tensor on top of itself five times, we could do so with `torch.stack()`."
      ]
    },
    {
      "cell_type": "code",
      "execution_count": 55,
      "metadata": {
        "colab": {
          "base_uri": "https://localhost:8080/"
        },
        "id": "pX5Adf3ORiTK",
        "outputId": "3d9fbcf3-c609-44f5-c73e-eaee8dd5ca90"
      },
      "outputs": [
        {
          "output_type": "execute_result",
          "data": {
            "text/plain": [
              "tensor([[5., 2., 3., 4., 5., 6., 7.],\n",
              "        [5., 2., 3., 4., 5., 6., 7.],\n",
              "        [5., 2., 3., 4., 5., 6., 7.],\n",
              "        [5., 2., 3., 4., 5., 6., 7.]])"
            ]
          },
          "metadata": {},
          "execution_count": 55
        }
      ],
      "source": [
        "# Stack tensors on top of each other\n",
        "x_stacked = torch.stack([x, x, x, x], dim=0) # try changing dim to dim=1 and see what happens\n",
        "x_stacked"
      ]
    },
    {
      "cell_type": "markdown",
      "source": [
        "Potongan kode x_stacked = torch.stack([x, x, x, x], dim=0) digunakan untuk menggabungkan (stack) tensor-tensor yang sama menjadi satu tensor yang lebih besar dengan menempatkannya secara berurutan di sepanjang dimensi yang ditentukan.\n",
        "\n",
        "torch.stack([x, x, x, x], dim=0) menggabungkan tensor-tensor yang sama, dalam hal ini x, sebanyak empat kali, berdasarkan dimensi 0. Ini berarti tensor-tensor tersebut akan ditumpuk satu per satu secara berurutan pada dimensi yang baru dibuat (dimensi 0).\n",
        "Hasilnya adalah tensor x_stacked yang memiliki bentuk (4, 7). Angka 4 menunjukkan bahwa ada empat tensor x yang ditumpuk secara berurutan, sementara angka 7 adalah panjang dari masing-masing tensor x yang awalnya memiliki panjang 7 (dari 1 hingga 7).\n",
        "\n",
        "Ketika dim=0, tensor-tensor ini ditumpuk di sepanjang dimensi pertama baru, sehingga menciptakan tensor baru dengan dimensi tambahan yang menunjukkan jumlah tensor yang ditumpuk."
      ],
      "metadata": {
        "id": "rvxG13EVYBMC"
      }
    },
    {
      "cell_type": "markdown",
      "metadata": {
        "id": "ET56QzNHDuOI"
      },
      "source": [
        "How about removing all single dimensions from a tensor?\n",
        "\n",
        "To do so you can use `torch.squeeze()` (I remember this as *squeezing* the tensor to only have dimensions over 1)."
      ]
    },
    {
      "cell_type": "code",
      "execution_count": 56,
      "metadata": {
        "colab": {
          "base_uri": "https://localhost:8080/"
        },
        "id": "w2Y2HEoDRxJZ",
        "outputId": "edf38748-f38b-40ed-be0f-da840138c509"
      },
      "outputs": [
        {
          "output_type": "stream",
          "name": "stdout",
          "text": [
            "Previous tensor: tensor([[5., 2., 3., 4., 5., 6., 7.]])\n",
            "Previous shape: torch.Size([1, 7])\n",
            "\n",
            "New tensor: tensor([5., 2., 3., 4., 5., 6., 7.])\n",
            "New shape: torch.Size([7])\n"
          ]
        }
      ],
      "source": [
        "print(f\"Previous tensor: {x_reshaped}\")\n",
        "print(f\"Previous shape: {x_reshaped.shape}\")\n",
        "\n",
        "# Remove extra dimension from x_reshaped\n",
        "x_squeezed = x_reshaped.squeeze()\n",
        "print(f\"\\nNew tensor: {x_squeezed}\")\n",
        "print(f\"New shape: {x_squeezed.shape}\")"
      ]
    },
    {
      "cell_type": "markdown",
      "source": [
        "Dalam potongan kode tersebut, kita melakukan operasi untuk mengubah dimensi tambahan pada tensor x_reshaped menggunakan fungsi .squeeze().\n",
        "\n",
        "x_reshaped adalah tensor dengan bentuk (shape) (1, 7) yang memiliki dimensi tambahan (dimensi pertama adalah 1).\n",
        "x_reshaped.squeeze() adalah operasi yang menghapus dimensi yang memiliki panjang 1 dari tensor. Dalam hal ini, karena dimensi pertama adalah 1, fungsi .squeeze() menghapus dimensi tersebut.\n",
        "Hasilnya adalah x_squeezed, sebuah tensor baru dengan bentuk yang berbeda:\n",
        "\n",
        "Sebelumnya, x_reshaped memiliki bentuk (1, 7) yang menunjukkan ada satu baris dengan tujuh kolom.\n",
        "Setelah operasi .squeeze(), x_squeezed memiliki bentuk (7,) yang menunjukkan hanya ada satu dimensi dengan panjang tujuh."
      ],
      "metadata": {
        "id": "MEYa4oVVYJij"
      }
    },
    {
      "cell_type": "markdown",
      "metadata": {
        "id": "acjDLk8WD8NC"
      },
      "source": [
        "And to do the reverse of `torch.squeeze()` you can use `torch.unsqueeze()` to add a dimension value of 1 at a specific index."
      ]
    },
    {
      "cell_type": "code",
      "execution_count": 57,
      "metadata": {
        "id": "CUC-DEEwSYv7",
        "colab": {
          "base_uri": "https://localhost:8080/"
        },
        "outputId": "d6a1d10d-8dff-404d-8109-eca04c6f51df"
      },
      "outputs": [
        {
          "output_type": "stream",
          "name": "stdout",
          "text": [
            "Previous tensor: tensor([5., 2., 3., 4., 5., 6., 7.])\n",
            "Previous shape: torch.Size([7])\n",
            "\n",
            "New tensor: tensor([[5., 2., 3., 4., 5., 6., 7.]])\n",
            "New shape: torch.Size([1, 7])\n"
          ]
        }
      ],
      "source": [
        "print(f\"Previous tensor: {x_squeezed}\")\n",
        "print(f\"Previous shape: {x_squeezed.shape}\")\n",
        "\n",
        "## Add an extra dimension with unsqueeze\n",
        "x_unsqueezed = x_squeezed.unsqueeze(dim=0)\n",
        "print(f\"\\nNew tensor: {x_unsqueezed}\")\n",
        "print(f\"New shape: {x_unsqueezed.shape}\")"
      ]
    },
    {
      "cell_type": "markdown",
      "source": [
        "kita menggunakan fungsi .unsqueeze(dim=0) untuk menambah dimensi tambahan pada tensor x_squeezed.\n",
        "\n",
        "Sebelumnya, x_squeezed adalah tensor dengan bentuk (7,) yang menunjukkan satu dimensi dengan panjang tujuh.\n",
        "x_squeezed.unsqueeze(dim=0) digunakan untuk menambah dimensi baru pada tensor x_squeezed di sepanjang dimensi 0. Ini akan menciptakan sebuah dimensi baru dengan panjang 1.\n",
        "Hasilnya adalah x_unsqueezed, sebuah tensor baru dengan bentuk yang berbeda:\n",
        "\n",
        "Sebelumnya, x_squeezed memiliki bentuk (7,) yang menunjukkan satu dimensi dengan panjang tujuh.\n",
        "Setelah operasi .unsqueeze(dim=0), x_unsqueezed memiliki bentuk (1, 7) yang menunjukkan ada satu baris dengan tujuh kolom."
      ],
      "metadata": {
        "id": "JCevnRQXYRI8"
      }
    },
    {
      "cell_type": "markdown",
      "metadata": {
        "id": "R9DuJzXgFbM5"
      },
      "source": [
        "You can also rearrange the order of axes values with `torch.permute(input, dims)`, where the `input` gets turned into a *view* with new `dims`."
      ]
    },
    {
      "cell_type": "code",
      "execution_count": 58,
      "metadata": {
        "colab": {
          "base_uri": "https://localhost:8080/"
        },
        "id": "fCRGCX8DTGfC",
        "outputId": "631f71bd-90dd-4a97-e0ed-16ec118c2474"
      },
      "outputs": [
        {
          "output_type": "stream",
          "name": "stdout",
          "text": [
            "Previous shape: torch.Size([224, 224, 3])\n",
            "New shape: torch.Size([3, 224, 224])\n"
          ]
        }
      ],
      "source": [
        "# Create tensor with specific shape\n",
        "x_original = torch.rand(size=(224, 224, 3))\n",
        "\n",
        "# Permute the original tensor to rearrange the axis order\n",
        "x_permuted = x_original.permute(2, 0, 1) # shifts axis 0->1, 1->2, 2->0\n",
        "\n",
        "print(f\"Previous shape: {x_original.shape}\")\n",
        "print(f\"New shape: {x_permuted.shape}\")"
      ]
    },
    {
      "cell_type": "markdown",
      "source": [
        "Potongan kode di atas membuat sebuah tensor x_original dengan bentuk (shape) (224, 224, 3) menggunakan fungsi torch.rand(size=(224, 224, 3)).\n",
        "\n",
        "x_original.permute(2, 0, 1) digunakan untuk memodifikasi urutan sumbu (axis) dari tensor x_original. Fungsi .permute() menggeser urutan sumbu berdasarkan indeks yang diberikan. Dalam kasus ini, urutan sumbu diubah menjadi (2, 0, 1), yang berarti sumbu ke-0 menjadi sumbu ke-1, sumbu ke-1 menjadi sumbu ke-2, dan sumbu ke-2 menjadi sumbu ke-0.\n",
        "Hasilnya adalah tensor x_permuted yang memiliki bentuk baru:\n",
        "\n",
        "Sebelumnya, x_original memiliki bentuk (224, 224, 3) yang menunjukkan 224 baris, 224 kolom, dan 3 saluran warna (RGB).\n",
        "Setelah operasi .permute(2, 0, 1), x_permuted memiliki bentuk (3, 224, 224) yang menunjukkan 3 saluran warna (RGB) dengan masing-masing 224 baris dan 224 kolom."
      ],
      "metadata": {
        "id": "OAiqQSU6YYzr"
      }
    },
    {
      "cell_type": "markdown",
      "metadata": {
        "id": "06LKaFemGBoE"
      },
      "source": [
        "> **Note**: Because permuting returns a *view* (shares the same data as the original), the values in the permuted tensor will be the same as the original tensor and if you change the values in the view, it will change the values of the original."
      ]
    },
    {
      "cell_type": "markdown",
      "metadata": {
        "id": "nEPqVL7fTGfC"
      },
      "source": [
        "## Indexing (selecting data from tensors)\n",
        "\n",
        "Sometimes you'll want to select specific data from tensors (for example, only the first column or second row).\n",
        "\n",
        "To do so, you can use indexing.\n",
        "\n",
        "If you've ever done indexing on Python lists or NumPy arrays, indexing in PyTorch with tensors is very similar."
      ]
    },
    {
      "cell_type": "code",
      "execution_count": 59,
      "metadata": {
        "colab": {
          "base_uri": "https://localhost:8080/"
        },
        "id": "oSXzdxCQTGfD",
        "outputId": "fc33338b-c059-4750-bd03-2ddb971dbbfc"
      },
      "outputs": [
        {
          "output_type": "execute_result",
          "data": {
            "text/plain": [
              "(tensor([[[1, 2, 3],\n",
              "          [4, 5, 6],\n",
              "          [7, 8, 9]]]),\n",
              " torch.Size([1, 3, 3]))"
            ]
          },
          "metadata": {},
          "execution_count": 59
        }
      ],
      "source": [
        "# Create a tensor\n",
        "import torch\n",
        "x = torch.arange(1, 10).reshape(1, 3, 3)\n",
        "x, x.shape"
      ]
    },
    {
      "cell_type": "markdown",
      "source": [
        "Potongan kode di atas membuat sebuah tensor x menggunakan fungsi torch.arange() yang diikuti oleh .reshape(1, 3, 3).\n",
        "\n",
        "torch.arange(1, 10) digunakan untuk membuat deret bilangan dari 1 hingga kurang dari 10. Hasilnya adalah tensor yang berisi nilai-nilai dari 1 hingga 9.\n",
        ".reshape(1, 3, 3) digunakan untuk mengubah bentuk tensor x menjadi bentuk yang baru. Dalam hal ini, (1, 3, 3) menunjukkan bahwa kita ingin mengubah tensor menjadi tensor tiga dimensi dengan satu saluran, masing-masing memiliki tiga baris dan tiga kolom.\n",
        "Hasilnya adalah tensor x dengan bentuk baru:\n",
        "\n",
        "Bentuk (1, 3, 3) menunjukkan bahwa tensor x memiliki satu saluran dengan tiga baris dan tiga kolom."
      ],
      "metadata": {
        "id": "dQxrxhPZYfwq"
      }
    },
    {
      "cell_type": "markdown",
      "source": [],
      "metadata": {
        "id": "pXUAs8OBYfrn"
      }
    },
    {
      "cell_type": "markdown",
      "metadata": {
        "id": "xQG5krnKG43B"
      },
      "source": [
        "Indexing values goes outer dimension -> inner dimension (check out the square brackets)."
      ]
    },
    {
      "cell_type": "code",
      "execution_count": 60,
      "metadata": {
        "colab": {
          "base_uri": "https://localhost:8080/"
        },
        "id": "zv_Z3IAzTGfD",
        "outputId": "2ea26706-3c05-4aeb-bdd5-f8648917afcf"
      },
      "outputs": [
        {
          "output_type": "stream",
          "name": "stdout",
          "text": [
            "First square bracket:\n",
            "tensor([[1, 2, 3],\n",
            "        [4, 5, 6],\n",
            "        [7, 8, 9]])\n",
            "Second square bracket: tensor([1, 2, 3])\n",
            "Third square bracket: 1\n"
          ]
        }
      ],
      "source": [
        "# Let's index bracket by bracket\n",
        "print(f\"First square bracket:\\n{x[0]}\")\n",
        "print(f\"Second square bracket: {x[0][0]}\")\n",
        "print(f\"Third square bracket: {x[0][0][0]}\")"
      ]
    },
    {
      "cell_type": "markdown",
      "source": [
        "Pada potongan kode di atas, kita melakukan pengindeksan tensor x dengan menggunakan tanda kurung siku (square brackets) secara bertahap untuk mengekstrak nilai-nilai spesifik dari tensor tersebut.\n",
        "\n",
        "x[0] merujuk pada pengindeksan pertama dari tensor x. Pada tensor x yang memiliki bentuk (1, 3, 3), pengindeksan pertama ini mengambil elemen pertama, yang juga merupakan satu-satunya saluran dalam tensor tersebut. Hasilnya adalah tensor yang memiliki bentuk (3, 3) karena merupakan saluran tunggal dari tensor tersebut.\n",
        "\n",
        "x[0][0] adalah pengindeksan kedua dari tensor x. Setelah menggunakan x[0] yang menghasilkan tensor dengan bentuk (3, 3), pengindeksan kedua ini mengambil baris pertama dari tensor ini, yang juga merupakan baris pertama dari saluran tunggal. Hasilnya adalah tensor yang merupakan baris pertama dari saluran tersebut, yaitu [1, 2, 3].\n",
        "\n",
        "x[0][0][0] adalah pengindeksan ketiga dari tensor x. Setelah menggunakan x[0][0] yang menghasilkan tensor baris pertama [1, 2, 3], pengindeksan ketiga ini mengambil elemen pertama dari baris tersebut. Hasilnya adalah nilai skalar tunggal, yaitu 1."
      ],
      "metadata": {
        "id": "uZj303vLYoyj"
      }
    },
    {
      "cell_type": "markdown",
      "metadata": {
        "id": "XaLjaIFxHe89"
      },
      "source": [
        "You can also use `:` to specify \"all values in this dimension\" and then use a comma (`,`) to add another dimension."
      ]
    },
    {
      "cell_type": "code",
      "execution_count": 61,
      "metadata": {
        "colab": {
          "base_uri": "https://localhost:8080/"
        },
        "id": "gCT09pqeTGfD",
        "outputId": "bcd3de96-5e6e-4e45-fda1-ee8d13369a28"
      },
      "outputs": [
        {
          "output_type": "execute_result",
          "data": {
            "text/plain": [
              "tensor([[1, 2, 3]])"
            ]
          },
          "metadata": {},
          "execution_count": 61
        }
      ],
      "source": [
        "# Get all values of 0th dimension and the 0 index of 1st dimension\n",
        "x[:, 0]"
      ]
    },
    {
      "cell_type": "markdown",
      "source": [
        "Potongan kode x[:, 0] merupakan operasi pengindeksan atau slicing yang digunakan pada tensor x untuk mendapatkan semua nilai dari dimensi ke-0 dan indeks ke-0 dari dimensi ke-1.\n",
        "\n",
        ": pada indeks pertama (:) menunjukkan bahwa kita ingin memilih semua elemen dari dimensi pertama (dimensi ke-0) dari tensor x.\n",
        "0 pada indeks kedua (0) menunjukkan bahwa kita hanya tertarik pada elemen dengan indeks ke-0 dari dimensi kedua (dimensi ke-1) dari tensor x."
      ],
      "metadata": {
        "id": "ffYGRzFVYv95"
      }
    },
    {
      "cell_type": "code",
      "execution_count": 62,
      "metadata": {
        "colab": {
          "base_uri": "https://localhost:8080/"
        },
        "id": "dwDx_gMsTGfD",
        "outputId": "41ee1b28-62e7-4d97-be85-bd40e4c3fcdc"
      },
      "outputs": [
        {
          "output_type": "execute_result",
          "data": {
            "text/plain": [
              "tensor([[2, 5, 8]])"
            ]
          },
          "metadata": {},
          "execution_count": 62
        }
      ],
      "source": [
        "# Get all values of 0th & 1st dimensions but only index 1 of 2nd dimension\n",
        "x[:, :, 1]"
      ]
    },
    {
      "cell_type": "markdown",
      "source": [
        "Operasi x[:, :, 1] pada tensor x memungkinkan pengambilan semua nilai dari dimensi pertama dan kedua (dimensi ke-0 dan ke-1) namun hanya memilih nilai dari indeks ke-1 dalam dimensi ketiga (dimensi ke-2). Hasilnya adalah subset tensor yang merupakan saluran dengan indeks ke-1 dari setiap elemen di dalam dimensi pertama dan kedua dari tensor, sehingga jika x memiliki bentuk (1, 3, 3), hasilnya akan menjadi tensor dengan bentuk (1, 3), mengandung nilai-nilai dari saluran dengan indeks ke-1 di setiap elemen di dalam dimensi pertama dan kedua dari tensor."
      ],
      "metadata": {
        "id": "UzddM6IGY7E6"
      }
    },
    {
      "cell_type": "code",
      "execution_count": 63,
      "metadata": {
        "colab": {
          "base_uri": "https://localhost:8080/"
        },
        "id": "xiw3_1E3TGfD",
        "outputId": "b66d068d-d4b1-4509-bcca-54de43fcfd92"
      },
      "outputs": [
        {
          "output_type": "execute_result",
          "data": {
            "text/plain": [
              "tensor([5])"
            ]
          },
          "metadata": {},
          "execution_count": 63
        }
      ],
      "source": [
        "# Get all values of the 0 dimension but only the 1 index value of the 1st and 2nd dimension\n",
        "x[:, 1, 1]"
      ]
    },
    {
      "cell_type": "markdown",
      "source": [
        "Operasi x[:, 1, 1] pada tensor x memungkinkan pengambilan semua nilai dari dimensi pertama (dimensi ke-0), namun hanya memilih nilai dari indeks ke-1 dalam dimensi kedua (dimensi ke-1) dan indeks ke-1 dalam dimensi ketiga (dimensi ke-2). Hasilnya adalah subset tensor yang merupakan nilai tunggal yang terletak pada indeks ke-1 dari dimensi kedua dan ketiga, namun mempertahankan dimensi pertama yang mengandung semua elemen dari tensor tersebut. Dalam konteks tensor x yang memiliki bentuk (1, 3, 3), hasilnya akan menjadi tensor satu dimensi dengan nilai dari indeks ke-1 di dimensi ke-1 dan ke-2, yaitu nilai tunggal dari elemen dengan indeks (1, 1) dalam setiap saluran."
      ],
      "metadata": {
        "id": "c6YnQrQ8ZDh8"
      }
    },
    {
      "cell_type": "code",
      "execution_count": 64,
      "metadata": {
        "colab": {
          "base_uri": "https://localhost:8080/"
        },
        "id": "XFVEgrKhTGfD",
        "outputId": "3c0d96aa-dbe2-4ba3-ded9-fb38ebdb24be"
      },
      "outputs": [
        {
          "output_type": "execute_result",
          "data": {
            "text/plain": [
              "tensor([1, 2, 3])"
            ]
          },
          "metadata": {},
          "execution_count": 64
        }
      ],
      "source": [
        "# Get index 0 of 0th and 1st dimension and all values of 2nd dimension\n",
        "x[0, 0, :] # same as x[0][0]"
      ]
    },
    {
      "cell_type": "markdown",
      "source": [
        "Operasi x[0, 0, :] pada tensor x digunakan untuk mengekstrak nilai dari indeks ke-0 dan ke-1 dalam dimensi pertama dan kedua (dimensi ke-0 dan ke-1), namun mengambil semua nilai dari dimensi ketiga (dimensi ke-2). Hasilnya adalah subset tensor yang merepresentasikan nilai dari indeks ke-0 dan ke-1 dalam dimensi pertama dan kedua, dengan semua nilai dari dimensi ketiga. Dalam konteks tensor x yang memiliki bentuk (1, 3, 3), operasi ini akan menghasilkan tensor satu dimensi yang berisi nilai dari indeks (0, 0) dalam setiap saluran, yaitu nilai dari baris pertama dan saluran pertama dalam tensor tersebut."
      ],
      "metadata": {
        "id": "xYhA9C8LZE6_"
      }
    },
    {
      "cell_type": "markdown",
      "metadata": {
        "id": "6Ik0r11RIxtm"
      },
      "source": [
        "Indexing can be quite confusing to begin with, especially with larger tensors (I still have to try indexing multiple times to get it right). But with a bit of practice and following the data explorer's motto (***visualize, visualize, visualize***), you'll start to get the hang of it."
      ]
    },
    {
      "cell_type": "markdown",
      "metadata": {
        "id": "h8ZaW0Bq7rCm"
      },
      "source": [
        "## PyTorch tensors & NumPy\n",
        "\n",
        "Since NumPy is a popular Python numerical computing library, PyTorch has functionality to interact with it nicely.  \n",
        "\n",
        "The two main methods you'll want to use for NumPy to PyTorch (and back again) are:\n",
        "* [`torch.from_numpy(ndarray)`](https://pytorch.org/docs/stable/generated/torch.from_numpy.html) - NumPy array -> PyTorch tensor.\n",
        "* [`torch.Tensor.numpy()`](https://pytorch.org/docs/stable/generated/torch.Tensor.numpy.html) - PyTorch tensor -> NumPy array.\n",
        "\n",
        "Let's try them out."
      ]
    },
    {
      "cell_type": "code",
      "execution_count": 65,
      "metadata": {
        "colab": {
          "base_uri": "https://localhost:8080/"
        },
        "id": "yDrDCnvY7rKS",
        "outputId": "80a45350-4043-4801-81ab-38e229010cf3"
      },
      "outputs": [
        {
          "output_type": "execute_result",
          "data": {
            "text/plain": [
              "(array([1., 2., 3., 4., 5., 6., 7.]),\n",
              " tensor([1., 2., 3., 4., 5., 6., 7.], dtype=torch.float64))"
            ]
          },
          "metadata": {},
          "execution_count": 65
        }
      ],
      "source": [
        "# NumPy array to tensor\n",
        "import torch\n",
        "import numpy as np\n",
        "array = np.arange(1.0, 8.0)\n",
        "tensor = torch.from_numpy(array)\n",
        "array, tensor"
      ]
    },
    {
      "cell_type": "markdown",
      "source": [
        "Potongan kode tersebut mengilustrasikan konversi dari array NumPy menjadi tensor PyTorch menggunakan perpustakaan NumPy dan PyTorch. Fungsi np.arange(1.0, 8.0) dari NumPy digunakan untuk membuat array dengan nilai float dari 1.0 hingga kurang dari 8.0."
      ],
      "metadata": {
        "id": "1rf-2cpcZUOW"
      }
    },
    {
      "cell_type": "markdown",
      "metadata": {
        "id": "16JG6cONLPnO"
      },
      "source": [
        "> **Note:** By default, NumPy arrays are created with the datatype `float64` and if you convert it to a PyTorch tensor, it'll keep the same datatype (as above).\n",
        ">\n",
        "> However, many PyTorch calculations default to using `float32`.\n",
        ">\n",
        "> So if you want to convert your NumPy array (float64) -> PyTorch tensor (float64) -> PyTorch tensor (float32), you can use `tensor = torch.from_numpy(array).type(torch.float32)`.\n",
        "\n",
        "Because we reassigned `tensor` above, if you change the tensor, the array stays the same."
      ]
    },
    {
      "cell_type": "code",
      "execution_count": 66,
      "metadata": {
        "colab": {
          "base_uri": "https://localhost:8080/"
        },
        "id": "ovwl7VCREv8L",
        "outputId": "8e85a503-48d1-4b6f-cd9c-2c659181506f"
      },
      "outputs": [
        {
          "output_type": "execute_result",
          "data": {
            "text/plain": [
              "(array([2., 3., 4., 5., 6., 7., 8.]),\n",
              " tensor([1., 2., 3., 4., 5., 6., 7.], dtype=torch.float64))"
            ]
          },
          "metadata": {},
          "execution_count": 66
        }
      ],
      "source": [
        "# Change the array, keep the tensor\n",
        "array = array + 1\n",
        "array, tensor"
      ]
    },
    {
      "cell_type": "markdown",
      "source": [
        "Saat kode array = array + 1 dieksekusi, nilai-nilai dalam array NumPy yang awalnya dibuat dari rentang 1.0 hingga kurang dari 8.0 ditingkatkan sebesar 1 untuk setiap elemen. Namun, tensor PyTorch yang sebelumnya telah dibuat menggunakan torch.from_numpy(array) tidak ikut berubah. Ini terjadi karena perubahan yang dilakukan pada array NumPy tidak mempengaruhi tensor PyTorch."
      ],
      "metadata": {
        "id": "zL2S-8KkZfR0"
      }
    },
    {
      "cell_type": "markdown",
      "metadata": {
        "id": "geVvu1p0MTWc"
      },
      "source": [
        "And if you want to go from PyTorch tensor to NumPy array, you can call `tensor.numpy()`."
      ]
    },
    {
      "cell_type": "code",
      "execution_count": 67,
      "metadata": {
        "colab": {
          "base_uri": "https://localhost:8080/"
        },
        "id": "xw_7ZyVaTKxQ",
        "outputId": "29d56202-c003-4c4a-8fdc-4ca4c5b1e79f"
      },
      "outputs": [
        {
          "output_type": "execute_result",
          "data": {
            "text/plain": [
              "(tensor([1., 1., 1., 1., 1., 1., 1.]),\n",
              " array([1., 1., 1., 1., 1., 1., 1.], dtype=float32))"
            ]
          },
          "metadata": {},
          "execution_count": 67
        }
      ],
      "source": [
        "# Tensor to NumPy array\n",
        "tensor = torch.ones(7) # create a tensor of ones with dtype=float32\n",
        "numpy_tensor = tensor.numpy() # will be dtype=float32 unless changed\n",
        "tensor, numpy_tensor"
      ]
    },
    {
      "cell_type": "markdown",
      "source": [
        "Potongan kode tersebut membuat tensor PyTorch dengan menggunakan torch.ones(7) untuk menciptakan sebuah tensor yang berisi tujuh elemen bernilai satu dengan tipe data float32 secara default. Kemudian, numpy_tensor = tensor.numpy() digunakan untuk mengonversi tensor PyTorch tersebut menjadi array NumPy. Hasilnya adalah tensor PyTorch yang berisi tujuh elemen bernilai satu dengan tipe data float32, dan array NumPy yang memiliki nilai dan tipe data yang sama seperti tensor PyTorch karena operasi numpy_tensor = tensor.numpy() menciptakan referensi yang sama terhadap data dalam bentuk tensor ke dalam array NumPy."
      ],
      "metadata": {
        "id": "oJiHu6kWZkKX"
      }
    },
    {
      "cell_type": "markdown",
      "metadata": {
        "id": "Dt8yEV1jMfi2"
      },
      "source": [
        "And the same rule applies as above, if you change the original `tensor`, the new `numpy_tensor` stays the same."
      ]
    },
    {
      "cell_type": "code",
      "execution_count": 68,
      "metadata": {
        "colab": {
          "base_uri": "https://localhost:8080/"
        },
        "id": "mMp6ZSkET4_Y",
        "outputId": "bde44fa1-ac53-4b76-831f-4b3078f4cfb9"
      },
      "outputs": [
        {
          "output_type": "execute_result",
          "data": {
            "text/plain": [
              "(tensor([2., 2., 2., 2., 2., 2., 2.]),\n",
              " array([1., 1., 1., 1., 1., 1., 1.], dtype=float32))"
            ]
          },
          "metadata": {},
          "execution_count": 68
        }
      ],
      "source": [
        "# Change the tensor, keep the array the same\n",
        "tensor = tensor + 1\n",
        "tensor, numpy_tensor"
      ]
    },
    {
      "cell_type": "markdown",
      "source": [
        "Ketika dilakukan operasi tensor = tensor + 1, nilai-nilai dalam tensor PyTorch yang awalnya berisi tujuh elemen bernilai satu, masing-masing diinkrementasi sebesar satu untuk setiap elemen. Namun, array NumPy yang telah dihasilkan sebelumnya melalui numpy_tensor = tensor.numpy() tidak mengalami perubahan. Hal ini terjadi karena meskipun awalnya array NumPy dibuat berdasarkan tensor PyTorch, keduanya bukanlah salinan yang terus-menerus terkait satu sama lain. Modifikasi yang dilakukan pada tensor PyTorch tidak secara langsung mempengaruhi array NumPy yang sebelumnya dihasilkan, karena keduanya memiliki ruang memori yang terpisah."
      ],
      "metadata": {
        "id": "rYR3aZ0GZ549"
      }
    },
    {
      "cell_type": "markdown",
      "metadata": {
        "id": "7gU3ubCrUkI-"
      },
      "source": [
        "## Reproducibility (trying to take the random out of random)\n",
        "\n",
        "As you learn more about neural networks and machine learning, you'll start to discover how much randomness plays a part.\n",
        "\n",
        "Well, pseudorandomness that is. Because after all, as they're designed, a computer is fundamentally deterministic (each step is predictable) so the randomness they create are simulated randomness (though there is debate on this too, but since I'm not a computer scientist, I'll let you find out more yourself).\n",
        "\n",
        "How does this relate to neural networks and deep learning then?\n",
        "\n",
        "We've discussed neural networks start with random numbers to describe patterns in data (these numbers are poor descriptions) and try to improve those random numbers using tensor operations (and a few other things we haven't discussed yet) to better describe patterns in data.\n",
        "\n",
        "In short:\n",
        "\n",
        "``start with random numbers -> tensor operations -> try to make better (again and again and again)``\n",
        "\n",
        "Although randomness is nice and powerful, sometimes you'd like there to be a little less randomness.\n",
        "\n",
        "Why?\n",
        "\n",
        "So you can perform repeatable experiments.\n",
        "\n",
        "For example, you create an algorithm capable of achieving X performance.\n",
        "\n",
        "And then your friend tries it out to verify you're not crazy.\n",
        "\n",
        "How could they do such a thing?\n",
        "\n",
        "That's where **reproducibility** comes in.\n",
        "\n",
        "In other words, can you get the same (or very similar) results on your computer running the same code as I get on mine?\n",
        "\n",
        "Let's see a brief example of reproducibility in PyTorch.\n",
        "\n",
        "We'll start by creating two random tensors, since they're random, you'd expect them to be different right?"
      ]
    },
    {
      "cell_type": "code",
      "execution_count": 69,
      "metadata": {
        "colab": {
          "base_uri": "https://localhost:8080/"
        },
        "id": "eSwxnwEbTGfF",
        "outputId": "27414f9a-5414-486d-841c-1798033013ba"
      },
      "outputs": [
        {
          "output_type": "stream",
          "name": "stdout",
          "text": [
            "Tensor A:\n",
            "tensor([[0.8016, 0.3649, 0.6286, 0.9663],\n",
            "        [0.7687, 0.4566, 0.5745, 0.9200],\n",
            "        [0.3230, 0.8613, 0.0919, 0.3102]])\n",
            "\n",
            "Tensor B:\n",
            "tensor([[0.9536, 0.6002, 0.0351, 0.6826],\n",
            "        [0.3743, 0.5220, 0.1336, 0.9666],\n",
            "        [0.9754, 0.8474, 0.8988, 0.1105]])\n",
            "\n",
            "Does Tensor A equal Tensor B? (anywhere)\n"
          ]
        },
        {
          "output_type": "execute_result",
          "data": {
            "text/plain": [
              "tensor([[False, False, False, False],\n",
              "        [False, False, False, False],\n",
              "        [False, False, False, False]])"
            ]
          },
          "metadata": {},
          "execution_count": 69
        }
      ],
      "source": [
        "import torch\n",
        "\n",
        "# Create two random tensors\n",
        "random_tensor_A = torch.rand(3, 4)\n",
        "random_tensor_B = torch.rand(3, 4)\n",
        "\n",
        "print(f\"Tensor A:\\n{random_tensor_A}\\n\")\n",
        "print(f\"Tensor B:\\n{random_tensor_B}\\n\")\n",
        "print(f\"Does Tensor A equal Tensor B? (anywhere)\")\n",
        "random_tensor_A == random_tensor_B"
      ]
    },
    {
      "cell_type": "markdown",
      "source": [
        "Potongan kode tersebut menciptakan dua tensor acak, random_tensor_A dan random_tensor_B, masing-masing memiliki ukuran 3x4 yang diisi dengan nilai-nilai acak. Dengan menggunakan operasi perbandingan random_tensor_A == random_tensor_B, kita mencoba untuk memeriksa kesamaan elemen antara kedua tensor tersebut. Hasilnya adalah tensor baru dengan ukuran yang sama (3x4) yang berisi nilai boolean yang menunjukkan apakah setiap elemen di random_tensor_A sama dengan elemen pada posisi yang sesuai di random_tensor_B. Jika hasilnya adalah True, itu berarti kedua tensor memiliki nilai yang sama pada setiap posisi elemen; jika hasilnya adalah False, setidaknya ada satu elemen yang berbeda di antara kedua tensor tersebut."
      ],
      "metadata": {
        "id": "NPekDlceZ-IA"
      }
    },
    {
      "cell_type": "markdown",
      "metadata": {
        "id": "nPU6mDKJnr8M"
      },
      "source": [
        "Just as you might've expected, the tensors come out with different values.\n",
        "\n",
        "But what if you wanted to created two random tensors with the *same* values.\n",
        "\n",
        "As in, the tensors would still contain random values but they would be of the same flavour.\n",
        "\n",
        "That's where [`torch.manual_seed(seed)`](https://pytorch.org/docs/stable/generated/torch.manual_seed.html) comes in, where `seed` is an integer (like `42` but it could be anything) that flavours the randomness.\n",
        "\n",
        "Let's try it out by creating some more *flavoured* random tensors."
      ]
    },
    {
      "cell_type": "code",
      "execution_count": 70,
      "metadata": {
        "colab": {
          "base_uri": "https://localhost:8080/"
        },
        "id": "sB6d1GfYTGfF",
        "outputId": "91d1a124-6a1c-4b56-d321-d97f112c2ba9"
      },
      "outputs": [
        {
          "output_type": "stream",
          "name": "stdout",
          "text": [
            "Tensor C:\n",
            "tensor([[0.8823, 0.9150, 0.3829, 0.9593],\n",
            "        [0.3904, 0.6009, 0.2566, 0.7936],\n",
            "        [0.9408, 0.1332, 0.9346, 0.5936]])\n",
            "\n",
            "Tensor D:\n",
            "tensor([[0.8823, 0.9150, 0.3829, 0.9593],\n",
            "        [0.3904, 0.6009, 0.2566, 0.7936],\n",
            "        [0.9408, 0.1332, 0.9346, 0.5936]])\n",
            "\n",
            "Does Tensor C equal Tensor D? (anywhere)\n"
          ]
        },
        {
          "output_type": "execute_result",
          "data": {
            "text/plain": [
              "tensor([[True, True, True, True],\n",
              "        [True, True, True, True],\n",
              "        [True, True, True, True]])"
            ]
          },
          "metadata": {},
          "execution_count": 70
        }
      ],
      "source": [
        "import torch\n",
        "import random\n",
        "\n",
        "# # Set the random seed\n",
        "RANDOM_SEED=42 # try changing this to different values and see what happens to the numbers below\n",
        "torch.manual_seed(seed=RANDOM_SEED)\n",
        "random_tensor_C = torch.rand(3, 4)\n",
        "\n",
        "# Have to reset the seed every time a new rand() is called\n",
        "# Without this, tensor_D would be different to tensor_C\n",
        "torch.random.manual_seed(seed=RANDOM_SEED) # try commenting this line out and seeing what happens\n",
        "random_tensor_D = torch.rand(3, 4)\n",
        "\n",
        "print(f\"Tensor C:\\n{random_tensor_C}\\n\")\n",
        "print(f\"Tensor D:\\n{random_tensor_D}\\n\")\n",
        "print(f\"Does Tensor C equal Tensor D? (anywhere)\")\n",
        "random_tensor_C == random_tensor_D"
      ]
    },
    {
      "cell_type": "markdown",
      "source": [
        "Potongan kode di atas menggunakan PyTorch dan modul random dari Python untuk membuat dua tensor acak, random_tensor_C dan random_tensor_D, yang memiliki ukuran 3x4 dan diisi dengan nilai-nilai acak. torch.manual_seed(seed=RANDOM_SEED) digunakan untuk menetapkan seed secara global untuk generator nomor acak PyTorch, sementara torch.random.manual_seed(seed=RANDOM_SEED) mengatur seed untuk generator nomor acak khusus yang digunakan oleh fungsi torch.rand(). Dengan pengaturan seed yang sama (RANDOM_SEED), seharusnya kedua tensor tersebut menghasilkan nilai yang sama saat diinisialisasi secara acak. Namun, jika hanya torch.manual_seed(seed=RANDOM_SEED) yang digunakan tanpa torch.random.manual_seed(seed=RANDOM_SEED), nilai di kedua tensor bisa berbeda karena generator nomor acak yang digunakan untuk inisialisasi tidak menggunakan seed yang sama. Operasi perbandingan random_tensor_C == random_tensor_D digunakan untuk memeriksa kesamaan nilai element-wise antara dua tensor tersebut."
      ],
      "metadata": {
        "id": "XYfzJXypaIUa"
      }
    },
    {
      "cell_type": "markdown",
      "metadata": {
        "id": "uct53Xr5QRC_"
      },
      "source": [
        "Nice!\n",
        "\n",
        "It looks like setting the seed worked.\n",
        "\n",
        "> **Resource:** What we've just covered only scratches the surface of reproducibility in PyTorch. For more, on reproducbility in general and random seeds, I'd checkout:\n",
        "> * [The PyTorch reproducibility documentation](https://pytorch.org/docs/stable/notes/randomness.html) (a good exericse would be to read through this for 10-minutes and even if you don't understand it now, being aware of it is important).\n",
        "> * [The Wikipedia random seed page](https://en.wikipedia.org/wiki/Random_seed) (this'll give a good overview of random seeds and pseudorandomness in general)."
      ]
    },
    {
      "cell_type": "markdown",
      "metadata": {
        "id": "hxIIM7t27rQ-"
      },
      "source": [
        "## Running tensors on GPUs (and making faster computations)\n",
        "\n",
        "Deep learning algorithms require a lot of numerical operations.\n",
        "\n",
        "And by default these operations are often done on a CPU (computer processing unit).\n",
        "\n",
        "However, there's another common piece of hardware called a GPU (graphics processing unit), which is often much faster at performing the specific types of operations neural networks need (matrix multiplications) than CPUs.\n",
        "\n",
        "Your computer might have one.\n",
        "\n",
        "If so, you should look to use it whenever you can to train neural networks because chances are it'll speed up the training time dramatically.\n",
        "\n",
        "There are a few ways to first get access to a GPU and secondly get PyTorch to use the GPU.\n",
        "\n",
        "> **Note:** When I reference \"GPU\" throughout this course, I'm referencing a [Nvidia GPU with CUDA](https://developer.nvidia.com/cuda-gpus) enabled (CUDA is a computing platform and API that helps allow GPUs be used for general purpose computing & not just graphics) unless otherwise specified.\n",
        "\n"
      ]
    },
    {
      "cell_type": "markdown",
      "metadata": {
        "id": "0UiR6QpoYQH_"
      },
      "source": [
        "\n",
        "### 1. Getting a GPU\n",
        "\n",
        "You may already know what's going on when I say GPU. But if not, there are a few ways to get access to one.\n",
        "\n",
        "| **Method** | **Difficulty to setup** | **Pros** | **Cons** | **How to setup** |\n",
        "| ----- | ----- | ----- | ----- | ----- |\n",
        "| Google Colab | Easy | Free to use, almost zero setup required, can share work with others as easy as a link | Doesn't save your data outputs, limited compute, subject to timeouts | [Follow the Google Colab Guide](https://colab.research.google.com/notebooks/gpu.ipynb) |\n",
        "| Use your own | Medium | Run everything locally on your own machine | GPUs aren't free, require upfront cost | Follow the [PyTorch installation guidelines](https://pytorch.org/get-started/locally/) |\n",
        "| Cloud computing (AWS, GCP, Azure) | Medium-Hard | Small upfront cost, access to almost infinite compute | Can get expensive if running continually, takes some time to setup right | Follow the [PyTorch installation guidelines](https://pytorch.org/get-started/cloud-partners/) |\n",
        "\n",
        "There are more options for using GPUs but the above three will suffice for now.\n",
        "\n",
        "Personally, I use a combination of Google Colab and my own personal computer for small scale experiments (and creating this course) and go to cloud resources when I need more compute power.\n",
        "\n",
        "> **Resource:** If you're looking to purchase a GPU of your own but not sure what to get, [Tim Dettmers has an excellent guide](https://timdettmers.com/2020/09/07/which-gpu-for-deep-learning/).\n",
        "\n",
        "To check if you've got access to a Nvidia GPU, you can run `!nvidia-smi` where the `!` (also called bang) means \"run this on the command line\".\n",
        "\n"
      ]
    },
    {
      "cell_type": "code",
      "execution_count": 71,
      "metadata": {
        "colab": {
          "base_uri": "https://localhost:8080/"
        },
        "id": "vEMcO-9zYc-w",
        "outputId": "e989acd4-f8a5-4250-8456-f01177333937"
      },
      "outputs": [
        {
          "output_type": "stream",
          "name": "stdout",
          "text": [
            "Fri Jan  5 07:04:09 2024       \n",
            "+---------------------------------------------------------------------------------------+\n",
            "| NVIDIA-SMI 535.104.05             Driver Version: 535.104.05   CUDA Version: 12.2     |\n",
            "|-----------------------------------------+----------------------+----------------------+\n",
            "| GPU  Name                 Persistence-M | Bus-Id        Disp.A | Volatile Uncorr. ECC |\n",
            "| Fan  Temp   Perf          Pwr:Usage/Cap |         Memory-Usage | GPU-Util  Compute M. |\n",
            "|                                         |                      |               MIG M. |\n",
            "|=========================================+======================+======================|\n",
            "|   0  Tesla T4                       Off | 00000000:00:04.0 Off |                    0 |\n",
            "| N/A   55C    P8              10W /  70W |      0MiB / 15360MiB |      0%      Default |\n",
            "|                                         |                      |                  N/A |\n",
            "+-----------------------------------------+----------------------+----------------------+\n",
            "                                                                                         \n",
            "+---------------------------------------------------------------------------------------+\n",
            "| Processes:                                                                            |\n",
            "|  GPU   GI   CI        PID   Type   Process name                            GPU Memory |\n",
            "|        ID   ID                                                             Usage      |\n",
            "|=======================================================================================|\n",
            "|  No running processes found                                                           |\n",
            "+---------------------------------------------------------------------------------------+\n"
          ]
        }
      ],
      "source": [
        "!nvidia-smi"
      ]
    },
    {
      "cell_type": "markdown",
      "source": [
        "Perintah !nvidia-smi digunakan untuk menampilkan informasi mengenai penggunaan GPU pada sistem yang menggunakan GPU NVIDIA. Hasilnya akan menampilkan berbagai informasi terkait GPU yang terpasang, seperti model GPU, penggunaan memori, persentase penggunaan GPU, dan daftar proses yang sedang menggunakan GPU pada saat itu."
      ],
      "metadata": {
        "id": "8wrrvRM8aSbo"
      }
    },
    {
      "cell_type": "markdown",
      "metadata": {
        "id": "HvkB9p5zYf8E"
      },
      "source": [
        "If you don't have a Nvidia GPU accessible, the above will output something like:\n",
        "\n",
        "```\n",
        "NVIDIA-SMI has failed because it couldn't communicate with the NVIDIA driver. Make sure that the latest NVIDIA driver is installed and running.\n",
        "```\n",
        "\n",
        "In that case, go back up and follow the install steps.\n",
        "\n",
        "If you do have a GPU, the line above will output something like:\n",
        "\n",
        "```\n",
        "Wed Jan 19 22:09:08 2022       \n",
        "+-----------------------------------------------------------------------------+\n",
        "| NVIDIA-SMI 495.46       Driver Version: 460.32.03    CUDA Version: 11.2     |\n",
        "|-------------------------------+----------------------+----------------------+\n",
        "| GPU  Name        Persistence-M| Bus-Id        Disp.A | Volatile Uncorr. ECC |\n",
        "| Fan  Temp  Perf  Pwr:Usage/Cap|         Memory-Usage | GPU-Util  Compute M. |\n",
        "|                               |                      |               MIG M. |\n",
        "|===============================+======================+======================|\n",
        "|   0  Tesla P100-PCIE...  Off  | 00000000:00:04.0 Off |                    0 |\n",
        "| N/A   35C    P0    27W / 250W |      0MiB / 16280MiB |      0%      Default |\n",
        "|                               |                      |                  N/A |\n",
        "+-------------------------------+----------------------+----------------------+\n",
        "                                                                               \n",
        "+-----------------------------------------------------------------------------+\n",
        "| Processes:                                                                  |\n",
        "|  GPU   GI   CI        PID   Type   Process name                  GPU Memory |\n",
        "|        ID   ID                                                   Usage      |\n",
        "|=============================================================================|\n",
        "|  No running processes found                                                 |\n",
        "+-----------------------------------------------------------------------------+\n",
        "```"
      ]
    },
    {
      "cell_type": "markdown",
      "metadata": {
        "id": "UvibZ6e0YcDk"
      },
      "source": [
        "\n",
        "\n",
        "### 2. Getting PyTorch to run on the GPU\n",
        "\n",
        "Once you've got a GPU ready to access, the next step is getting PyTorch to use for storing data (tensors) and computing on data (performing operations on tensors).\n",
        "\n",
        "To do so, you can use the [`torch.cuda`](https://pytorch.org/docs/stable/cuda.html) package.\n",
        "\n",
        "Rather than talk about it, let's try it out.\n",
        "\n",
        "You can test if PyTorch has access to a GPU using [`torch.cuda.is_available()`](https://pytorch.org/docs/stable/generated/torch.cuda.is_available.html#torch.cuda.is_available).\n"
      ]
    },
    {
      "cell_type": "code",
      "execution_count": 72,
      "metadata": {
        "colab": {
          "base_uri": "https://localhost:8080/"
        },
        "id": "OweDLgwjEvZ2",
        "outputId": "9f0dbbd7-66a1-485f-c87d-2b8806bbfe45"
      },
      "outputs": [
        {
          "output_type": "execute_result",
          "data": {
            "text/plain": [
              "True"
            ]
          },
          "metadata": {},
          "execution_count": 72
        }
      ],
      "source": [
        "# Check for GPU\n",
        "import torch\n",
        "torch.cuda.is_available()"
      ]
    },
    {
      "cell_type": "markdown",
      "source": [
        "Potongan kode menggunakan fungsi torch.cuda.is_available() untuk memeriksa ketersediaan penggunaan GPU dalam sistem. Hasilnya adalah nilai boolean True jika sistem memiliki GPU yang dapat digunakan untuk komputasi oleh PyTorch, dan False jika tidak ada GPU yang tersedia atau jika PyTorch tidak dapat mengaksesnya."
      ],
      "metadata": {
        "id": "DqqfvVE-aZZw"
      }
    },
    {
      "cell_type": "markdown",
      "metadata": {
        "id": "jedZcx2PZFpL"
      },
      "source": [
        "If the above outputs `True`, PyTorch can see and use the GPU, if it outputs `False`, it can't see the GPU and in that case, you'll have to go back through the installation steps.\n",
        "\n",
        "Now, let's say you wanted to setup your code so it ran on CPU *or* the GPU if it was available.\n",
        "\n",
        "That way, if you or someone decides to run your code, it'll work regardless of the computing device they're using.\n",
        "\n",
        "Let's create a `device` variable to store what kind of device is available."
      ]
    },
    {
      "cell_type": "code",
      "execution_count": 73,
      "metadata": {
        "colab": {
          "base_uri": "https://localhost:8080/",
          "height": 36
        },
        "id": "j92HBCKB7rYa",
        "outputId": "f048ea0f-d788-4a8d-802c-b63e2cb22bd4"
      },
      "outputs": [
        {
          "output_type": "execute_result",
          "data": {
            "text/plain": [
              "'cuda'"
            ],
            "application/vnd.google.colaboratory.intrinsic+json": {
              "type": "string"
            }
          },
          "metadata": {},
          "execution_count": 73
        }
      ],
      "source": [
        "# Set device type\n",
        "device = \"cuda\" if torch.cuda.is_available() else \"cpu\"\n",
        "device"
      ]
    },
    {
      "cell_type": "markdown",
      "source": [
        "Potongan kode menggunakan ekspresi ternary if untuk menetapkan nilai variabel device sesuai kondisi ketersediaan GPU dengan bantuan fungsi torch.cuda.is_available(). Jika sistem memiliki GPU yang dapat digunakan untuk komputasi oleh PyTorch, variabel device akan diatur sebagai string \"cuda\", menandakan penggunaan GPU untuk operasi PyTorch. Jika tidak, device akan diatur sebagai string \"cpu\", menandakan penggunaan CPU untuk operasi PyTorch."
      ],
      "metadata": {
        "id": "6RkL7qw7ajc9"
      }
    },
    {
      "cell_type": "markdown",
      "metadata": {
        "id": "FjFyPP2WaCch"
      },
      "source": [
        "If the above output `\"cuda\"` it means we can set all of our PyTorch code to use the available CUDA device (a GPU) and if it output `\"cpu\"`, our PyTorch code will stick with the CPU.\n",
        "\n",
        "> **Note:** In PyTorch, it's best practice to write [**device agnostic code**](https://pytorch.org/docs/master/notes/cuda.html#device-agnostic-code). This means code that'll run on CPU (always available) or GPU (if available).\n",
        "\n",
        "If you want to do faster computing you can use a GPU but if you want to do *much* faster computing, you can use multiple GPUs.\n",
        "\n",
        "You can count the number of GPUs PyTorch has access to using [`torch.cuda.device_count()`](https://pytorch.org/docs/stable/generated/torch.cuda.device_count.html#torch.cuda.device_count)."
      ]
    },
    {
      "cell_type": "code",
      "execution_count": 74,
      "metadata": {
        "colab": {
          "base_uri": "https://localhost:8080/"
        },
        "id": "MArsn0DFTGfG",
        "outputId": "ad79ff28-fcec-4713-812b-d9934489590d"
      },
      "outputs": [
        {
          "output_type": "execute_result",
          "data": {
            "text/plain": [
              "1"
            ]
          },
          "metadata": {},
          "execution_count": 74
        }
      ],
      "source": [
        "# Count number of devices\n",
        "torch.cuda.device_count()"
      ]
    },
    {
      "cell_type": "markdown",
      "source": [
        "Fungsi torch.cuda.device_count() digunakan untuk menghitung jumlah perangkat GPU yang tersedia pada sistem saat menggunakan PyTorch. Hasilnya adalah bilangan bulat yang menunjukkan jumlah perangkat GPU yang terdeteksi dan dapat digunakan oleh PyTorch untuk komputasi."
      ],
      "metadata": {
        "id": "e__iF5LOaokf"
      }
    },
    {
      "cell_type": "markdown",
      "metadata": {
        "id": "xVNf1hiqa-gO"
      },
      "source": [
        "Knowing the number of GPUs PyTorch has access to is helpful incase you wanted to run a specific process on one GPU and another process on another (PyTorch also has features to let you run a process across *all* GPUs)."
      ]
    },
    {
      "cell_type": "markdown",
      "metadata": {
        "id": "XqQLcuj68OA-"
      },
      "source": [
        "### 3. Putting tensors (and models) on the GPU\n",
        "\n",
        "You can put tensors (and models, we'll see this later) on a specific device by calling [`to(device)`](https://pytorch.org/docs/stable/generated/torch.Tensor.to.html) on them. Where `device` is the target device you'd like the tensor (or model) to go to.\n",
        "\n",
        "Why do this?\n",
        "\n",
        "GPUs offer far faster numerical computing than CPUs do and if a GPU isn't available, because of our **device agnostic code** (see above), it'll run on the CPU.\n",
        "\n",
        "> **Note:** Putting a tensor on GPU using `to(device)` (e.g. `some_tensor.to(device)`) returns a copy of that tensor, e.g. the same tensor will be on CPU and GPU. To overwrite tensors, reassign them:\n",
        ">\n",
        "> `some_tensor = some_tensor.to(device)`\n",
        "\n",
        "Let's try creating a tensor and putting it on the GPU (if it's available)."
      ]
    },
    {
      "cell_type": "code",
      "execution_count": 75,
      "metadata": {
        "colab": {
          "base_uri": "https://localhost:8080/"
        },
        "id": "FhI3srFXEHfP",
        "outputId": "0b260dc7-1952-48f7-ea01-465daea63c14"
      },
      "outputs": [
        {
          "output_type": "stream",
          "name": "stdout",
          "text": [
            "tensor([1, 2, 3]) cpu\n"
          ]
        },
        {
          "output_type": "execute_result",
          "data": {
            "text/plain": [
              "tensor([1, 2, 3], device='cuda:0')"
            ]
          },
          "metadata": {},
          "execution_count": 75
        }
      ],
      "source": [
        "# Create tensor (default on CPU)\n",
        "tensor = torch.tensor([1, 2, 3])\n",
        "\n",
        "# Tensor not on GPU\n",
        "print(tensor, tensor.device)\n",
        "\n",
        "# Move tensor to GPU (if available)\n",
        "tensor_on_gpu = tensor.to(device)\n",
        "tensor_on_gpu"
      ]
    },
    {
      "cell_type": "markdown",
      "source": [
        "Potongan kode menciptakan sebuah tensor dengan nilai [1, 2, 3] yang secara default ditempatkan pada CPU, ditandai dengan informasi perangkat tensor.device yang menunjukkan bahwa tensor tersebut berada di CPU. Langkah selanjutnya menggunakan metode to() untuk memindahkan tensor ke perangkat yang ditentukan oleh variabel device, yang sebelumnya telah ditetapkan berdasarkan ketersediaan GPU atau CPU."
      ],
      "metadata": {
        "id": "Dv3F-YogaybO"
      }
    },
    {
      "cell_type": "markdown",
      "metadata": {
        "id": "DxXeRKO0TGfG"
      },
      "source": [
        "If you have a GPU available, the above code will output something like:\n",
        "\n",
        "```\n",
        "tensor([1, 2, 3]) cpu\n",
        "tensor([1, 2, 3], device='cuda:0')\n",
        "```\n",
        "\n",
        "Notice the second tensor has `device='cuda:0'`, this means it's stored on the 0th GPU available (GPUs are 0 indexed, if two GPUs were available, they'd be `'cuda:0'` and `'cuda:1'` respectively, up to `'cuda:n'`).\n",
        "\n"
      ]
    },
    {
      "cell_type": "markdown",
      "metadata": {
        "id": "4puyUX4Bci5D"
      },
      "source": [
        "### 4. Moving tensors back to the CPU\n",
        "\n",
        "What if we wanted to move the tensor back to CPU?\n",
        "\n",
        "For example, you'll want to do this if you want to interact with your tensors with NumPy (NumPy does not leverage the GPU).\n",
        "\n",
        "Let's try using the [`torch.Tensor.numpy()`](https://pytorch.org/docs/stable/generated/torch.Tensor.numpy.html) method on our `tensor_on_gpu`."
      ]
    },
    {
      "cell_type": "code",
      "execution_count": 76,
      "metadata": {
        "colab": {
          "base_uri": "https://localhost:8080/"
        },
        "id": "3ChSLJgPTGfG",
        "outputId": "b58e11b6-5a3a-431c-a1fd-c35fc05d73e4"
      },
      "outputs": [
        {
          "output_type": "execute_result",
          "data": {
            "text/plain": [
              "tensor([1, 2, 3])"
            ]
          },
          "metadata": {},
          "execution_count": 76
        }
      ],
      "source": [
        "# If tensor is on GPU, can't transform it to NumPy (this will error)\n",
        "tensor.cpu()"
      ]
    },
    {
      "cell_type": "markdown",
      "source": [
        "Potongan kode tensor.cpu() digunakan untuk memindahkan tensor dari GPU kembali ke CPU. Namun, dalam kasus ini, tensor telah ditempatkan pada GPU menggunakan metode to(device) sebelumnya. Ketika kita mencoba memanggil tensor.cpu() untuk memindahkan tensor dari GPU ke CPU, ini akan menghasilkan kesalahan. Hal ini disebabkan oleh fakta bahwa operasi cpu() tidak dapat diterapkan pada tensor yang sudah berada di CPU; ia dirancang untuk memindahkan tensor dari GPU ke CPU."
      ],
      "metadata": {
        "id": "Oz7ouFCRa3cG"
      }
    },
    {
      "cell_type": "markdown",
      "metadata": {
        "id": "LhymtkRDTGfG"
      },
      "source": [
        "Instead, to get a tensor back to CPU and usable with NumPy we can use [`Tensor.cpu()`](https://pytorch.org/docs/stable/generated/torch.Tensor.cpu.html).\n",
        "\n",
        "This copies the tensor to CPU memory so it's usable with CPUs."
      ]
    },
    {
      "cell_type": "code",
      "execution_count": 77,
      "metadata": {
        "colab": {
          "base_uri": "https://localhost:8080/"
        },
        "id": "gN15s-NdTGfG",
        "outputId": "e637ded6-35ce-43e9-8bc4-9dce75b91f0f"
      },
      "outputs": [
        {
          "output_type": "execute_result",
          "data": {
            "text/plain": [
              "array([1, 2, 3])"
            ]
          },
          "metadata": {},
          "execution_count": 77
        }
      ],
      "source": [
        "# Instead, copy the tensor back to cpu\n",
        "tensor_back_on_cpu = tensor_on_gpu.cpu().numpy()\n",
        "tensor_back_on_cpu"
      ]
    },
    {
      "cell_type": "markdown",
      "source": [
        "Potongan kode tensor_on_gpu.cpu().numpy() digunakan untuk mengembalikan tensor yang sudah berada di GPU ke CPU dengan menggunakan metode cpu() untuk memindahkan tensor dari GPU ke CPU, dan kemudian menggunakan metode numpy() untuk mengonversi tensor PyTorch menjadi array NumPy."
      ],
      "metadata": {
        "id": "uoqpX2_Da_5u"
      }
    },
    {
      "cell_type": "markdown",
      "metadata": {
        "id": "qyzNH5lrTGfH"
      },
      "source": [
        "The above returns a copy of the GPU tensor in CPU memory so the original tensor is still on GPU."
      ]
    },
    {
      "cell_type": "code",
      "execution_count": 78,
      "metadata": {
        "colab": {
          "base_uri": "https://localhost:8080/"
        },
        "id": "S5u83PCRTGfH",
        "outputId": "5830dc3a-c399-4cf1-e1b7-48b8a6d7a896"
      },
      "outputs": [
        {
          "output_type": "execute_result",
          "data": {
            "text/plain": [
              "tensor([1, 2, 3], device='cuda:0')"
            ]
          },
          "metadata": {},
          "execution_count": 78
        }
      ],
      "source": [
        "tensor_on_gpu"
      ]
    },
    {
      "cell_type": "markdown",
      "source": [
        "Variabel tensor_on_gpu merupakan tensor PyTorch yang sebelumnya telah dipindahkan dari CPU ke GPU dengan menggunakan metode to(device) untuk memanfaatkan sumber daya komputasi GPU jika tersedia. Tensor ini berisi nilai yang sama seperti tensor awalnya, tetapi sekarang ditempatkan di GPU. Penggunaan sumber daya GPU dapat meningkatkan kinerja dan kecepatan komputasi pada operasi PyTorch tertentu, terutama pada tugas-tugas yang memerlukan komputasi yang intensif seperti pelatihan model neural network."
      ],
      "metadata": {
        "id": "LeXei9VpbHMd"
      }
    },
    {
      "cell_type": "markdown",
      "metadata": {
        "id": "xlmBpnuPTGfH"
      },
      "source": [
        "## Exercises\n",
        "\n",
        "All of the exercises are focused on practicing the code above.\n",
        "\n",
        "You should be able to complete them by referencing each section or by following the resource(s) linked.\n",
        "\n",
        "**Resources:**\n",
        "\n",
        "* [Exercise template notebook for 00](https://github.com/mrdbourke/pytorch-deep-learning/blob/main/extras/exercises/00_pytorch_fundamentals_exercises.ipynb).\n",
        "* [Example solutions notebook for 00](https://github.com/mrdbourke/pytorch-deep-learning/blob/main/extras/solutions/00_pytorch_fundamentals_exercise_solutions.ipynb) (try the exercises *before* looking at this).\n",
        "\n",
        "1. Documentation reading - A big part of deep learning (and learning to code in general) is getting familiar with the documentation of a certain framework you're using. We'll be using the PyTorch documentation a lot throughout the rest of this course. So I'd recommend spending 10-minutes reading the following (it's okay if you don't get some things for now, the focus is not yet full understanding, it's awareness). See the documentation on [`torch.Tensor`](https://pytorch.org/docs/stable/tensors.html#torch-tensor) and for [`torch.cuda`](https://pytorch.org/docs/master/notes/cuda.html#cuda-semantics).\n",
        "2. Create a random tensor with shape `(7, 7)`.\n",
        "3. Perform a matrix multiplication on the tensor from 2 with another random tensor with shape `(1, 7)` (hint: you may have to transpose the second tensor).\n",
        "4. Set the random seed to `0` and do exercises 2 & 3 over again.\n",
        "5. Speaking of random seeds, we saw how to set it with `torch.manual_seed()` but is there a GPU equivalent? (hint: you'll need to look into the documentation for `torch.cuda` for this one). If there is, set the GPU random seed to `1234`.\n",
        "6. Create two random tensors of shape `(2, 3)` and send them both to the GPU (you'll need access to a GPU for this). Set `torch.manual_seed(1234)` when creating the tensors (this doesn't have to be the GPU random seed).\n",
        "7. Perform a matrix multiplication on the tensors you created in 6 (again, you may have to adjust the shapes of one of the tensors).\n",
        "8. Find the maximum and minimum values of the output of 7.\n",
        "9. Find the maximum and minimum index values of the output of 7.\n",
        "10. Make a random tensor with shape `(1, 1, 1, 10)` and then create a new tensor with all the `1` dimensions removed to be left with a tensor of shape `(10)`. Set the seed to `7` when you create it and print out the first tensor and it's shape as well as the second tensor and it's shape."
      ]
    },
    {
      "cell_type": "markdown",
      "metadata": {
        "id": "9sIpCuWVc_If"
      },
      "source": [
        "## Extra-curriculum\n",
        "\n",
        "* Spend 1-hour going through the [PyTorch basics tutorial](https://pytorch.org/tutorials/beginner/basics/intro.html) (I'd recommend the [Quickstart](https://pytorch.org/tutorials/beginner/basics/quickstart_tutorial.html) and [Tensors](https://pytorch.org/tutorials/beginner/basics/tensorqs_tutorial.html) sections).\n",
        "* To learn more on how a tensor can represent data, see this video: [What's a tensor?](https://youtu.be/f5liqUk0ZTw)"
      ]
    }
  ],
  "metadata": {
    "accelerator": "GPU",
    "colab": {
      "provenance": [],
      "gpuType": "T4",
      "include_colab_link": true
    },
    "interpreter": {
      "hash": "3fbe1355223f7b2ffc113ba3ade6a2b520cadace5d5ec3e828c83ce02eb221bf"
    },
    "kernelspec": {
      "display_name": "Python 3",
      "name": "python3"
    },
    "language_info": {
      "codemirror_mode": {
        "name": "ipython",
        "version": 3
      },
      "file_extension": ".py",
      "mimetype": "text/x-python",
      "name": "python",
      "nbconvert_exporter": "python",
      "pygments_lexer": "ipython3",
      "version": "3.8.13"
    }
  },
  "nbformat": 4,
  "nbformat_minor": 0
}