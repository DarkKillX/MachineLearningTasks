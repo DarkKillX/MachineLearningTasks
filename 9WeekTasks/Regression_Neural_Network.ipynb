{
  "nbformat": 4,
  "nbformat_minor": 0,
  "metadata": {
    "colab": {
      "provenance": [],
      "include_colab_link": true
    },
    "kernelspec": {
      "name": "python3",
      "display_name": "Python 3"
    },
    "language_info": {
      "name": "python"
    }
  },
  "cells": [
    {
      "cell_type": "markdown",
      "metadata": {
        "id": "view-in-github",
        "colab_type": "text"
      },
      "source": [
        "<a href=\"https://colab.research.google.com/github/DarkKillX/MachineLearningTasks/blob/main/9WeekTasks/Regression_Neural_Network.ipynb\" target=\"_parent\"><img src=\"https://colab.research.google.com/assets/colab-badge.svg\" alt=\"Open In Colab\"/></a>"
      ]
    },
    {
      "cell_type": "markdown",
      "source": [
        "Nama : Dery Hidayat\n",
        "\n",
        "NIM: 1103228181"
      ],
      "metadata": {
        "id": "5FEMV8TMW7E5"
      }
    },
    {
      "cell_type": "markdown",
      "source": [
        "Prompt: saya punya dua array, x dan y. x berisi [1.0, 2.0, 3.0, 4.0, 5.0, 6.0, 7.0, 8.0], dan y berisi [4.0, 6.0, 8.0, 10.0, 12.0, 14.0, 16.0,]. Saya ingin tahu apa yang bisa saya lakukan dengan array ini, seperti pengolahan data atau analisis sederhana. Ada saran atau ide tentang apa yang bisa saya coba? dalam phyton"
      ],
      "metadata": {
        "id": "V5xMSqmLXNHZ"
      }
    },
    {
      "cell_type": "markdown",
      "source": [
        "Promt: dalam neural network classification"
      ],
      "metadata": {
        "id": "LhL4-cSElMte"
      }
    },
    {
      "cell_type": "code",
      "execution_count": 2,
      "metadata": {
        "id": "4aqJeTWadcw7",
        "colab": {
          "base_uri": "https://localhost:8080/"
        },
        "outputId": "86647979-7ce3-4b30-81af-b4488935cb34"
      },
      "outputs": [
        {
          "output_type": "stream",
          "name": "stdout",
          "text": [
            "Epoch 1/50\n",
            "6/6 [==============================] - 1s 4ms/step - loss: 1.1781 - accuracy: 0.1667\n",
            "Epoch 2/50\n",
            "6/6 [==============================] - 0s 3ms/step - loss: 1.1750 - accuracy: 0.1667\n",
            "Epoch 3/50\n",
            "6/6 [==============================] - 0s 3ms/step - loss: 1.1721 - accuracy: 0.1667\n",
            "Epoch 4/50\n",
            "6/6 [==============================] - 0s 3ms/step - loss: 1.1690 - accuracy: 0.1667\n",
            "Epoch 5/50\n",
            "6/6 [==============================] - 0s 3ms/step - loss: 1.1662 - accuracy: 0.1667\n",
            "Epoch 6/50\n",
            "6/6 [==============================] - 0s 3ms/step - loss: 1.1631 - accuracy: 0.1667\n",
            "Epoch 7/50\n",
            "6/6 [==============================] - 0s 3ms/step - loss: 1.1606 - accuracy: 0.1667\n",
            "Epoch 8/50\n",
            "6/6 [==============================] - 0s 3ms/step - loss: 1.1579 - accuracy: 0.1667\n",
            "Epoch 9/50\n",
            "6/6 [==============================] - 0s 3ms/step - loss: 1.1544 - accuracy: 0.1667\n",
            "Epoch 10/50\n",
            "6/6 [==============================] - 0s 3ms/step - loss: 1.1517 - accuracy: 0.1667\n",
            "Epoch 11/50\n",
            "6/6 [==============================] - 0s 2ms/step - loss: 1.1492 - accuracy: 0.1667\n",
            "Epoch 12/50\n",
            "6/6 [==============================] - 0s 3ms/step - loss: 1.1461 - accuracy: 0.1667\n",
            "Epoch 13/50\n",
            "6/6 [==============================] - 0s 3ms/step - loss: 1.1431 - accuracy: 0.1667\n",
            "Epoch 14/50\n",
            "6/6 [==============================] - 0s 3ms/step - loss: 1.1405 - accuracy: 0.1667\n",
            "Epoch 15/50\n",
            "6/6 [==============================] - 0s 3ms/step - loss: 1.1372 - accuracy: 0.1667\n",
            "Epoch 16/50\n",
            "6/6 [==============================] - 0s 3ms/step - loss: 1.1345 - accuracy: 0.1667\n",
            "Epoch 17/50\n",
            "6/6 [==============================] - 0s 3ms/step - loss: 1.1315 - accuracy: 0.1667\n",
            "Epoch 18/50\n",
            "6/6 [==============================] - 0s 3ms/step - loss: 1.1290 - accuracy: 0.1667\n",
            "Epoch 19/50\n",
            "6/6 [==============================] - 0s 3ms/step - loss: 1.1256 - accuracy: 0.1667\n",
            "Epoch 20/50\n",
            "6/6 [==============================] - 0s 3ms/step - loss: 1.1235 - accuracy: 0.1667\n",
            "Epoch 21/50\n",
            "6/6 [==============================] - 0s 3ms/step - loss: 1.1202 - accuracy: 0.1667\n",
            "Epoch 22/50\n",
            "6/6 [==============================] - 0s 3ms/step - loss: 1.1177 - accuracy: 0.1667\n",
            "Epoch 23/50\n",
            "6/6 [==============================] - 0s 3ms/step - loss: 1.1150 - accuracy: 0.1667\n",
            "Epoch 24/50\n",
            "6/6 [==============================] - 0s 3ms/step - loss: 1.1117 - accuracy: 0.1667\n",
            "Epoch 25/50\n",
            "6/6 [==============================] - 0s 3ms/step - loss: 1.1090 - accuracy: 0.1667\n",
            "Epoch 26/50\n",
            "6/6 [==============================] - 0s 4ms/step - loss: 1.1060 - accuracy: 0.1667\n",
            "Epoch 27/50\n",
            "6/6 [==============================] - 0s 3ms/step - loss: 1.1036 - accuracy: 0.1667\n",
            "Epoch 28/50\n",
            "6/6 [==============================] - 0s 4ms/step - loss: 1.1010 - accuracy: 0.1667\n",
            "Epoch 29/50\n",
            "6/6 [==============================] - 0s 4ms/step - loss: 1.0978 - accuracy: 0.1667\n",
            "Epoch 30/50\n",
            "6/6 [==============================] - 0s 3ms/step - loss: 1.0956 - accuracy: 0.1667\n",
            "Epoch 31/50\n",
            "6/6 [==============================] - 0s 3ms/step - loss: 1.0926 - accuracy: 0.1667\n",
            "Epoch 32/50\n",
            "6/6 [==============================] - 0s 3ms/step - loss: 1.0899 - accuracy: 0.1667\n",
            "Epoch 33/50\n",
            "6/6 [==============================] - 0s 3ms/step - loss: 1.0869 - accuracy: 0.1667\n",
            "Epoch 34/50\n",
            "6/6 [==============================] - 0s 3ms/step - loss: 1.0842 - accuracy: 0.1667\n",
            "Epoch 35/50\n",
            "6/6 [==============================] - 0s 3ms/step - loss: 1.0815 - accuracy: 0.1667\n",
            "Epoch 36/50\n",
            "6/6 [==============================] - 0s 3ms/step - loss: 1.0787 - accuracy: 0.1667\n",
            "Epoch 37/50\n",
            "6/6 [==============================] - 0s 3ms/step - loss: 1.0758 - accuracy: 0.1667\n",
            "Epoch 38/50\n",
            "6/6 [==============================] - 0s 3ms/step - loss: 1.0731 - accuracy: 0.1667\n",
            "Epoch 39/50\n",
            "6/6 [==============================] - 0s 3ms/step - loss: 1.0704 - accuracy: 0.1667\n",
            "Epoch 40/50\n",
            "6/6 [==============================] - 0s 3ms/step - loss: 1.0680 - accuracy: 0.1667\n",
            "Epoch 41/50\n",
            "6/6 [==============================] - 0s 3ms/step - loss: 1.0651 - accuracy: 0.1667\n",
            "Epoch 42/50\n",
            "6/6 [==============================] - 0s 3ms/step - loss: 1.0626 - accuracy: 0.1667\n",
            "Epoch 43/50\n",
            "6/6 [==============================] - 0s 3ms/step - loss: 1.0596 - accuracy: 0.1667\n",
            "Epoch 44/50\n",
            "6/6 [==============================] - 0s 3ms/step - loss: 1.0571 - accuracy: 0.1667\n",
            "Epoch 45/50\n",
            "6/6 [==============================] - 0s 3ms/step - loss: 1.0547 - accuracy: 0.1667\n",
            "Epoch 46/50\n",
            "6/6 [==============================] - 0s 3ms/step - loss: 1.0517 - accuracy: 0.1667\n",
            "Epoch 47/50\n",
            "6/6 [==============================] - 0s 3ms/step - loss: 1.0491 - accuracy: 0.1667\n",
            "Epoch 48/50\n",
            "6/6 [==============================] - 0s 3ms/step - loss: 1.0462 - accuracy: 0.1667\n",
            "Epoch 49/50\n",
            "6/6 [==============================] - 0s 3ms/step - loss: 1.0441 - accuracy: 0.1667\n",
            "Epoch 50/50\n",
            "6/6 [==============================] - 0s 3ms/step - loss: 1.0410 - accuracy: 0.1667\n",
            "1/1 [==============================] - 0s 210ms/step - loss: 1.0780 - accuracy: 0.0000e+00\n",
            "\n",
            "Accuracy on test data: 0.0\n",
            "1/1 [==============================] - 0s 81ms/step\n",
            "\n",
            "Predictions:\n",
            "[[0.71815515]\n",
            " [0.41081658]]\n"
          ]
        }
      ],
      "source": [
        "import numpy as np\n",
        "import tensorflow as tf\n",
        "from sklearn.model_selection import train_test_split\n",
        "from sklearn.preprocessing import StandardScaler\n",
        "from tensorflow.keras.models import Sequential\n",
        "from tensorflow.keras.layers import Dense\n",
        "\n",
        "# Data\n",
        "x = np.array([1.0, 2.0, 3.0, 4.0, 5.0, 6.0, 7.0, 8.0], dtype=float)\n",
        "y = np.array([0, 0, 0, 1, 1, 1, 1, 1], dtype=int)  # Assuming binary classification, adjust as needed\n",
        "\n",
        "# Reshape x to meet the input shape requirements of the neural network\n",
        "x = x.reshape(-1, 1)\n",
        "\n",
        "# Split the data into training and testing sets\n",
        "x_train, x_test, y_train, y_test = train_test_split(x, y, test_size=0.2, random_state=42)\n",
        "\n",
        "# Normalize the data using StandardScaler\n",
        "scaler = StandardScaler()\n",
        "x_train_scaled = scaler.fit_transform(x_train)\n",
        "x_test_scaled = scaler.transform(x_test)\n",
        "\n",
        "# Build the neural network model\n",
        "model = Sequential()\n",
        "model.add(Dense(1, input_dim=1, activation='sigmoid'))\n",
        "\n",
        "# Compile the model\n",
        "model.compile(optimizer='adam', loss='binary_crossentropy', metrics=['accuracy'])\n",
        "\n",
        "# Train the model\n",
        "model.fit(x_train_scaled, y_train, epochs=50, batch_size=1, verbose=1)\n",
        "\n",
        "# Evaluate the model on test data\n",
        "accuracy = model.evaluate(x_test_scaled, y_test, verbose=1)\n",
        "print(f'\\nAccuracy on test data: {accuracy[1]}')\n",
        "\n",
        "# Predictions\n",
        "predictions = model.predict(x_test_scaled)\n",
        "print('\\nPredictions:')\n",
        "print(predictions)\n"
      ]
    }
  ]
}